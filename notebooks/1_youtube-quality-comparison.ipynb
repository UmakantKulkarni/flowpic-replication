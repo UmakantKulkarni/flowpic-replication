{
 "cells": [
  {
   "cell_type": "markdown",
   "metadata": {},
   "source": [
    "# Comparing packet behavior while streaming from YouTube at different resolutions"
   ]
  },
  {
   "cell_type": "code",
   "execution_count": 1,
   "metadata": {},
   "outputs": [],
   "source": [
    "# Imports\n",
    "import pandas as pd\n",
    "import numpy as np\n",
    "import matplotlib.pyplot as plt\n",
    "\n",
    "import glob\n",
    "import re"
   ]
  },
  {
   "cell_type": "code",
   "execution_count": 55,
   "metadata": {},
   "outputs": [],
   "source": [
    "# Load in files\n",
    "frames = []\n",
    "for fp in glob.glob('../data/unzipped/*p-*novpn*.csv'):\n",
    "    df = pd.read_csv(fp)\n",
    "    df['quality'] = int(re.findall(r\"(\\d{3,4})p\", fp)[0])\n",
    "    # Trim all to exactly 5 minutes\n",
    "    df = df[df.Time <= df.Time.min() + 5*60]\n",
    "    frames.append(df)\n",
    "    \n",
    "# Join into a single table\n",
    "raw = pd.concat(frames).sort_values(['quality', 'Time'])\n",
    "raw['Time'] = pd.to_datetime(raw['Time'], unit='s')"
   ]
  },
  {
   "cell_type": "code",
   "execution_count": 56,
   "metadata": {},
   "outputs": [
    {
     "data": {
      "text/html": [
       "<div>\n",
       "<style scoped>\n",
       "    .dataframe tbody tr th:only-of-type {\n",
       "        vertical-align: middle;\n",
       "    }\n",
       "\n",
       "    .dataframe tbody tr th {\n",
       "        vertical-align: top;\n",
       "    }\n",
       "\n",
       "    .dataframe thead th {\n",
       "        text-align: right;\n",
       "    }\n",
       "</style>\n",
       "<table border=\"1\" class=\"dataframe\">\n",
       "  <thead>\n",
       "    <tr style=\"text-align: right;\">\n",
       "      <th></th>\n",
       "      <th>Time</th>\n",
       "      <th>IP1</th>\n",
       "      <th>Port1</th>\n",
       "      <th>IP2</th>\n",
       "      <th>Port2</th>\n",
       "      <th>Proto</th>\n",
       "      <th>1-&gt;2Bytes</th>\n",
       "      <th>2-&gt;1Bytes</th>\n",
       "      <th>1-&gt;2Pkts</th>\n",
       "      <th>2-&gt;1Pkts</th>\n",
       "      <th>packet_times</th>\n",
       "      <th>packet_sizes</th>\n",
       "      <th>packet_dirs</th>\n",
       "      <th>quality</th>\n",
       "    </tr>\n",
       "  </thead>\n",
       "  <tbody>\n",
       "    <tr>\n",
       "      <th>80</th>\n",
       "      <td>2020-10-26 19:31:29</td>\n",
       "      <td>10.0.0.233</td>\n",
       "      <td>54262</td>\n",
       "      <td>255.255.255.255</td>\n",
       "      <td>10001</td>\n",
       "      <td>17</td>\n",
       "      <td>154</td>\n",
       "      <td>0</td>\n",
       "      <td>1</td>\n",
       "      <td>0</td>\n",
       "      <td>1603740689649;</td>\n",
       "      <td>154;</td>\n",
       "      <td>1;</td>\n",
       "      <td>480</td>\n",
       "    </tr>\n",
       "    <tr>\n",
       "      <th>155</th>\n",
       "      <td>2020-10-26 17:40:29</td>\n",
       "      <td>10.0.0.236</td>\n",
       "      <td>36322</td>\n",
       "      <td>54.203.112.76</td>\n",
       "      <td>443</td>\n",
       "      <td>6</td>\n",
       "      <td>52</td>\n",
       "      <td>52</td>\n",
       "      <td>1</td>\n",
       "      <td>1</td>\n",
       "      <td>1603734029727;1603734029727;</td>\n",
       "      <td>52;52;</td>\n",
       "      <td>2;1;</td>\n",
       "      <td>1080</td>\n",
       "    </tr>\n",
       "    <tr>\n",
       "      <th>500</th>\n",
       "      <td>2020-10-26 19:35:03</td>\n",
       "      <td>10.0.0.233</td>\n",
       "      <td>54376</td>\n",
       "      <td>255.255.255.255</td>\n",
       "      <td>10001</td>\n",
       "      <td>17</td>\n",
       "      <td>154</td>\n",
       "      <td>0</td>\n",
       "      <td>1</td>\n",
       "      <td>0</td>\n",
       "      <td>1603740903147;</td>\n",
       "      <td>154;</td>\n",
       "      <td>1;</td>\n",
       "      <td>480</td>\n",
       "    </tr>\n",
       "    <tr>\n",
       "      <th>161</th>\n",
       "      <td>2020-10-26 19:24:51</td>\n",
       "      <td>10.0.0.1</td>\n",
       "      <td>0</td>\n",
       "      <td>224.0.0.1</td>\n",
       "      <td>0</td>\n",
       "      <td>2</td>\n",
       "      <td>28</td>\n",
       "      <td>0</td>\n",
       "      <td>1</td>\n",
       "      <td>0</td>\n",
       "      <td>1603740291209;</td>\n",
       "      <td>28;</td>\n",
       "      <td>1;</td>\n",
       "      <td>720</td>\n",
       "    </tr>\n",
       "    <tr>\n",
       "      <th>27</th>\n",
       "      <td>2020-10-26 19:23:41</td>\n",
       "      <td>10.0.0.100</td>\n",
       "      <td>10101</td>\n",
       "      <td>239.255.255.251</td>\n",
       "      <td>10101</td>\n",
       "      <td>17</td>\n",
       "      <td>64</td>\n",
       "      <td>0</td>\n",
       "      <td>1</td>\n",
       "      <td>0</td>\n",
       "      <td>1603740221580;</td>\n",
       "      <td>64;</td>\n",
       "      <td>1;</td>\n",
       "      <td>720</td>\n",
       "    </tr>\n",
       "    <tr>\n",
       "      <th>314</th>\n",
       "      <td>2020-10-26 19:40:09</td>\n",
       "      <td>10.0.0.113</td>\n",
       "      <td>60000</td>\n",
       "      <td>10.0.0.236</td>\n",
       "      <td>57111</td>\n",
       "      <td>17</td>\n",
       "      <td>387</td>\n",
       "      <td>0</td>\n",
       "      <td>1</td>\n",
       "      <td>0</td>\n",
       "      <td>1603741209295;</td>\n",
       "      <td>387;</td>\n",
       "      <td>1;</td>\n",
       "      <td>360</td>\n",
       "    </tr>\n",
       "    <tr>\n",
       "      <th>56</th>\n",
       "      <td>2020-10-26 19:43:58</td>\n",
       "      <td>10.0.0.113</td>\n",
       "      <td>60000</td>\n",
       "      <td>10.0.0.91</td>\n",
       "      <td>45435</td>\n",
       "      <td>17</td>\n",
       "      <td>387</td>\n",
       "      <td>0</td>\n",
       "      <td>1</td>\n",
       "      <td>0</td>\n",
       "      <td>1603741438626;</td>\n",
       "      <td>387;</td>\n",
       "      <td>1;</td>\n",
       "      <td>240</td>\n",
       "    </tr>\n",
       "    <tr>\n",
       "      <th>48</th>\n",
       "      <td>2020-10-26 19:31:08</td>\n",
       "      <td>10.0.0.192</td>\n",
       "      <td>64677</td>\n",
       "      <td>239.255.255.250</td>\n",
       "      <td>1900</td>\n",
       "      <td>17</td>\n",
       "      <td>202</td>\n",
       "      <td>0</td>\n",
       "      <td>1</td>\n",
       "      <td>0</td>\n",
       "      <td>1603740668824;</td>\n",
       "      <td>202;</td>\n",
       "      <td>1;</td>\n",
       "      <td>480</td>\n",
       "    </tr>\n",
       "    <tr>\n",
       "      <th>127</th>\n",
       "      <td>2020-10-26 19:24:29</td>\n",
       "      <td>10.0.0.233</td>\n",
       "      <td>54037</td>\n",
       "      <td>255.255.255.255</td>\n",
       "      <td>10001</td>\n",
       "      <td>17</td>\n",
       "      <td>154</td>\n",
       "      <td>0</td>\n",
       "      <td>1</td>\n",
       "      <td>0</td>\n",
       "      <td>1603740269501;</td>\n",
       "      <td>154;</td>\n",
       "      <td>1;</td>\n",
       "      <td>720</td>\n",
       "    </tr>\n",
       "    <tr>\n",
       "      <th>248</th>\n",
       "      <td>2020-10-26 19:39:38</td>\n",
       "      <td>10.0.0.233</td>\n",
       "      <td>54523</td>\n",
       "      <td>255.255.255.255</td>\n",
       "      <td>10001</td>\n",
       "      <td>17</td>\n",
       "      <td>154</td>\n",
       "      <td>0</td>\n",
       "      <td>1</td>\n",
       "      <td>0</td>\n",
       "      <td>1603741178706;</td>\n",
       "      <td>154;</td>\n",
       "      <td>1;</td>\n",
       "      <td>360</td>\n",
       "    </tr>\n",
       "  </tbody>\n",
       "</table>\n",
       "</div>"
      ],
      "text/plain": [
       "                   Time         IP1  Port1              IP2  Port2  Proto  \\\n",
       "80  2020-10-26 19:31:29  10.0.0.233  54262  255.255.255.255  10001     17   \n",
       "155 2020-10-26 17:40:29  10.0.0.236  36322    54.203.112.76    443      6   \n",
       "500 2020-10-26 19:35:03  10.0.0.233  54376  255.255.255.255  10001     17   \n",
       "161 2020-10-26 19:24:51    10.0.0.1      0        224.0.0.1      0      2   \n",
       "27  2020-10-26 19:23:41  10.0.0.100  10101  239.255.255.251  10101     17   \n",
       "314 2020-10-26 19:40:09  10.0.0.113  60000       10.0.0.236  57111     17   \n",
       "56  2020-10-26 19:43:58  10.0.0.113  60000        10.0.0.91  45435     17   \n",
       "48  2020-10-26 19:31:08  10.0.0.192  64677  239.255.255.250   1900     17   \n",
       "127 2020-10-26 19:24:29  10.0.0.233  54037  255.255.255.255  10001     17   \n",
       "248 2020-10-26 19:39:38  10.0.0.233  54523  255.255.255.255  10001     17   \n",
       "\n",
       "     1->2Bytes  2->1Bytes  1->2Pkts  2->1Pkts                  packet_times  \\\n",
       "80         154          0         1         0                1603740689649;   \n",
       "155         52         52         1         1  1603734029727;1603734029727;   \n",
       "500        154          0         1         0                1603740903147;   \n",
       "161         28          0         1         0                1603740291209;   \n",
       "27          64          0         1         0                1603740221580;   \n",
       "314        387          0         1         0                1603741209295;   \n",
       "56         387          0         1         0                1603741438626;   \n",
       "48         202          0         1         0                1603740668824;   \n",
       "127        154          0         1         0                1603740269501;   \n",
       "248        154          0         1         0                1603741178706;   \n",
       "\n",
       "    packet_sizes packet_dirs  quality  \n",
       "80          154;          1;      480  \n",
       "155       52;52;        2;1;     1080  \n",
       "500         154;          1;      480  \n",
       "161          28;          1;      720  \n",
       "27           64;          1;      720  \n",
       "314         387;          1;      360  \n",
       "56          387;          1;      240  \n",
       "48          202;          1;      480  \n",
       "127         154;          1;      720  \n",
       "248         154;          1;      360  "
      ]
     },
     "execution_count": 56,
     "metadata": {},
     "output_type": "execute_result"
    }
   ],
   "source": [
    "# Let's clean up this data\n",
    "\n",
    "# I'm not really interested in other local IPs that are communicating with my\n",
    "# computer, like printers and other computers on the network.\n",
    "#\n",
    "#! Hold on -- might actually want these?\n",
    "both_local = (\n",
    "    (raw.IP1.str.startswith('10.0.0.'))\n",
    "    & (raw.IP2.str.startswith('10.0.0.') | (raw.IP2.str.startswith('192.168.')))\n",
    ")\n",
    "\n",
    "# I also want to get rid of local multicasting, this is where IP1 is local and\n",
    "# IP2 is in the 224-239 range\n",
    "# See: http://www.tcpipguide.com/free/t_IPMulticastAddressing.htm\n",
    "#\n",
    "#! Hold on -- might actually want these?\n",
    "multicast = (\n",
    "    (raw.IP1.str.startswith('10.0.0.')\n",
    "    & (\n",
    "        raw.IP2.str.split('.')\n",
    "        .apply(lambda lst: 224 <= int(lst[0]) <= 239))\n",
    "    )\n",
    ")\n",
    "\n",
    "# And ignore broadcasts to 255.*\n",
    "broadcast = (raw.IP2.str.startswith('255'))\n",
    "\n",
    "# And ignore the \n",
    "\n",
    "udp = (raw.Proto == 17)\n",
    "tcp = (raw.Proto == 6)\n",
    "\n",
    "# I know that this IP is from Firefox doing tab syncs, I can safely ignore it\n",
    "firefox_sync = (raw.IP2 == '54.149.94.178')\n",
    "\n",
    "# We can find some outliers (super big spikes) and see what are data looks like\n",
    "# without them\n",
    "zscores = raw[['1->2Bytes','2->1Bytes','1->2Pkts','2->1Pkts']].transform(lambda x: (x - x.mean()) / x.std())\n",
    "outliers = lambda deviations: (zscores.max(axis=1) > deviations)\n",
    "\n",
    "data = raw[\n",
    "#     ~both_local\n",
    "#     & ~multicast\n",
    "#     & ~broadcast\n",
    "    ~firefox_sync\n",
    "]\n",
    "data.sample(10)"
   ]
  },
  {
   "cell_type": "code",
   "execution_count": 57,
   "metadata": {},
   "outputs": [
    {
     "data": {
      "text/plain": [
       "array(['10.0.0.217', '10.0.0.100', '10.0.0.86', '10.0.0.91', '10.0.0.233',\n",
       "       '10.0.0.64', '10.0.0.255', '10.0.0.37', '10.0.0.230', '10.0.0.66',\n",
       "       '10.0.0.173', '10.0.0.236', '10.0.0.190', '10.0.0.113',\n",
       "       '10.0.0.32', '10.0.0.78', '10.0.0.105', '10.0.0.1', '10.0.0.252',\n",
       "       '10.0.0.192', '10.0.0.65', '1.0.0.10'], dtype=object)"
      ]
     },
     "execution_count": 57,
     "metadata": {},
     "output_type": "execute_result"
    }
   ],
   "source": [
    "data.IP1.unique()"
   ]
  },
  {
   "cell_type": "code",
   "execution_count": 58,
   "metadata": {},
   "outputs": [
    {
     "data": {
      "text/plain": [
       "array(['224.0.1.60', '239.255.255.251', '233.89.188.1', '239.255.3.22',\n",
       "       '10.0.0.236', '35.186.224.47', '255.255.255.255', '224.0.0.251',\n",
       "       '239.255.255.250', '10.0.0.91', '10.0.0.66', '192.168.49.1',\n",
       "       '75.75.75.75', '35.190.245.236', '52.209.204.108', '35.224.99.156',\n",
       "       '224.0.0.1', '224.168.168.168', '224.0.0.2', '34.242.70.15',\n",
       "       '224.0.0.252', '44.236.195.29', '64.4.54.254', '152.199.4.33',\n",
       "       '52.48.84.254', '35.222.85.5', '35.165.119.189', '52.26.8.232',\n",
       "       '35.186.227.140', '52.48.132.232', '10.0.0.255', '52.250.30.213',\n",
       "       '52.250.42.157', '34.253.97.22', '34.199.85.193', '10.0.0.32',\n",
       "       '54.203.112.76', '3.215.209.232', '54.228.140.0', '34.197.186.26',\n",
       "       '15.222.169.74', '3.96.231.136', '13.107.13.93', '104.42.78.153',\n",
       "       '13.86.218.248', '104.154.127.57', '13.35.121.89', '52.32.34.32',\n",
       "       '54.70.109.38'], dtype=object)"
      ]
     },
     "execution_count": 58,
     "metadata": {},
     "output_type": "execute_result"
    }
   ],
   "source": [
    "data.IP2.unique()"
   ]
  },
  {
   "cell_type": "code",
   "execution_count": 59,
   "metadata": {},
   "outputs": [],
   "source": [
    "quals = data.groupby('quality')"
   ]
  },
  {
   "cell_type": "code",
   "execution_count": 60,
   "metadata": {},
   "outputs": [
    {
     "data": {
      "image/png": "[encoded data removed]",
      "text/plain": [
       "<Figure size 432x288 with 1 Axes>"
      ]
     },
     "metadata": {
      "needs_background": "light"
     },
     "output_type": "display_data"
    }
   ],
   "source": [
    "# Total bytes communicated in *exactly* a 5 minute period\n",
    "total_bytes = quals[['1->2Bytes','2->1Bytes']].agg(np.sum)\n",
    "total_bytes.plot(kind='bar')\n",
    "plt.title('Total Bytes communicated in a 5-minute period');"
   ]
  },
  {
   "cell_type": "code",
   "execution_count": 61,
   "metadata": {},
   "outputs": [],
   "source": [
    "# Trend in 1->2Bytes -- why would we be transferring more data? Should it be the\n",
    "# other way around?"
   ]
  },
  {
   "cell_type": "code",
   "execution_count": 62,
   "metadata": {},
   "outputs": [
    {
     "data": {
      "text/plain": [
       "Text(0.5, 1.0, 'Total Packets communicated in a 5-minute period')"
      ]
     },
     "execution_count": 62,
     "metadata": {},
     "output_type": "execute_result"
    },
    {
     "data": {
      "image/png": "[encoded data removed]",
      "text/plain": [
       "<Figure size 432x288 with 1 Axes>"
      ]
     },
     "metadata": {
      "needs_background": "light"
     },
     "output_type": "display_data"
    }
   ],
   "source": [
    "total_packets = quals[['1->2Pkts','2->1Pkts']].agg(np.sum)\n",
    "total_packets.plot(kind='bar')\n",
    "plt.title('Total Packets communicated in a 5-minute period')"
   ]
  },
  {
   "cell_type": "code",
   "execution_count": 63,
   "metadata": {},
   "outputs": [],
   "source": [
    "# Lots of the packets are TCP, so our computer needs to send an ACK frequently,\n",
    "# but I would have never expected our computer to be sending so freaking much\n",
    "# data."
   ]
  },
  {
   "cell_type": "code",
   "execution_count": 64,
   "metadata": {},
   "outputs": [
    {
     "data": {
      "text/plain": [
       "Text(0.5, 1.0, 'Total Bytes - Only TCP communications')"
      ]
     },
     "execution_count": 64,
     "metadata": {},
     "output_type": "execute_result"
    },
    {
     "data": {
      "image/png": "[encoded data removed]",
      "text/plain": [
       "<Figure size 432x288 with 1 Axes>"
      ]
     },
     "metadata": {
      "needs_background": "light"
     },
     "output_type": "display_data"
    }
   ],
   "source": [
    "# Filtering to just TCP\n",
    "(\n",
    "    raw[tcp & ~firefox_sync]\n",
    "    .groupby('quality')[['1->2Bytes','2->1Bytes']]\n",
    "    .agg(np.sum)\n",
    "    .plot(kind='bar')\n",
    ")\n",
    "plt.title('Total Bytes - Only TCP communications')"
   ]
  },
  {
   "cell_type": "code",
   "execution_count": 65,
   "metadata": {},
   "outputs": [
    {
     "data": {
      "text/plain": [
       "Text(0.5, 1.0, 'Total Bytes - Only TCP & Outliers (spikes) removed')"
      ]
     },
     "execution_count": 65,
     "metadata": {},
     "output_type": "execute_result"
    },
    {
     "data": {
      "image/png": "[encoded data removed]",
      "text/plain": [
       "<Figure size 432x288 with 1 Axes>"
      ]
     },
     "metadata": {
      "needs_background": "light"
     },
     "output_type": "display_data"
    }
   ],
   "source": [
    "# Huh! So ACKs aren't to blame... and I think there are some 720 and 1080\n",
    "# spikes that I'll try removing\n",
    "(\n",
    "    raw[tcp & ~outliers(5) & ~firefox_sync]\n",
    "    # Only TCP and removes rows with Bytes or Pkts measurements that are >n stds\n",
    "    # away from the mean in their respective quality groups.\n",
    "    .groupby('quality')[['1->2Bytes','2->1Bytes']]\n",
    "    .agg(np.sum)\n",
    "    .plot(kind='bar')\n",
    ")\n",
    "plt.title('Total Bytes - Only TCP & Outliers (spikes) removed')"
   ]
  },
  {
   "cell_type": "code",
   "execution_count": 66,
   "metadata": {},
   "outputs": [],
   "source": [
    "# No more drastic changes between resolution groups.\n",
    "\n",
    "#! This is *very* sensitive to changing the outliers cutoff because the sum is\n",
    "#  very sensitive to outliers... This viz produces what looks like a convincing\n",
    "#  trend as resolution increases -- but it needs more evidence to confirm it."
   ]
  },
  {
   "cell_type": "code",
   "execution_count": 67,
   "metadata": {},
   "outputs": [
    {
     "data": {
      "text/plain": [
       "Text(0.5, 1.0, 'Median Bytes - Only TCP')"
      ]
     },
     "execution_count": 67,
     "metadata": {},
     "output_type": "execute_result"
    },
    {
     "data": {
      "image/png": "[encoded data removed]",
      "text/plain": [
       "<Figure size 432x288 with 1 Axes>"
      ]
     },
     "metadata": {
      "needs_background": "light"
     },
     "output_type": "display_data"
    }
   ],
   "source": [
    "# Worth noting that if we stop looking at the total and look instead at some\n",
    "# non-outlier prone aggregation like median communication, everything looks the\n",
    "# same\n",
    "(\n",
    "    raw[tcp & ~firefox_sync]\n",
    "    .groupby('quality')[['1->2Bytes','2->1Bytes']]\n",
    "    .agg(np.median)\n",
    "    .plot(kind='bar')\n",
    ")\n",
    "plt.title('Median Bytes - Only TCP')"
   ]
  },
  {
   "cell_type": "code",
   "execution_count": 68,
   "metadata": {},
   "outputs": [],
   "source": [
    "# No matter the resolution, there must be some IP to which\n",
    "# the traffic is *exactly* the same.\n",
    "\n",
    "#! A question for future exploration is: **does this consistent traffic appear\n",
    "#  only when streaming?**"
   ]
  },
  {
   "cell_type": "code",
   "execution_count": 69,
   "metadata": {},
   "outputs": [],
   "source": [
    "# I have a bunch of questions now:\n",
    "# - What traffic is using UDP? Whatever it is must be sending lots of bytes...\n",
    "#   Is it relevant to streaming at all?\n",
    "# - Evidently, there must be a lot of traffic with the exact same number of\n",
    "#   bytes sent/received in order for the qualities to have exactly equal medians\n",
    "#   This points to consistent traffic that's being communicated regardless of\n",
    "#   resolution... can I find it?"
   ]
  },
  {
   "cell_type": "code",
   "execution_count": 70,
   "metadata": {},
   "outputs": [
    {
     "data": {
      "text/plain": [
       "Text(0.5, 1.0, 'Total Bytes - UDP Only')"
      ]
     },
     "execution_count": 70,
     "metadata": {},
     "output_type": "execute_result"
    },
    {
     "data": {
      "image/png": "[encoded data removed]",
      "text/plain": [
       "<Figure size 432x288 with 1 Axes>"
      ]
     },
     "metadata": {
      "needs_background": "light"
     },
     "output_type": "display_data"
    }
   ],
   "source": [
    "# Let's attempt to tackle the UDP question\n",
    "(\n",
    "    raw[udp]\n",
    "    .groupby('quality')[['1->2Bytes','2->1Bytes']]\n",
    "    .agg(np.sum)\n",
    "    .plot(kind='bar')\n",
    ")\n",
    "plt.title('Total Bytes - UDP Only')"
   ]
  },
  {
   "cell_type": "code",
   "execution_count": 71,
   "metadata": {},
   "outputs": [],
   "source": [
    "# Again, all pretty similar -- definitely no clear trends between resolutions.\n",
    "# But, we do have a lot of bytes sent"
   ]
  },
  {
   "cell_type": "code",
   "execution_count": 72,
   "metadata": {},
   "outputs": [
    {
     "data": {
      "text/plain": [
       "Text(0.5, 1.0, 'Total Bytes - ')"
      ]
     },
     "execution_count": 72,
     "metadata": {},
     "output_type": "execute_result"
    },
    {
     "data": {
      "image/png": "[encoded data removed]",
      "text/plain": [
       "<Figure size 432x288 with 1 Axes>"
      ]
     },
     "metadata": {
      "needs_background": "light"
     },
     "output_type": "display_data"
    }
   ],
   "source": [
    "(\n",
    "    raw[udp & ~firefox_sync]\n",
    "    .groupby('quality')[['1->2Bytes','2->1Bytes']]\n",
    "    .agg(np.median)\n",
    "    .plot(kind='bar')\n",
    ")\n",
    "plt.title('Total Bytes - ')"
   ]
  },
  {
   "cell_type": "code",
   "execution_count": 73,
   "metadata": {},
   "outputs": [
    {
     "data": {
      "image/png": "[encoded data removed]",
      "text/plain": [
       "<Figure size 432x288 with 2 Axes>"
      ]
     },
     "metadata": {
      "needs_background": "light"
     },
     "output_type": "display_data"
    }
   ],
   "source": [
    "# Most of the UDP communications aren't receiving data, but sending...\n",
    "\n",
    "# What are these communications?\n",
    "fig,(ax1,ax2) = plt.subplots(1,2)\n",
    "raw[udp].groupby('IP1')['Time'].count().sort_values().plot.barh(ax=ax1)\n",
    "raw[udp].groupby('IP2')['Time'].count().sort_values().plot.barh(ax=ax2)\n",
    "plt.tight_layout()"
   ]
  },
  {
   "cell_type": "code",
   "execution_count": 74,
   "metadata": {},
   "outputs": [],
   "source": [
    "# They look like they're all local communications --\n",
    "# - 10.xx are devices\n",
    "# - 192.168.xx is also private... not sure what it is\n",
    "# - 224-239.xx are multicast communications **Do these have any relevance to\n",
    "#   streaming externally?\n",
    "# - 255.xx is a broadcast communication\n",
    "# - 75.75.75.75 is my ISP, Comcast\n",
    "#\n",
    "# And these are **all** of the UDP communications -- nothing is external\n",
    "# (besides comcast)...\n",
    "#\n",
    "# Now, the domain expert question is -- does purely local communication have\n",
    "# anything to do with what activity a single device is performing? Is it worth\n",
    "# hanging on to this data, or should it be filtered out?"
   ]
  },
  {
   "cell_type": "code",
   "execution_count": 75,
   "metadata": {},
   "outputs": [
    {
     "data": {
      "text/html": [
       "<div>\n",
       "<style scoped>\n",
       "    .dataframe tbody tr th:only-of-type {\n",
       "        vertical-align: middle;\n",
       "    }\n",
       "\n",
       "    .dataframe tbody tr th {\n",
       "        vertical-align: top;\n",
       "    }\n",
       "\n",
       "    .dataframe thead th {\n",
       "        text-align: right;\n",
       "    }\n",
       "</style>\n",
       "<table border=\"1\" class=\"dataframe\">\n",
       "  <thead>\n",
       "    <tr style=\"text-align: right;\">\n",
       "      <th></th>\n",
       "      <th>Time</th>\n",
       "      <th>IP1</th>\n",
       "      <th>Port1</th>\n",
       "      <th>IP2</th>\n",
       "      <th>Port2</th>\n",
       "      <th>Proto</th>\n",
       "      <th>1-&gt;2Bytes</th>\n",
       "      <th>2-&gt;1Bytes</th>\n",
       "      <th>1-&gt;2Pkts</th>\n",
       "      <th>2-&gt;1Pkts</th>\n",
       "      <th>packet_times</th>\n",
       "      <th>packet_sizes</th>\n",
       "      <th>packet_dirs</th>\n",
       "      <th>quality</th>\n",
       "    </tr>\n",
       "  </thead>\n",
       "  <tbody>\n",
       "    <tr>\n",
       "      <th>4</th>\n",
       "      <td>2020-10-26 19:43:44</td>\n",
       "      <td>10.0.0.100</td>\n",
       "      <td>8009</td>\n",
       "      <td>10.0.0.236</td>\n",
       "      <td>44458</td>\n",
       "      <td>6</td>\n",
       "      <td>162</td>\n",
       "      <td>214</td>\n",
       "      <td>1</td>\n",
       "      <td>2</td>\n",
       "      <td>1603741424987;1603741424992;1603741424992;</td>\n",
       "      <td>162;162;52;</td>\n",
       "      <td>2;1;2;</td>\n",
       "      <td>240</td>\n",
       "    </tr>\n",
       "    <tr>\n",
       "      <th>18</th>\n",
       "      <td>2020-10-26 19:43:50</td>\n",
       "      <td>10.0.0.100</td>\n",
       "      <td>8009</td>\n",
       "      <td>10.0.0.236</td>\n",
       "      <td>44458</td>\n",
       "      <td>6</td>\n",
       "      <td>162</td>\n",
       "      <td>52</td>\n",
       "      <td>1</td>\n",
       "      <td>1</td>\n",
       "      <td>1603741430000;1603741430000;</td>\n",
       "      <td>162;52;</td>\n",
       "      <td>1;2;</td>\n",
       "      <td>240</td>\n",
       "    </tr>\n",
       "    <tr>\n",
       "      <th>32</th>\n",
       "      <td>2020-10-26 19:43:55</td>\n",
       "      <td>10.0.0.100</td>\n",
       "      <td>8009</td>\n",
       "      <td>10.0.0.236</td>\n",
       "      <td>44458</td>\n",
       "      <td>6</td>\n",
       "      <td>162</td>\n",
       "      <td>214</td>\n",
       "      <td>1</td>\n",
       "      <td>2</td>\n",
       "      <td>1603741435001;1603741435006;1603741435006;</td>\n",
       "      <td>162;162;52;</td>\n",
       "      <td>2;1;2;</td>\n",
       "      <td>240</td>\n",
       "    </tr>\n",
       "    <tr>\n",
       "      <th>67</th>\n",
       "      <td>2020-10-26 19:44:00</td>\n",
       "      <td>10.0.0.100</td>\n",
       "      <td>8009</td>\n",
       "      <td>10.0.0.236</td>\n",
       "      <td>44458</td>\n",
       "      <td>6</td>\n",
       "      <td>162</td>\n",
       "      <td>214</td>\n",
       "      <td>1</td>\n",
       "      <td>2</td>\n",
       "      <td>1603741440008;1603741440012;1603741440012;</td>\n",
       "      <td>162;162;52;</td>\n",
       "      <td>2;1;2;</td>\n",
       "      <td>240</td>\n",
       "    </tr>\n",
       "    <tr>\n",
       "      <th>74</th>\n",
       "      <td>2020-10-26 19:44:05</td>\n",
       "      <td>10.0.0.100</td>\n",
       "      <td>8009</td>\n",
       "      <td>10.0.0.236</td>\n",
       "      <td>44458</td>\n",
       "      <td>6</td>\n",
       "      <td>162</td>\n",
       "      <td>214</td>\n",
       "      <td>1</td>\n",
       "      <td>2</td>\n",
       "      <td>1603741445014;1603741445020;1603741445020;</td>\n",
       "      <td>162;162;52;</td>\n",
       "      <td>2;1;2;</td>\n",
       "      <td>240</td>\n",
       "    </tr>\n",
       "    <tr>\n",
       "      <th>...</th>\n",
       "      <td>...</td>\n",
       "      <td>...</td>\n",
       "      <td>...</td>\n",
       "      <td>...</td>\n",
       "      <td>...</td>\n",
       "      <td>...</td>\n",
       "      <td>...</td>\n",
       "      <td>...</td>\n",
       "      <td>...</td>\n",
       "      <td>...</td>\n",
       "      <td>...</td>\n",
       "      <td>...</td>\n",
       "      <td>...</td>\n",
       "      <td>...</td>\n",
       "    </tr>\n",
       "    <tr>\n",
       "      <th>506</th>\n",
       "      <td>2020-10-26 17:43:45</td>\n",
       "      <td>10.0.0.100</td>\n",
       "      <td>8009</td>\n",
       "      <td>10.0.0.91</td>\n",
       "      <td>44484</td>\n",
       "      <td>6</td>\n",
       "      <td>162</td>\n",
       "      <td>214</td>\n",
       "      <td>1</td>\n",
       "      <td>2</td>\n",
       "      <td>1603734225050;1603734225056;1603734225056;</td>\n",
       "      <td>162;162;52;</td>\n",
       "      <td>2;1;2;</td>\n",
       "      <td>1080</td>\n",
       "    </tr>\n",
       "    <tr>\n",
       "      <th>514</th>\n",
       "      <td>2020-10-26 17:43:50</td>\n",
       "      <td>10.0.0.100</td>\n",
       "      <td>8009</td>\n",
       "      <td>10.0.0.91</td>\n",
       "      <td>44484</td>\n",
       "      <td>6</td>\n",
       "      <td>162</td>\n",
       "      <td>214</td>\n",
       "      <td>1</td>\n",
       "      <td>2</td>\n",
       "      <td>1603734230056;1603734230061;1603734230061;</td>\n",
       "      <td>162;162;52;</td>\n",
       "      <td>2;1;2;</td>\n",
       "      <td>1080</td>\n",
       "    </tr>\n",
       "    <tr>\n",
       "      <th>545</th>\n",
       "      <td>2020-10-26 17:43:55</td>\n",
       "      <td>10.0.0.100</td>\n",
       "      <td>8009</td>\n",
       "      <td>10.0.0.91</td>\n",
       "      <td>44484</td>\n",
       "      <td>6</td>\n",
       "      <td>162</td>\n",
       "      <td>214</td>\n",
       "      <td>1</td>\n",
       "      <td>2</td>\n",
       "      <td>1603734235062;1603734235067;1603734235067;</td>\n",
       "      <td>162;162;52;</td>\n",
       "      <td>2;1;2;</td>\n",
       "      <td>1080</td>\n",
       "    </tr>\n",
       "    <tr>\n",
       "      <th>554</th>\n",
       "      <td>2020-10-26 17:44:00</td>\n",
       "      <td>10.0.0.100</td>\n",
       "      <td>8009</td>\n",
       "      <td>10.0.0.91</td>\n",
       "      <td>44484</td>\n",
       "      <td>6</td>\n",
       "      <td>162</td>\n",
       "      <td>214</td>\n",
       "      <td>1</td>\n",
       "      <td>2</td>\n",
       "      <td>1603734240068;1603734240074;1603734240074;</td>\n",
       "      <td>162;162;52;</td>\n",
       "      <td>2;1;2;</td>\n",
       "      <td>1080</td>\n",
       "    </tr>\n",
       "    <tr>\n",
       "      <th>562</th>\n",
       "      <td>2020-10-26 17:44:05</td>\n",
       "      <td>10.0.0.100</td>\n",
       "      <td>8009</td>\n",
       "      <td>10.0.0.91</td>\n",
       "      <td>44484</td>\n",
       "      <td>6</td>\n",
       "      <td>162</td>\n",
       "      <td>214</td>\n",
       "      <td>1</td>\n",
       "      <td>2</td>\n",
       "      <td>1603734245075;1603734245080;1603734245080;</td>\n",
       "      <td>162;162;52;</td>\n",
       "      <td>2;1;2;</td>\n",
       "      <td>1080</td>\n",
       "    </tr>\n",
       "  </tbody>\n",
       "</table>\n",
       "<p>300 rows × 14 columns</p>\n",
       "</div>"
      ],
      "text/plain": [
       "                   Time         IP1  Port1         IP2  Port2  Proto  \\\n",
       "4   2020-10-26 19:43:44  10.0.0.100   8009  10.0.0.236  44458      6   \n",
       "18  2020-10-26 19:43:50  10.0.0.100   8009  10.0.0.236  44458      6   \n",
       "32  2020-10-26 19:43:55  10.0.0.100   8009  10.0.0.236  44458      6   \n",
       "67  2020-10-26 19:44:00  10.0.0.100   8009  10.0.0.236  44458      6   \n",
       "74  2020-10-26 19:44:05  10.0.0.100   8009  10.0.0.236  44458      6   \n",
       "..                  ...         ...    ...         ...    ...    ...   \n",
       "506 2020-10-26 17:43:45  10.0.0.100   8009   10.0.0.91  44484      6   \n",
       "514 2020-10-26 17:43:50  10.0.0.100   8009   10.0.0.91  44484      6   \n",
       "545 2020-10-26 17:43:55  10.0.0.100   8009   10.0.0.91  44484      6   \n",
       "554 2020-10-26 17:44:00  10.0.0.100   8009   10.0.0.91  44484      6   \n",
       "562 2020-10-26 17:44:05  10.0.0.100   8009   10.0.0.91  44484      6   \n",
       "\n",
       "     1->2Bytes  2->1Bytes  1->2Pkts  2->1Pkts  \\\n",
       "4          162        214         1         2   \n",
       "18         162         52         1         1   \n",
       "32         162        214         1         2   \n",
       "67         162        214         1         2   \n",
       "74         162        214         1         2   \n",
       "..         ...        ...       ...       ...   \n",
       "506        162        214         1         2   \n",
       "514        162        214         1         2   \n",
       "545        162        214         1         2   \n",
       "554        162        214         1         2   \n",
       "562        162        214         1         2   \n",
       "\n",
       "                                   packet_times packet_sizes packet_dirs  \\\n",
       "4    1603741424987;1603741424992;1603741424992;  162;162;52;      2;1;2;   \n",
       "18                 1603741430000;1603741430000;      162;52;        1;2;   \n",
       "32   1603741435001;1603741435006;1603741435006;  162;162;52;      2;1;2;   \n",
       "67   1603741440008;1603741440012;1603741440012;  162;162;52;      2;1;2;   \n",
       "74   1603741445014;1603741445020;1603741445020;  162;162;52;      2;1;2;   \n",
       "..                                          ...          ...         ...   \n",
       "506  1603734225050;1603734225056;1603734225056;  162;162;52;      2;1;2;   \n",
       "514  1603734230056;1603734230061;1603734230061;  162;162;52;      2;1;2;   \n",
       "545  1603734235062;1603734235067;1603734235067;  162;162;52;      2;1;2;   \n",
       "554  1603734240068;1603734240074;1603734240074;  162;162;52;      2;1;2;   \n",
       "562  1603734245075;1603734245080;1603734245080;  162;162;52;      2;1;2;   \n",
       "\n",
       "     quality  \n",
       "4        240  \n",
       "18       240  \n",
       "32       240  \n",
       "67       240  \n",
       "74       240  \n",
       "..       ...  \n",
       "506     1080  \n",
       "514     1080  \n",
       "545     1080  \n",
       "554     1080  \n",
       "562     1080  \n",
       "\n",
       "[300 rows x 14 columns]"
      ]
     },
     "execution_count": 75,
     "metadata": {},
     "output_type": "execute_result"
    }
   ],
   "source": [
    "# Let's find what that consistent TCP traffic is\n",
    "d = raw[tcp & ~firefox_sync]\n",
    "d[d[\"1->2Bytes\"] == d[\"1->2Bytes\"].median()]"
   ]
  },
  {
   "cell_type": "code",
   "execution_count": 76,
   "metadata": {},
   "outputs": [
    {
     "data": {
      "text/plain": [
       "Text(0.5, 1.0, 'Total Bytes - TCP Only & Outliers removed & Local removed')"
      ]
     },
     "execution_count": 76,
     "metadata": {},
     "output_type": "execute_result"
    },
    {
     "data": {
      "image/png": "[encoded data removed]",
      "text/plain": [
       "<Figure size 432x288 with 1 Axes>"
      ]
     },
     "metadata": {
      "needs_background": "light"
     },
     "output_type": "display_data"
    }
   ],
   "source": [
    "# Huh, *another* instance of local communication.\n",
    "#\n",
    "# How do our vizualizations change if I remove local communication?\n",
    "(\n",
    "    raw[tcp & ~firefox_sync & ~both_local & ~outliers(6)]\n",
    "    .groupby('quality')[['1->2Bytes','2->1Bytes']]\n",
    "    .agg(np.sum)\n",
    "    .plot(kind='bar')\n",
    ")\n",
    "plt.title('Total Bytes - TCP Only & Outliers removed & Local removed')"
   ]
  },
  {
   "cell_type": "code",
   "execution_count": 83,
   "metadata": {},
   "outputs": [
    {
     "data": {
      "text/plain": [
       "Text(0.5, 1.0, 'Amazon Prime Total Bytes')"
      ]
     },
     "execution_count": 83,
     "metadata": {},
     "output_type": "execute_result"
    },
    {
     "data": {
      "image/png": "[encoded data removed]",
      "text/plain": [
       "<Figure size 432x288 with 1 Axes>"
      ]
     },
     "metadata": {
      "needs_background": "light"
     },
     "output_type": "display_data"
    }
   ],
   "source": [
    "prime = pd.read_csv('../data/unzipped/pgaddiso-amazonprime-1x-novpn-linux-clean-20201019.csv')\n",
    "prime = prime[prime.Time <= prime.Time + 5*60]\n",
    "prime['Time'] = pd.to_datetime(prime['Time'], unit='s')\n",
    "prime[['1->2Bytes','2->1Bytes']].agg(np.sum).plot.bar()\n",
    "plt.title('Amazon Prime Total Bytes')"
   ]
  },
  {
   "cell_type": "code",
   "execution_count": 84,
   "metadata": {},
   "outputs": [],
   "source": [
    "# A quick comparison to Amazon Prime shows that there's a lot more data received\n",
    "# than sent -- which is expected."
   ]
  },
  {
   "cell_type": "code",
   "execution_count": 88,
   "metadata": {},
   "outputs": [
    {
     "data": {
      "text/plain": [
       "<matplotlib.axes._subplots.AxesSubplot at 0x7f81e1934220>"
      ]
     },
     "execution_count": 88,
     "metadata": {},
     "output_type": "execute_result"
    },
    {
     "data": {
      "image/png": "[encoded data removed]",
      "text/plain": [
       "<Figure size 432x288 with 1 Axes>"
      ]
     },
     "metadata": {
      "needs_background": "light"
     },
     "output_type": "display_data"
    }
   ],
   "source": [
    "prime[['Time', '1->2Bytes', '2->1Bytes']].plot(x='Time', alpha=0.5)"
   ]
  },
  {
   "cell_type": "code",
   "execution_count": null,
   "metadata": {},
   "outputs": [],
   "source": []
  },
  {
   "cell_type": "code",
   "execution_count": null,
   "metadata": {},
   "outputs": [],
   "source": []
  },
  {
   "cell_type": "code",
   "execution_count": 79,
   "metadata": {},
   "outputs": [
    {
     "data": {
      "text/plain": [
       "<matplotlib.axes._subplots.AxesSubplot at 0x7f81dc457e80>"
      ]
     },
     "execution_count": 79,
     "metadata": {},
     "output_type": "execute_result"
    },
    {
     "data": {
      "image/png": "[encoded data removed]",
      "text/plain": [
       "<Figure size 432x288 with 1 Axes>"
      ]
     },
     "metadata": {
      "needs_background": "light"
     },
     "output_type": "display_data"
    }
   ],
   "source": [
    "# Why is 720 bigger?\n",
    "# Maybe I accidentally caught the initial buffer\n",
    "data[data.quality == 720].plot(kind='line', x='Time', y='2->1Bytes') # Try 1->2Bytes"
   ]
  },
  {
   "cell_type": "code",
   "execution_count": 16,
   "metadata": {},
   "outputs": [],
   "source": [
    "# Strange, there's just a huge spike"
   ]
  },
  {
   "cell_type": "code",
   "execution_count": 17,
   "metadata": {},
   "outputs": [
    {
     "data": {
      "text/plain": [
       "Time                                                   1603740538\n",
       "IP1                                                    10.0.0.236\n",
       "Port1                                                       36136\n",
       "IP2                                                35.186.227.140\n",
       "Port2                                                         443\n",
       "Proto                                                           6\n",
       "1->2Bytes                                                   99762\n",
       "2->1Bytes                                                   21513\n",
       "1->2Pkts                                                       95\n",
       "2->1Pkts                                                      102\n",
       "packet_times    1603740538102;1603740538147;1603740538147;1603...\n",
       "packet_sizes    60;60;52;715;52;52;264;52;116;222;780;632;52;8...\n",
       "packet_dirs     1;2;1;1;2;2;2;1;1;1;1;2;1;1;2;2;1;2;2;1;2;1;2;...\n",
       "quality                                                       720\n",
       "Name: 685, dtype: object"
      ]
     },
     "execution_count": 17,
     "metadata": {},
     "output_type": "execute_result"
    }
   ],
   "source": [
    "data.loc[data['1->2Bytes'].idxmax()]"
   ]
  },
  {
   "cell_type": "code",
   "execution_count": 29,
   "metadata": {},
   "outputs": [
    {
     "data": {
      "image/png": "[encoded data removed]",
      "text/plain": [
       "<Figure size 432x288 with 1 Axes>"
      ]
     },
     "metadata": {
      "needs_background": "light"
     },
     "output_type": "display_data"
    },
    {
     "data": {
      "image/png": "[encoded data removed]",
      "text/plain": [
       "<Figure size 432x288 with 1 Axes>"
      ]
     },
     "metadata": {
      "needs_background": "light"
     },
     "output_type": "display_data"
    },
    {
     "data": {
      "image/png": "[encoded data removed]",
      "text/plain": [
       "<Figure size 432x288 with 1 Axes>"
      ]
     },
     "metadata": {
      "needs_background": "light"
     },
     "output_type": "display_data"
    },
    {
     "data": {
      "image/png": "[encoded data removed]",
      "text/plain": [
       "<Figure size 432x288 with 1 Axes>"
      ]
     },
     "metadata": {
      "needs_background": "light"
     },
     "output_type": "display_data"
    },
    {
     "data": {
      "image/png": "[encoded data removed]",
      "text/plain": [
       "<Figure size 432x288 with 1 Axes>"
      ]
     },
     "metadata": {
      "needs_background": "light"
     },
     "output_type": "display_data"
    }
   ],
   "source": [
    "# Plot out \n",
    "def plot_bytes_over_time(df):\n",
    "    p = df.groupby('quality')[[\n",
    "        'Time',\n",
    "#         '1->2Bytes',\n",
    "        '2->1Bytes',\n",
    "    ]].plot(x='Time',legend=True)\n",
    "    \n",
    "    for qual in p.keys():\n",
    "        p[qual].title.set_text(f\"{qual}p\")\n",
    "        \n",
    "plot_bytes_over_time(raw[~firefox_sync & ~both_local])"
   ]
  },
  {
   "cell_type": "code",
   "execution_count": null,
   "metadata": {},
   "outputs": [],
   "source": [
    "# Looks like the *spikes* are considerably more extreme as resolution goes up,\n",
    "# but average number of bytes increases only slightly"
   ]
  },
  {
   "cell_type": "code",
   "execution_count": 207,
   "metadata": {},
   "outputs": [
    {
     "data": {
      "text/html": [
       "<div>\n",
       "<style scoped>\n",
       "    .dataframe tbody tr th:only-of-type {\n",
       "        vertical-align: middle;\n",
       "    }\n",
       "\n",
       "    .dataframe tbody tr th {\n",
       "        vertical-align: top;\n",
       "    }\n",
       "\n",
       "    .dataframe thead th {\n",
       "        text-align: right;\n",
       "    }\n",
       "</style>\n",
       "<table border=\"1\" class=\"dataframe\">\n",
       "  <thead>\n",
       "    <tr style=\"text-align: right;\">\n",
       "      <th></th>\n",
       "      <th>Time</th>\n",
       "      <th>IP1</th>\n",
       "      <th>Port1</th>\n",
       "      <th>IP2</th>\n",
       "      <th>Port2</th>\n",
       "      <th>Proto</th>\n",
       "      <th>1-&gt;2Bytes</th>\n",
       "      <th>2-&gt;1Bytes</th>\n",
       "      <th>1-&gt;2Pkts</th>\n",
       "      <th>2-&gt;1Pkts</th>\n",
       "      <th>packet_times</th>\n",
       "      <th>packet_sizes</th>\n",
       "      <th>packet_dirs</th>\n",
       "      <th>quality</th>\n",
       "    </tr>\n",
       "  </thead>\n",
       "  <tbody>\n",
       "    <tr>\n",
       "      <th>523</th>\n",
       "      <td>1603741731</td>\n",
       "      <td>10.0.0.236</td>\n",
       "      <td>36218</td>\n",
       "      <td>35.186.227.140</td>\n",
       "      <td>443</td>\n",
       "      <td>6</td>\n",
       "      <td>4068</td>\n",
       "      <td>4885</td>\n",
       "      <td>22</td>\n",
       "      <td>24</td>\n",
       "      <td>1603741731222;1603741731242;1603741731242;1603...</td>\n",
       "      <td>60;60;52;715;52;264;52;116;222;780;632;52;83;5...</td>\n",
       "      <td>1;2;1;1;2;2;1;1;1;1;2;1;1;2;2;1;2;2;1;2;1;2;1;...</td>\n",
       "      <td>240</td>\n",
       "    </tr>\n",
       "    <tr>\n",
       "      <th>524</th>\n",
       "      <td>1603741731</td>\n",
       "      <td>10.0.0.236</td>\n",
       "      <td>38060</td>\n",
       "      <td>35.165.119.189</td>\n",
       "      <td>443</td>\n",
       "      <td>6</td>\n",
       "      <td>2404</td>\n",
       "      <td>4432</td>\n",
       "      <td>9</td>\n",
       "      <td>7</td>\n",
       "      <td>1603741731227;1603741731262;1603741731262;1603...</td>\n",
       "      <td>60;60;52;569;52;1500;52;2032;52;178;1337;52;10...</td>\n",
       "      <td>1;2;1;1;2;2;1;2;1;1;1;2;2;1;2;1;</td>\n",
       "      <td>240</td>\n",
       "    </tr>\n",
       "    <tr>\n",
       "      <th>184</th>\n",
       "      <td>1603741142</td>\n",
       "      <td>10.0.0.190</td>\n",
       "      <td>60000</td>\n",
       "      <td>239.255.255.250</td>\n",
       "      <td>1900</td>\n",
       "      <td>17</td>\n",
       "      <td>4353</td>\n",
       "      <td>0</td>\n",
       "      <td>12</td>\n",
       "      <td>0</td>\n",
       "      <td>1603741142434;1603741142434;1603741142435;1603...</td>\n",
       "      <td>337;346;383;385;337;346;383;385;337;346;383;385;</td>\n",
       "      <td>1;1;1;1;1;1;1;1;1;1;1;1;</td>\n",
       "      <td>360</td>\n",
       "    </tr>\n",
       "    <tr>\n",
       "      <th>346</th>\n",
       "      <td>1603741229</td>\n",
       "      <td>10.0.0.236</td>\n",
       "      <td>36192</td>\n",
       "      <td>35.186.227.140</td>\n",
       "      <td>443</td>\n",
       "      <td>6</td>\n",
       "      <td>3048</td>\n",
       "      <td>2232</td>\n",
       "      <td>15</td>\n",
       "      <td>12</td>\n",
       "      <td>1603741229736;1603741229757;1603741229757;1603...</td>\n",
       "      <td>60;60;52;715;52;264;52;116;222;779;52;632;52;8...</td>\n",
       "      <td>1;2;1;1;2;2;1;1;1;1;2;2;1;1;2;1;2;2;1;2;1;2;1;...</td>\n",
       "      <td>360</td>\n",
       "    </tr>\n",
       "    <tr>\n",
       "      <th>347</th>\n",
       "      <td>1603741229</td>\n",
       "      <td>10.0.0.113</td>\n",
       "      <td>60000</td>\n",
       "      <td>239.255.255.250</td>\n",
       "      <td>1900</td>\n",
       "      <td>17</td>\n",
       "      <td>2910</td>\n",
       "      <td>0</td>\n",
       "      <td>8</td>\n",
       "      <td>0</td>\n",
       "      <td>1603741229922;1603741229928;1603741229933;1603...</td>\n",
       "      <td>337;346;383;385;339;348;385;387;</td>\n",
       "      <td>1;1;1;1;1;1;1;1;</td>\n",
       "      <td>360</td>\n",
       "    </tr>\n",
       "    <tr>\n",
       "      <th>349</th>\n",
       "      <td>1603741230</td>\n",
       "      <td>10.0.0.113</td>\n",
       "      <td>60000</td>\n",
       "      <td>239.255.255.250</td>\n",
       "      <td>1900</td>\n",
       "      <td>17</td>\n",
       "      <td>5820</td>\n",
       "      <td>0</td>\n",
       "      <td>16</td>\n",
       "      <td>0</td>\n",
       "      <td>1603741230111;1603741230114;1603741230115;1603...</td>\n",
       "      <td>337;346;383;385;339;348;385;387;337;346;383;38...</td>\n",
       "      <td>1;1;1;1;1;1;1;1;1;1;1;1;1;1;1;1;</td>\n",
       "      <td>360</td>\n",
       "    </tr>\n",
       "    <tr>\n",
       "      <th>125</th>\n",
       "      <td>1603740714</td>\n",
       "      <td>10.0.0.236</td>\n",
       "      <td>41476</td>\n",
       "      <td>34.199.85.193</td>\n",
       "      <td>443</td>\n",
       "      <td>6</td>\n",
       "      <td>3982</td>\n",
       "      <td>1093</td>\n",
       "      <td>13</td>\n",
       "      <td>9</td>\n",
       "      <td>1603740714523;1603740714606;1603740714606;1603...</td>\n",
       "      <td>60;60;52;610;52;198;52;103;229;52;130;52;90;50...</td>\n",
       "      <td>1;2;1;1;2;2;1;1;1;2;2;1;1;1;1;1;2;2;2;1;2;1;</td>\n",
       "      <td>480</td>\n",
       "    </tr>\n",
       "    <tr>\n",
       "      <th>234</th>\n",
       "      <td>1603740765</td>\n",
       "      <td>10.0.0.236</td>\n",
       "      <td>52382</td>\n",
       "      <td>3.215.209.232</td>\n",
       "      <td>443</td>\n",
       "      <td>6</td>\n",
       "      <td>2134</td>\n",
       "      <td>13627</td>\n",
       "      <td>15</td>\n",
       "      <td>11</td>\n",
       "      <td>1603740765515;1603740765601;1603740765601;1603...</td>\n",
       "      <td>60;60;52;614;52;198;52;103;229;264;358;52;130;...</td>\n",
       "      <td>1;2;1;1;2;2;1;1;1;1;1;2;2;1;1;2;1;2;1;2;1;2;1;...</td>\n",
       "      <td>480</td>\n",
       "    </tr>\n",
       "    <tr>\n",
       "      <th>506</th>\n",
       "      <td>1603740907</td>\n",
       "      <td>10.0.0.64</td>\n",
       "      <td>5353</td>\n",
       "      <td>224.0.0.251</td>\n",
       "      <td>5353</td>\n",
       "      <td>17</td>\n",
       "      <td>1918</td>\n",
       "      <td>0</td>\n",
       "      <td>7</td>\n",
       "      <td>0</td>\n",
       "      <td>1603740907069;1603740907381;1603740907484;1603...</td>\n",
       "      <td>277;277;393;202;277;131;361;</td>\n",
       "      <td>1;1;1;1;1;1;1;</td>\n",
       "      <td>480</td>\n",
       "    </tr>\n",
       "    <tr>\n",
       "      <th>507</th>\n",
       "      <td>1603740907</td>\n",
       "      <td>10.0.0.113</td>\n",
       "      <td>59892</td>\n",
       "      <td>239.255.255.250</td>\n",
       "      <td>1900</td>\n",
       "      <td>17</td>\n",
       "      <td>1778</td>\n",
       "      <td>0</td>\n",
       "      <td>3</td>\n",
       "      <td>0</td>\n",
       "      <td>1603740907323;1603740907324;1603740907324;</td>\n",
       "      <td>549;632;597;</td>\n",
       "      <td>1;1;1;</td>\n",
       "      <td>480</td>\n",
       "    </tr>\n",
       "    <tr>\n",
       "      <th>509</th>\n",
       "      <td>1603740907</td>\n",
       "      <td>10.0.0.113</td>\n",
       "      <td>45249</td>\n",
       "      <td>239.255.255.250</td>\n",
       "      <td>1900</td>\n",
       "      <td>17</td>\n",
       "      <td>1778</td>\n",
       "      <td>0</td>\n",
       "      <td>3</td>\n",
       "      <td>0</td>\n",
       "      <td>1603740907424;1603740907426;1603740907426;</td>\n",
       "      <td>549;632;597;</td>\n",
       "      <td>1;1;1;</td>\n",
       "      <td>480</td>\n",
       "    </tr>\n",
       "    <tr>\n",
       "      <th>685</th>\n",
       "      <td>1603740538</td>\n",
       "      <td>10.0.0.236</td>\n",
       "      <td>36136</td>\n",
       "      <td>35.186.227.140</td>\n",
       "      <td>443</td>\n",
       "      <td>6</td>\n",
       "      <td>99762</td>\n",
       "      <td>21513</td>\n",
       "      <td>95</td>\n",
       "      <td>102</td>\n",
       "      <td>1603740538102;1603740538147;1603740538147;1603...</td>\n",
       "      <td>60;60;52;715;52;52;264;52;116;222;780;632;52;8...</td>\n",
       "      <td>1;2;1;1;2;2;2;1;1;1;1;2;1;1;2;2;1;2;2;1;2;1;2;...</td>\n",
       "      <td>720</td>\n",
       "    </tr>\n",
       "    <tr>\n",
       "      <th>101</th>\n",
       "      <td>1603734004</td>\n",
       "      <td>10.0.0.236</td>\n",
       "      <td>35096</td>\n",
       "      <td>35.186.227.140</td>\n",
       "      <td>443</td>\n",
       "      <td>6</td>\n",
       "      <td>94860</td>\n",
       "      <td>5380</td>\n",
       "      <td>69</td>\n",
       "      <td>71</td>\n",
       "      <td>1603734004024;1603734004024;1603734004024;1603...</td>\n",
       "      <td>164;1430;52;211;91;52;91;52;684;1053;1470;1470...</td>\n",
       "      <td>2;2;1;2;2;1;1;2;1;1;1;1;1;1;1;1;1;1;2;1;1;2;1;...</td>\n",
       "      <td>1080</td>\n",
       "    </tr>\n",
       "  </tbody>\n",
       "</table>\n",
       "</div>"
      ],
      "text/plain": [
       "           Time         IP1  Port1              IP2  Port2  Proto  1->2Bytes  \\\n",
       "523  1603741731  10.0.0.236  36218   35.186.227.140    443      6       4068   \n",
       "524  1603741731  10.0.0.236  38060   35.165.119.189    443      6       2404   \n",
       "184  1603741142  10.0.0.190  60000  239.255.255.250   1900     17       4353   \n",
       "346  1603741229  10.0.0.236  36192   35.186.227.140    443      6       3048   \n",
       "347  1603741229  10.0.0.113  60000  239.255.255.250   1900     17       2910   \n",
       "349  1603741230  10.0.0.113  60000  239.255.255.250   1900     17       5820   \n",
       "125  1603740714  10.0.0.236  41476    34.199.85.193    443      6       3982   \n",
       "234  1603740765  10.0.0.236  52382    3.215.209.232    443      6       2134   \n",
       "506  1603740907   10.0.0.64   5353      224.0.0.251   5353     17       1918   \n",
       "507  1603740907  10.0.0.113  59892  239.255.255.250   1900     17       1778   \n",
       "509  1603740907  10.0.0.113  45249  239.255.255.250   1900     17       1778   \n",
       "685  1603740538  10.0.0.236  36136   35.186.227.140    443      6      99762   \n",
       "101  1603734004  10.0.0.236  35096   35.186.227.140    443      6      94860   \n",
       "\n",
       "     2->1Bytes  1->2Pkts  2->1Pkts  \\\n",
       "523       4885        22        24   \n",
       "524       4432         9         7   \n",
       "184          0        12         0   \n",
       "346       2232        15        12   \n",
       "347          0         8         0   \n",
       "349          0        16         0   \n",
       "125       1093        13         9   \n",
       "234      13627        15        11   \n",
       "506          0         7         0   \n",
       "507          0         3         0   \n",
       "509          0         3         0   \n",
       "685      21513        95       102   \n",
       "101       5380        69        71   \n",
       "\n",
       "                                          packet_times  \\\n",
       "523  1603741731222;1603741731242;1603741731242;1603...   \n",
       "524  1603741731227;1603741731262;1603741731262;1603...   \n",
       "184  1603741142434;1603741142434;1603741142435;1603...   \n",
       "346  1603741229736;1603741229757;1603741229757;1603...   \n",
       "347  1603741229922;1603741229928;1603741229933;1603...   \n",
       "349  1603741230111;1603741230114;1603741230115;1603...   \n",
       "125  1603740714523;1603740714606;1603740714606;1603...   \n",
       "234  1603740765515;1603740765601;1603740765601;1603...   \n",
       "506  1603740907069;1603740907381;1603740907484;1603...   \n",
       "507         1603740907323;1603740907324;1603740907324;   \n",
       "509         1603740907424;1603740907426;1603740907426;   \n",
       "685  1603740538102;1603740538147;1603740538147;1603...   \n",
       "101  1603734004024;1603734004024;1603734004024;1603...   \n",
       "\n",
       "                                          packet_sizes  \\\n",
       "523  60;60;52;715;52;264;52;116;222;780;632;52;83;5...   \n",
       "524  60;60;52;569;52;1500;52;2032;52;178;1337;52;10...   \n",
       "184   337;346;383;385;337;346;383;385;337;346;383;385;   \n",
       "346  60;60;52;715;52;264;52;116;222;779;52;632;52;8...   \n",
       "347                   337;346;383;385;339;348;385;387;   \n",
       "349  337;346;383;385;339;348;385;387;337;346;383;38...   \n",
       "125  60;60;52;610;52;198;52;103;229;52;130;52;90;50...   \n",
       "234  60;60;52;614;52;198;52;103;229;264;358;52;130;...   \n",
       "506                       277;277;393;202;277;131;361;   \n",
       "507                                       549;632;597;   \n",
       "509                                       549;632;597;   \n",
       "685  60;60;52;715;52;52;264;52;116;222;780;632;52;8...   \n",
       "101  164;1430;52;211;91;52;91;52;684;1053;1470;1470...   \n",
       "\n",
       "                                           packet_dirs  quality  \n",
       "523  1;2;1;1;2;2;1;1;1;1;2;1;1;2;2;1;2;2;1;2;1;2;1;...      240  \n",
       "524                   1;2;1;1;2;2;1;2;1;1;1;2;2;1;2;1;      240  \n",
       "184                           1;1;1;1;1;1;1;1;1;1;1;1;      360  \n",
       "346  1;2;1;1;2;2;1;1;1;1;2;2;1;1;2;1;2;2;1;2;1;2;1;...      360  \n",
       "347                                   1;1;1;1;1;1;1;1;      360  \n",
       "349                   1;1;1;1;1;1;1;1;1;1;1;1;1;1;1;1;      360  \n",
       "125       1;2;1;1;2;2;1;1;1;2;2;1;1;1;1;1;2;2;2;1;2;1;      480  \n",
       "234  1;2;1;1;2;2;1;1;1;1;1;2;2;1;1;2;1;2;1;2;1;2;1;...      480  \n",
       "506                                     1;1;1;1;1;1;1;      480  \n",
       "507                                             1;1;1;      480  \n",
       "509                                             1;1;1;      480  \n",
       "685  1;2;1;1;2;2;2;1;1;1;1;2;1;1;2;2;1;2;2;1;2;1;2;...      720  \n",
       "101  2;2;1;2;2;1;1;2;1;1;1;1;1;1;1;1;1;1;2;1;1;2;1;...     1080  "
      ]
     },
     "execution_count": 207,
     "metadata": {},
     "output_type": "execute_result"
    }
   ],
   "source": [
    "# There's nothing reliable we can learn from those spikes -- let's just clean them out.\n",
    "zscores = quals['1->2Bytes'].transform(lambda x: (x - x.mean()) / x.std())\n",
    "data[zscores > 5]"
   ]
  },
  {
   "cell_type": "code",
   "execution_count": 208,
   "metadata": {},
   "outputs": [
    {
     "data": {
      "text/plain": [
       "quality\n",
       "240     AxesSubplot(0.125,0.125;0.775x0.755)\n",
       "360     AxesSubplot(0.125,0.125;0.775x0.755)\n",
       "480     AxesSubplot(0.125,0.125;0.775x0.755)\n",
       "720     AxesSubplot(0.125,0.125;0.775x0.755)\n",
       "1080    AxesSubplot(0.125,0.125;0.775x0.755)\n",
       "dtype: object"
      ]
     },
     "execution_count": 208,
     "metadata": {},
     "output_type": "execute_result"
    },
    {
     "data": {
      "image/png": "[encoded data removed]",
      "text/plain": [
       "<Figure size 432x288 with 1 Axes>"
      ]
     },
     "metadata": {
      "needs_background": "light"
     },
     "output_type": "display_data"
    },
    {
     "data": {
      "image/png": "[encoded data removed]",
      "text/plain": [
       "<Figure size 432x288 with 1 Axes>"
      ]
     },
     "metadata": {
      "needs_background": "light"
     },
     "output_type": "display_data"
    },
    {
     "data": {
      "image/png": "[encoded data removed]",
      "text/plain": [
       "<Figure size 432x288 with 1 Axes>"
      ]
     },
     "metadata": {
      "needs_background": "light"
     },
     "output_type": "display_data"
    },
    {
     "data": {
      "image/png": "[encoded data removed]",
      "text/plain": [
       "<Figure size 432x288 with 1 Axes>"
      ]
     },
     "metadata": {
      "needs_background": "light"
     },
     "output_type": "display_data"
    },
    {
     "data": {
      "image/png": "[encoded data removed]",
      "text/plain": [
       "<Figure size 432x288 with 1 Axes>"
      ]
     },
     "metadata": {
      "needs_background": "light"
     },
     "output_type": "display_data"
    }
   ],
   "source": [
    "quals[['Time','2->1Bytes']].plot(x='Time')"
   ]
  },
  {
   "cell_type": "markdown",
   "metadata": {},
   "source": [
    "## <font color=\"red\">Worth mentioning: it looks like those *consistent* spikes aren't coming from an external ip -- maybe they're from a multicast or something? When I look at only external ips I don't get the same consistent spikes that other people see"
   ]
  },
  {
   "cell_type": "code",
   "execution_count": null,
   "metadata": {},
   "outputs": [],
   "source": []
  },
  {
   "cell_type": "code",
   "execution_count": null,
   "metadata": {},
   "outputs": [],
   "source": []
  },
  {
   "cell_type": "markdown",
   "metadata": {},
   "source": [
    "### Some per-packet exploration (extended output)"
   ]
  },
  {
   "cell_type": "code",
   "execution_count": 11,
   "metadata": {},
   "outputs": [],
   "source": [
    "per_packet = lambda string: [int(s) for s in string.strip(';').split(';')]\n",
    "\n",
    "def per_packet_stats(group):\n",
    "    # The sum is just appending all the lists\n",
    "    packets = np.array(\n",
    "        group\n",
    "        .apply(per_packet)\n",
    "        .sum()\n",
    "    )\n",
    "    return packets.min(), packets.mean(), np.median(packets), packets.max(), packets.sum(), len(packets)"
   ]
  },
  {
   "cell_type": "code",
   "execution_count": 12,
   "metadata": {},
   "outputs": [
    {
     "data": {
      "text/plain": [
       "quality\n",
       "240     (28, 184.2803738317757, 154.0, 3444, 157744, 856)\n",
       "360     (28, 187.91002811621368, 154.0, 3480, 200500, ...\n",
       "480              (28, 169.336, 140.5, 5844, 169336, 1000)\n",
       "720     (28, 255.7121513944223, 105.0, 3819, 513470, 2...\n",
       "1080    (28, 229.63815384615384, 153.0, 3480, 373162, ...\n",
       "Name: packet_sizes, dtype: object"
      ]
     },
     "execution_count": 12,
     "metadata": {},
     "output_type": "execute_result"
    }
   ],
   "source": [
    "pps = quals['packet_sizes'].agg(per_packet_stats)\n",
    "pps"
   ]
  },
  {
   "cell_type": "code",
   "execution_count": 13,
   "metadata": {},
   "outputs": [
    {
     "data": {
      "text/plain": [
       "(28, 255.7121513944223, 105.0, 3819, 513470, 2008)"
      ]
     },
     "execution_count": 13,
     "metadata": {},
     "output_type": "execute_result"
    }
   ],
   "source": [
    "pps[720]"
   ]
  },
  {
   "cell_type": "code",
   "execution_count": 209,
   "metadata": {},
   "outputs": [],
   "source": [
    "# I should at least look at the packet timing, I don't think anyone's looked at\n",
    "# that yet"
   ]
  },
  {
   "cell_type": "markdown",
   "metadata": {},
   "source": [
    "## Packet timing"
   ]
  },
  {
   "cell_type": "code",
   "execution_count": 210,
   "metadata": {},
   "outputs": [
    {
     "data": {
      "text/html": [
       "<div>\n",
       "<style scoped>\n",
       "    .dataframe tbody tr th:only-of-type {\n",
       "        vertical-align: middle;\n",
       "    }\n",
       "\n",
       "    .dataframe tbody tr th {\n",
       "        vertical-align: top;\n",
       "    }\n",
       "\n",
       "    .dataframe thead th {\n",
       "        text-align: right;\n",
       "    }\n",
       "</style>\n",
       "<table border=\"1\" class=\"dataframe\">\n",
       "  <thead>\n",
       "    <tr style=\"text-align: right;\">\n",
       "      <th></th>\n",
       "      <th>packet_times</th>\n",
       "      <th>packet_sizes</th>\n",
       "      <th>packet_dirs</th>\n",
       "    </tr>\n",
       "  </thead>\n",
       "  <tbody>\n",
       "    <tr>\n",
       "      <th>0</th>\n",
       "      <td>[1603741420701]</td>\n",
       "      <td>[32]</td>\n",
       "      <td>[1]</td>\n",
       "    </tr>\n",
       "    <tr>\n",
       "      <th>1</th>\n",
       "      <td>[1603741422183]</td>\n",
       "      <td>[64]</td>\n",
       "      <td>[1]</td>\n",
       "    </tr>\n",
       "    <tr>\n",
       "      <th>2</th>\n",
       "      <td>[1603741423622]</td>\n",
       "      <td>[32]</td>\n",
       "      <td>[1]</td>\n",
       "    </tr>\n",
       "    <tr>\n",
       "      <th>3</th>\n",
       "      <td>[1603741424976]</td>\n",
       "      <td>[32]</td>\n",
       "      <td>[1]</td>\n",
       "    </tr>\n",
       "    <tr>\n",
       "      <th>5</th>\n",
       "      <td>[1603741425048, 1603741425381]</td>\n",
       "      <td>[87, 52]</td>\n",
       "      <td>[1, 1]</td>\n",
       "    </tr>\n",
       "    <tr>\n",
       "      <th>...</th>\n",
       "      <td>...</td>\n",
       "      <td>...</td>\n",
       "      <td>...</td>\n",
       "    </tr>\n",
       "    <tr>\n",
       "      <th>829</th>\n",
       "      <td>[1603734384518]</td>\n",
       "      <td>[89]</td>\n",
       "      <td>[1]</td>\n",
       "    </tr>\n",
       "    <tr>\n",
       "      <th>830</th>\n",
       "      <td>[1603734384637]</td>\n",
       "      <td>[407]</td>\n",
       "      <td>[1]</td>\n",
       "    </tr>\n",
       "    <tr>\n",
       "      <th>832</th>\n",
       "      <td>[1603734386204, 1603734386219, 1603734386219, ...</td>\n",
       "      <td>[60, 60, 52, 715, 52, 264, 52, 116, 222, 778, ...</td>\n",
       "      <td>[1, 2, 1, 1, 2, 2, 1, 1, 1, 1, 2, 2, 1, 1, 2, ...</td>\n",
       "    </tr>\n",
       "    <tr>\n",
       "      <th>833</th>\n",
       "      <td>[1603734386204, 1603734386240, 1603734386240, ...</td>\n",
       "      <td>[60, 60, 52, 569, 52, 1500, 52, 2032, 52, 178,...</td>\n",
       "      <td>[1, 2, 1, 1, 2, 2, 1, 2, 1, 1, 1, 2, 1, 2, 1]</td>\n",
       "    </tr>\n",
       "    <tr>\n",
       "      <th>834</th>\n",
       "      <td>[1603734387757]</td>\n",
       "      <td>[154]</td>\n",
       "      <td>[1]</td>\n",
       "    </tr>\n",
       "  </tbody>\n",
       "</table>\n",
       "<p>2481 rows × 3 columns</p>\n",
       "</div>"
      ],
      "text/plain": [
       "                                          packet_times  \\\n",
       "0                                      [1603741420701]   \n",
       "1                                      [1603741422183]   \n",
       "2                                      [1603741423622]   \n",
       "3                                      [1603741424976]   \n",
       "5                       [1603741425048, 1603741425381]   \n",
       "..                                                 ...   \n",
       "829                                    [1603734384518]   \n",
       "830                                    [1603734384637]   \n",
       "832  [1603734386204, 1603734386219, 1603734386219, ...   \n",
       "833  [1603734386204, 1603734386240, 1603734386240, ...   \n",
       "834                                    [1603734387757]   \n",
       "\n",
       "                                          packet_sizes  \\\n",
       "0                                                 [32]   \n",
       "1                                                 [64]   \n",
       "2                                                 [32]   \n",
       "3                                                 [32]   \n",
       "5                                             [87, 52]   \n",
       "..                                                 ...   \n",
       "829                                               [89]   \n",
       "830                                              [407]   \n",
       "832  [60, 60, 52, 715, 52, 264, 52, 116, 222, 778, ...   \n",
       "833  [60, 60, 52, 569, 52, 1500, 52, 2032, 52, 178,...   \n",
       "834                                              [154]   \n",
       "\n",
       "                                           packet_dirs  \n",
       "0                                                  [1]  \n",
       "1                                                  [1]  \n",
       "2                                                  [1]  \n",
       "3                                                  [1]  \n",
       "5                                               [1, 1]  \n",
       "..                                                 ...  \n",
       "829                                                [1]  \n",
       "830                                                [1]  \n",
       "832  [1, 2, 1, 1, 2, 2, 1, 1, 1, 1, 2, 2, 1, 1, 2, ...  \n",
       "833      [1, 2, 1, 1, 2, 2, 1, 2, 1, 1, 1, 2, 1, 2, 1]  \n",
       "834                                                [1]  \n",
       "\n",
       "[2481 rows x 3 columns]"
      ]
     },
     "execution_count": 210,
     "metadata": {},
     "output_type": "execute_result"
    }
   ],
   "source": [
    "data.filter(like='packet_').applymap(per_packet)"
   ]
  },
  {
   "cell_type": "code",
   "execution_count": 211,
   "metadata": {},
   "outputs": [],
   "source": [
    "# Maybe we can come up with a figure for data flow -- MB/s\n",
    "\n",
    "# Why are the 1->2Bytes so large? I gue"
   ]
  },
  {
   "cell_type": "code",
   "execution_count": null,
   "metadata": {},
   "outputs": [],
   "source": []
  },
  {
   "cell_type": "code",
   "execution_count": null,
   "metadata": {},
   "outputs": [],
   "source": []
  },
  {
   "cell_type": "markdown",
   "metadata": {},
   "source": [
    "## My bytes received is low -- true for VPN too?"
   ]
  },
  {
   "cell_type": "code",
   "execution_count": 98,
   "metadata": {},
   "outputs": [],
   "source": [
    "# If we look at VPN case, does 2->1Bytes make more sense?\n",
    "v = pd.read_csv('../data/unzipped/pgaddiso-youtube-1x-1080p-vpn-linux-clean-20201026a.csv')\n",
    "v = v[v.Time <= v.Time + 5*60]\n",
    "v['Time'] = pd.to_datetime(v['Time'], unit='s')\n",
    "v[['1->2Bytes', '2->1Bytes']] = v[['1->2Bytes', '2->1Bytes']]"
   ]
  },
  {
   "cell_type": "code",
   "execution_count": 99,
   "metadata": {},
   "outputs": [
    {
     "data": {
      "text/plain": [
       "<matplotlib.axes._subplots.AxesSubplot at 0x7f81dbeb6d60>"
      ]
     },
     "execution_count": 99,
     "metadata": {},
     "output_type": "execute_result"
    },
    {
     "data": {
      "image/png": "[encoded data removed]",
      "text/plain": [
       "<Figure size 432x288 with 1 Axes>"
      ]
     },
     "metadata": {
      "needs_background": "light"
     },
     "output_type": "display_data"
    }
   ],
   "source": [
    "v.plot(x='Time', y='2->1Bytes')"
   ]
  },
  {
   "cell_type": "code",
   "execution_count": 91,
   "metadata": {},
   "outputs": [],
   "source": [
    "# Sure enough, looks right for VPN."
   ]
  },
  {
   "cell_type": "code",
   "execution_count": null,
   "metadata": {},
   "outputs": [],
   "source": []
  },
  {
   "cell_type": "code",
   "execution_count": null,
   "metadata": {},
   "outputs": [],
   "source": []
  },
  {
   "cell_type": "code",
   "execution_count": null,
   "metadata": {},
   "outputs": [],
   "source": []
  },
  {
   "cell_type": "code",
   "execution_count": null,
   "metadata": {},
   "outputs": [],
   "source": []
  },
  {
   "cell_type": "code",
   "execution_count": null,
   "metadata": {},
   "outputs": [],
   "source": []
  }
 ],
 "metadata": {
  "kernelspec": {
   "display_name": "Python 3",
   "language": "python",
   "name": "python3"
  },
  "language_info": {
   "codemirror_mode": {
    "name": "ipython",
    "version": 3
   },
   "file_extension": ".py",
   "mimetype": "text/x-python",
   "name": "python",
   "nbconvert_exporter": "python",
   "pygments_lexer": "ipython3",
   "version": "3.8.3"
  }
 },
 "nbformat": 4,
 "nbformat_minor": 4
}
