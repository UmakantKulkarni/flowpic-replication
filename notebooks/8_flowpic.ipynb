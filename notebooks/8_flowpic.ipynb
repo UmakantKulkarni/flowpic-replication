{
 "cells": [
  {
   "cell_type": "markdown",
   "metadata": {},
   "source": [
    "# FlowPic replication\n",
    "\n",
    "For the course of this exploration I'll be attempting to replicate salient aspects of [FlowPic: Encrypted Internet Traffic Classification is as Easy as Image Recognition](https://ieeexplore.ieee.org/document/8845315) by Tal Shapira and Yuval Shavitt."
   ]
  },
  {
   "cell_type": "markdown",
   "metadata": {},
   "source": [
    "Jump to:\n",
    "1. [Preprocessing](#Preprocessing)\n",
    "1. [Classifier](#Classifier)\n",
    "1. [Adding direction as a channel](#Adding-direction-as-a-channel)\n",
    "1. [Predicting](#Predicting)\n",
    "1. [Old Code](#Old-Code)"
   ]
  },
  {
   "cell_type": "code",
   "execution_count": 1,
   "metadata": {},
   "outputs": [],
   "source": [
    "import sys\n",
    "import os\n",
    "parent_dir = os.path.dirname(os.getcwd())\n",
    "sys.path.insert(0, parent_dir)\n",
    "import src\n",
    "\n",
    "import pandas as pd\n",
    "import numpy as np\n",
    "import matplotlib.pyplot as plt\n",
    "import glob\n",
    "\n",
    "import ipaddress\n",
    "from ipaddress import ip_address as IP\n",
    "\n",
    "import tensorflow as tf\n",
    "from tensorflow import keras"
   ]
  },
  {
   "cell_type": "markdown",
   "metadata": {},
   "source": [
    "# Preprocessing"
   ]
  },
  {
   "cell_type": "markdown",
   "metadata": {},
   "source": [
    "## Dataset preparations"
   ]
  },
  {
   "cell_type": "markdown",
   "metadata": {},
   "source": [
    "> We split each pcap file to unidirectional flows,  where  each  flow  is  defined  by  a  5-tuple  {source  IP,source port, destination IP, destination port, protocol}\n",
    "\n",
    "This suggests the following process/changes to our preprocessing:\n",
    "- Packet level unbinning should produce multiple dataframes\n",
    "- Each dataframe needs to have a unique pair of IPs, *direction*, etc.\n",
    "    - Since we're assuming a VPN is in use, we should be able to clean the data so that only the VPN traffic remains, then we can just split it on direction"
   ]
  },
  {
   "cell_type": "code",
   "execution_count": 2,
   "metadata": {
    "scrolled": true
   },
   "outputs": [
    {
     "name": "stdout",
     "output_type": "stream",
     "text": [
      "../data/raw/stdoan-youtube[2160p60]-1x-vpn-windows-20201102.csv\n",
      "['2607:F720:1901:1691:137:110:35:169' '137.110.35.169'] ['2607:F8B0:4007:80E::200E' '2607:F8B0:401C:1::9'\n",
      " '2607:F8B0:4007:803::2003' '132.239.0.252' '2607:F8B0:4007:80E::2003'\n",
      " '2607:F8B0:4007:804::200E' '2607:F8B0:4007:800::2016'\n",
      " '2607:F8B0:4007:813::2003' '2607:F8B0:4007:816::200A'\n",
      " '2607:F8B0:4007:80F::200E' '2607:F8B0:4007:801::200A'\n",
      " '2607:F8B0:4007:801::200E' '2607:F8B0:4023:C03::BC'\n",
      " '2607:F8B0:4007:813::2004' '2607:F8B0:4007:810::200E'\n",
      " '2607:F8B0:4007:80C::2001' '52.167.253.237' '2404:6800:4005:804::2003'\n",
      " '132.239.0.250' '2607:F720:1901:1691:137:110:35:169'\n",
      " '2A00:1450:4007:6::8' '106.13.184.7' '2607:F8B0:4007:2E::C'\n",
      " '2607:F8B0:4023:C03::64' '2607:F8B0:4007:811::200E'\n",
      " '2607:F8B0:4007:80D::200A' '185.199.110.153' '2607:F8B0:4007:80D::200E'\n",
      " '2607:F8B0:4007:808::2003' '23.65.34.215' '2607:F8B0:4007:80B::200A'\n",
      " '2600:1406:3400::173F:F343' '52.109.12.18' '2607:F8B0:4007:813::200A'\n",
      " '2607:F8B0:4007:801::2003']\n"
     ]
    },
    {
     "data": {
      "text/html": [
       "<div>\n",
       "<style scoped>\n",
       "    .dataframe tbody tr th:only-of-type {\n",
       "        vertical-align: middle;\n",
       "    }\n",
       "\n",
       "    .dataframe tbody tr th {\n",
       "        vertical-align: top;\n",
       "    }\n",
       "\n",
       "    .dataframe thead th {\n",
       "        text-align: right;\n",
       "    }\n",
       "</style>\n",
       "<table border=\"1\" class=\"dataframe\">\n",
       "  <thead>\n",
       "    <tr style=\"text-align: right;\">\n",
       "      <th></th>\n",
       "      <th>Time</th>\n",
       "      <th>IP1</th>\n",
       "      <th>Port1</th>\n",
       "      <th>IP2</th>\n",
       "      <th>Port2</th>\n",
       "      <th>Proto</th>\n",
       "      <th>1-&gt;2Bytes</th>\n",
       "      <th>2-&gt;1Bytes</th>\n",
       "      <th>1-&gt;2Pkts</th>\n",
       "      <th>2-&gt;1Pkts</th>\n",
       "      <th>packet_times</th>\n",
       "      <th>packet_sizes</th>\n",
       "      <th>packet_dirs</th>\n",
       "    </tr>\n",
       "  </thead>\n",
       "  <tbody>\n",
       "    <tr>\n",
       "      <th>0</th>\n",
       "      <td>1604368805</td>\n",
       "      <td>2607:F720:1901:1691:137:110:35:169</td>\n",
       "      <td>1271</td>\n",
       "      <td>2607:F8B0:4007:80E::200E</td>\n",
       "      <td>443</td>\n",
       "      <td>6</td>\n",
       "      <td>1041</td>\n",
       "      <td>17595</td>\n",
       "      <td>11</td>\n",
       "      <td>19</td>\n",
       "      <td>1604368805709;1604368805709;1604368805736;1604...</td>\n",
       "      <td>402;99;60;60;99;60;432;1280;60;1280;1280;60;12...</td>\n",
       "      <td>1;1;2;2;2;1;2;2;1;2;2;1;2;2;1;2;2;1;2;2;1;2;2;...</td>\n",
       "    </tr>\n",
       "    <tr>\n",
       "      <th>1</th>\n",
       "      <td>1604368806</td>\n",
       "      <td>2607:F720:1901:1691:137:110:35:169</td>\n",
       "      <td>1271</td>\n",
       "      <td>2607:F8B0:4007:80E::200E</td>\n",
       "      <td>443</td>\n",
       "      <td>6</td>\n",
       "      <td>2859</td>\n",
       "      <td>112016</td>\n",
       "      <td>47</td>\n",
       "      <td>93</td>\n",
       "      <td>1604368806198;1604368806198;1604368806198;1604...</td>\n",
       "      <td>1280;1280;60;1280;1280;60;1280;1280;60;1280;12...</td>\n",
       "      <td>2;2;1;2;2;1;2;2;1;2;2;1;2;2;1;2;2;1;2;2;1;2;2;...</td>\n",
       "    </tr>\n",
       "    <tr>\n",
       "      <th>2</th>\n",
       "      <td>1604368806</td>\n",
       "      <td>2607:F720:1901:1691:137:110:35:169</td>\n",
       "      <td>1462</td>\n",
       "      <td>2607:F8B0:401C:1::9</td>\n",
       "      <td>443</td>\n",
       "      <td>6</td>\n",
       "      <td>4224</td>\n",
       "      <td>76303</td>\n",
       "      <td>36</td>\n",
       "      <td>63</td>\n",
       "      <td>1604368806415;1604368806441;1604368806441;1604...</td>\n",
       "      <td>72;72;60;577;60;1280;1280;60;1195;124;1300;291...</td>\n",
       "      <td>1;2;1;1;2;2;2;1;2;1;1;1;2;2;2;1;2;2;1;2;2;1;2;...</td>\n",
       "    </tr>\n",
       "    <tr>\n",
       "      <th>3</th>\n",
       "      <td>1604368806</td>\n",
       "      <td>2607:F720:1901:1691:137:110:35:169</td>\n",
       "      <td>1463</td>\n",
       "      <td>2607:F8B0:401C:1::9</td>\n",
       "      <td>443</td>\n",
       "      <td>6</td>\n",
       "      <td>47839</td>\n",
       "      <td>1064582</td>\n",
       "      <td>635</td>\n",
       "      <td>842</td>\n",
       "      <td>1604368806415;1604368806446;1604368806446;1604...</td>\n",
       "      <td>72;72;60;577;60;1280;1280;60;1195;124;1300;398...</td>\n",
       "      <td>1;2;1;1;2;2;2;1;2;1;1;1;2;2;2;1;2;2;1;2;2;1;2;...</td>\n",
       "    </tr>\n",
       "    <tr>\n",
       "      <th>4</th>\n",
       "      <td>1604368806</td>\n",
       "      <td>2607:F720:1901:1691:137:110:35:169</td>\n",
       "      <td>1279</td>\n",
       "      <td>2607:F8B0:4007:803::2003</td>\n",
       "      <td>443</td>\n",
       "      <td>6</td>\n",
       "      <td>1667</td>\n",
       "      <td>654</td>\n",
       "      <td>7</td>\n",
       "      <td>8</td>\n",
       "      <td>1604368806530;1604368806530;1604368806530;1604...</td>\n",
       "      <td>128;99;1126;60;60;60;99;125;60;91;99;60;99;95;60;</td>\n",
       "      <td>1;1;1;2;2;2;2;2;1;2;2;1;1;1;2;</td>\n",
       "    </tr>\n",
       "    <tr>\n",
       "      <th>...</th>\n",
       "      <td>...</td>\n",
       "      <td>...</td>\n",
       "      <td>...</td>\n",
       "      <td>...</td>\n",
       "      <td>...</td>\n",
       "      <td>...</td>\n",
       "      <td>...</td>\n",
       "      <td>...</td>\n",
       "      <td>...</td>\n",
       "      <td>...</td>\n",
       "      <td>...</td>\n",
       "      <td>...</td>\n",
       "      <td>...</td>\n",
       "    </tr>\n",
       "    <tr>\n",
       "      <th>343</th>\n",
       "      <td>1604369107</td>\n",
       "      <td>2607:F720:1901:1691:137:110:35:169</td>\n",
       "      <td>1471</td>\n",
       "      <td>2404:6800:4005:804::2003</td>\n",
       "      <td>443</td>\n",
       "      <td>6</td>\n",
       "      <td>120</td>\n",
       "      <td>236</td>\n",
       "      <td>2</td>\n",
       "      <td>3</td>\n",
       "      <td>1604369107347;1604369107347;1604369107347;1604...</td>\n",
       "      <td>116;60;60;60;60;</td>\n",
       "      <td>2;2;1;1;2;</td>\n",
       "    </tr>\n",
       "    <tr>\n",
       "      <th>344</th>\n",
       "      <td>1604369108</td>\n",
       "      <td>2607:F720:1901:1691:137:110:35:169</td>\n",
       "      <td>1571</td>\n",
       "      <td>2607:F8B0:4007:804::200E</td>\n",
       "      <td>443</td>\n",
       "      <td>6</td>\n",
       "      <td>61</td>\n",
       "      <td>72</td>\n",
       "      <td>1</td>\n",
       "      <td>1</td>\n",
       "      <td>1604369108673;1604369108699;</td>\n",
       "      <td>61;72;</td>\n",
       "      <td>1;2;</td>\n",
       "    </tr>\n",
       "    <tr>\n",
       "      <th>345</th>\n",
       "      <td>1604369109</td>\n",
       "      <td>2607:F720:1901:1691:137:110:35:169</td>\n",
       "      <td>1572</td>\n",
       "      <td>2607:F8B0:4007:813::200A</td>\n",
       "      <td>443</td>\n",
       "      <td>6</td>\n",
       "      <td>61</td>\n",
       "      <td>72</td>\n",
       "      <td>1</td>\n",
       "      <td>1</td>\n",
       "      <td>1604369109155;1604369109182;</td>\n",
       "      <td>61;72;</td>\n",
       "      <td>1;2;</td>\n",
       "    </tr>\n",
       "    <tr>\n",
       "      <th>346</th>\n",
       "      <td>1604369112</td>\n",
       "      <td>2607:F720:1901:1691:137:110:35:169</td>\n",
       "      <td>1271</td>\n",
       "      <td>2607:F8B0:4007:80E::200E</td>\n",
       "      <td>443</td>\n",
       "      <td>6</td>\n",
       "      <td>884</td>\n",
       "      <td>600</td>\n",
       "      <td>5</td>\n",
       "      <td>7</td>\n",
       "      <td>1604369112385;1604369112385;1604369112412;1604...</td>\n",
       "      <td>566;99;60;60;99;131;60;91;99;60;99;60;</td>\n",
       "      <td>1;1;2;2;2;2;1;2;2;1;1;2;</td>\n",
       "    </tr>\n",
       "    <tr>\n",
       "      <th>347</th>\n",
       "      <td>1604369112</td>\n",
       "      <td>2607:F720:1901:1691:137:110:35:169</td>\n",
       "      <td>1279</td>\n",
       "      <td>2607:F8B0:4007:803::2003</td>\n",
       "      <td>443</td>\n",
       "      <td>6</td>\n",
       "      <td>1264</td>\n",
       "      <td>654</td>\n",
       "      <td>7</td>\n",
       "      <td>8</td>\n",
       "      <td>1604369112448;1604369112448;1604369112448;1604...</td>\n",
       "      <td>124;99;727;60;60;60;99;125;60;91;99;60;99;95;60;</td>\n",
       "      <td>1;1;1;2;2;2;2;2;1;2;2;1;1;1;2;</td>\n",
       "    </tr>\n",
       "  </tbody>\n",
       "</table>\n",
       "<p>330 rows × 13 columns</p>\n",
       "</div>"
      ],
      "text/plain": [
       "           Time                                 IP1  Port1  \\\n",
       "0    1604368805  2607:F720:1901:1691:137:110:35:169   1271   \n",
       "1    1604368806  2607:F720:1901:1691:137:110:35:169   1271   \n",
       "2    1604368806  2607:F720:1901:1691:137:110:35:169   1462   \n",
       "3    1604368806  2607:F720:1901:1691:137:110:35:169   1463   \n",
       "4    1604368806  2607:F720:1901:1691:137:110:35:169   1279   \n",
       "..          ...                                 ...    ...   \n",
       "343  1604369107  2607:F720:1901:1691:137:110:35:169   1471   \n",
       "344  1604369108  2607:F720:1901:1691:137:110:35:169   1571   \n",
       "345  1604369109  2607:F720:1901:1691:137:110:35:169   1572   \n",
       "346  1604369112  2607:F720:1901:1691:137:110:35:169   1271   \n",
       "347  1604369112  2607:F720:1901:1691:137:110:35:169   1279   \n",
       "\n",
       "                          IP2  Port2  Proto  1->2Bytes  2->1Bytes  1->2Pkts  \\\n",
       "0    2607:F8B0:4007:80E::200E    443      6       1041      17595        11   \n",
       "1    2607:F8B0:4007:80E::200E    443      6       2859     112016        47   \n",
       "2         2607:F8B0:401C:1::9    443      6       4224      76303        36   \n",
       "3         2607:F8B0:401C:1::9    443      6      47839    1064582       635   \n",
       "4    2607:F8B0:4007:803::2003    443      6       1667        654         7   \n",
       "..                        ...    ...    ...        ...        ...       ...   \n",
       "343  2404:6800:4005:804::2003    443      6        120        236         2   \n",
       "344  2607:F8B0:4007:804::200E    443      6         61         72         1   \n",
       "345  2607:F8B0:4007:813::200A    443      6         61         72         1   \n",
       "346  2607:F8B0:4007:80E::200E    443      6        884        600         5   \n",
       "347  2607:F8B0:4007:803::2003    443      6       1264        654         7   \n",
       "\n",
       "     2->1Pkts                                       packet_times  \\\n",
       "0          19  1604368805709;1604368805709;1604368805736;1604...   \n",
       "1          93  1604368806198;1604368806198;1604368806198;1604...   \n",
       "2          63  1604368806415;1604368806441;1604368806441;1604...   \n",
       "3         842  1604368806415;1604368806446;1604368806446;1604...   \n",
       "4           8  1604368806530;1604368806530;1604368806530;1604...   \n",
       "..        ...                                                ...   \n",
       "343         3  1604369107347;1604369107347;1604369107347;1604...   \n",
       "344         1                       1604369108673;1604369108699;   \n",
       "345         1                       1604369109155;1604369109182;   \n",
       "346         7  1604369112385;1604369112385;1604369112412;1604...   \n",
       "347         8  1604369112448;1604369112448;1604369112448;1604...   \n",
       "\n",
       "                                          packet_sizes  \\\n",
       "0    402;99;60;60;99;60;432;1280;60;1280;1280;60;12...   \n",
       "1    1280;1280;60;1280;1280;60;1280;1280;60;1280;12...   \n",
       "2    72;72;60;577;60;1280;1280;60;1195;124;1300;291...   \n",
       "3    72;72;60;577;60;1280;1280;60;1195;124;1300;398...   \n",
       "4    128;99;1126;60;60;60;99;125;60;91;99;60;99;95;60;   \n",
       "..                                                 ...   \n",
       "343                                   116;60;60;60;60;   \n",
       "344                                             61;72;   \n",
       "345                                             61;72;   \n",
       "346             566;99;60;60;99;131;60;91;99;60;99;60;   \n",
       "347   124;99;727;60;60;60;99;125;60;91;99;60;99;95;60;   \n",
       "\n",
       "                                           packet_dirs  \n",
       "0    1;1;2;2;2;1;2;2;1;2;2;1;2;2;1;2;2;1;2;2;1;2;2;...  \n",
       "1    2;2;1;2;2;1;2;2;1;2;2;1;2;2;1;2;2;1;2;2;1;2;2;...  \n",
       "2    1;2;1;1;2;2;2;1;2;1;1;1;2;2;2;1;2;2;1;2;2;1;2;...  \n",
       "3    1;2;1;1;2;2;2;1;2;1;1;1;2;2;2;1;2;2;1;2;2;1;2;...  \n",
       "4                       1;1;1;2;2;2;2;2;1;2;2;1;1;1;2;  \n",
       "..                                                 ...  \n",
       "343                                         2;2;1;1;2;  \n",
       "344                                               1;2;  \n",
       "345                                               1;2;  \n",
       "346                           1;1;2;2;2;2;1;2;2;1;1;2;  \n",
       "347                     1;1;1;2;2;2;2;2;1;2;2;1;1;1;2;  \n",
       "\n",
       "[330 rows x 13 columns]"
      ]
     },
     "execution_count": 2,
     "metadata": {},
     "output_type": "execute_result"
    }
   ],
   "source": [
    "raw_files = glob.glob('../data/raw/*youtube*-vpn*')\n",
    "f = np.random.choice(raw_files)\n",
    "# f = '../data/raw/stdoan-youtube[720p60]-1x-vpn-windows-clean-20201102.csv'\n",
    "print(f)\n",
    "df_raw = pd.read_csv(f)\n",
    "df = src.data.clean(df_raw)\n",
    "print(df.IP1.unique(), df.IP2.unique())\n",
    "df"
   ]
  },
  {
   "cell_type": "markdown",
   "metadata": {},
   "source": [
    "The cleaning isn't perfect. May need to revisit.\n",
    "\n",
    "- Sometimes there are lots of 260x:x IPv6 communications, with many different addresses -- but they seem to be very important and contain the bulk of the packets. (See stdoan files)\n",
    "- Sometimes there are communications where the VPN IP is in column 1 -- this should be addressed by splitting by direction... but also needs splitting by IP if we're going to split by direction...\n",
    "- Sometimes there are *tons* of communications with \"Shared Address Space\" IPs -- again making there be *tons* of IPs that (I think) are truly contibuting to the same flow. (See arv020 files)\n",
    "- Often there are non-vpn IPs that are still included"
   ]
  },
  {
   "cell_type": "markdown",
   "metadata": {},
   "source": [
    "## Data Augmentation\n",
    "\n",
    "> we  divide  each  unidirectional  flow  to  60  seconds  blocks"
   ]
  },
  {
   "cell_type": "code",
   "execution_count": 3,
   "metadata": {
    "scrolled": true
   },
   "outputs": [
    {
     "data": {
      "text/html": [
       "<div>\n",
       "<style scoped>\n",
       "    .dataframe tbody tr th:only-of-type {\n",
       "        vertical-align: middle;\n",
       "    }\n",
       "\n",
       "    .dataframe tbody tr th {\n",
       "        vertical-align: top;\n",
       "    }\n",
       "\n",
       "    .dataframe thead th {\n",
       "        text-align: right;\n",
       "    }\n",
       "</style>\n",
       "<table border=\"1\" class=\"dataframe\">\n",
       "  <thead>\n",
       "    <tr style=\"text-align: right;\">\n",
       "      <th></th>\n",
       "      <th></th>\n",
       "      <th></th>\n",
       "      <th>Port1</th>\n",
       "      <th>Port2</th>\n",
       "      <th>Proto</th>\n",
       "      <th>packet_times</th>\n",
       "      <th>packet_sizes</th>\n",
       "      <th>timestamp</th>\n",
       "    </tr>\n",
       "    <tr>\n",
       "      <th>IP1</th>\n",
       "      <th>IP2</th>\n",
       "      <th>packet_dirs</th>\n",
       "      <th></th>\n",
       "      <th></th>\n",
       "      <th></th>\n",
       "      <th></th>\n",
       "      <th></th>\n",
       "      <th></th>\n",
       "    </tr>\n",
       "  </thead>\n",
       "  <tbody>\n",
       "    <tr>\n",
       "      <th rowspan=\"7\" valign=\"top\">2607:F720:1901:1691:137:110:35:169</th>\n",
       "      <th rowspan=\"5\" valign=\"top\">2607:F8B0:4007:80E::200E</th>\n",
       "      <th>1</th>\n",
       "      <td>1271</td>\n",
       "      <td>443</td>\n",
       "      <td>6</td>\n",
       "      <td>1604368805709</td>\n",
       "      <td>402</td>\n",
       "      <td>2020-11-03 02:00:05.709</td>\n",
       "    </tr>\n",
       "    <tr>\n",
       "      <th>1</th>\n",
       "      <td>1271</td>\n",
       "      <td>443</td>\n",
       "      <td>6</td>\n",
       "      <td>1604368805709</td>\n",
       "      <td>99</td>\n",
       "      <td>2020-11-03 02:00:05.709</td>\n",
       "    </tr>\n",
       "    <tr>\n",
       "      <th>2</th>\n",
       "      <td>1271</td>\n",
       "      <td>443</td>\n",
       "      <td>6</td>\n",
       "      <td>1604368805736</td>\n",
       "      <td>60</td>\n",
       "      <td>2020-11-03 02:00:05.736</td>\n",
       "    </tr>\n",
       "    <tr>\n",
       "      <th>2</th>\n",
       "      <td>1271</td>\n",
       "      <td>443</td>\n",
       "      <td>6</td>\n",
       "      <td>1604368805740</td>\n",
       "      <td>60</td>\n",
       "      <td>2020-11-03 02:00:05.740</td>\n",
       "    </tr>\n",
       "    <tr>\n",
       "      <th>2</th>\n",
       "      <td>1271</td>\n",
       "      <td>443</td>\n",
       "      <td>6</td>\n",
       "      <td>1604368805740</td>\n",
       "      <td>99</td>\n",
       "      <td>2020-11-03 02:00:05.740</td>\n",
       "    </tr>\n",
       "    <tr>\n",
       "      <th>...</th>\n",
       "      <th>...</th>\n",
       "      <td>...</td>\n",
       "      <td>...</td>\n",
       "      <td>...</td>\n",
       "      <td>...</td>\n",
       "      <td>...</td>\n",
       "      <td>...</td>\n",
       "    </tr>\n",
       "    <tr>\n",
       "      <th>2607:F8B0:401C:1::9</th>\n",
       "      <th>2</th>\n",
       "      <td>1463</td>\n",
       "      <td>443</td>\n",
       "      <td>6</td>\n",
       "      <td>1604368855985</td>\n",
       "      <td>1280</td>\n",
       "      <td>2020-11-03 02:00:55.985</td>\n",
       "    </tr>\n",
       "    <tr>\n",
       "      <th>137.110.35.169</th>\n",
       "      <th>106.13.184.7</th>\n",
       "      <th>2</th>\n",
       "      <td>18092</td>\n",
       "      <td>58451</td>\n",
       "      <td>6</td>\n",
       "      <td>1604368858973</td>\n",
       "      <td>40</td>\n",
       "      <td>2020-11-03 02:00:58.973</td>\n",
       "    </tr>\n",
       "    <tr>\n",
       "      <th rowspan=\"3\" valign=\"top\">2607:F720:1901:1691:137:110:35:169</th>\n",
       "      <th>2607:F8B0:4007:804::200E</th>\n",
       "      <th>1</th>\n",
       "      <td>1448</td>\n",
       "      <td>443</td>\n",
       "      <td>6</td>\n",
       "      <td>1604368862081</td>\n",
       "      <td>61</td>\n",
       "      <td>2020-11-03 02:01:02.081</td>\n",
       "    </tr>\n",
       "    <tr>\n",
       "      <th rowspan=\"2\" valign=\"top\">2607:F8B0:4007:816::200A</th>\n",
       "      <th>1</th>\n",
       "      <td>1450</td>\n",
       "      <td>443</td>\n",
       "      <td>6</td>\n",
       "      <td>1604368862502</td>\n",
       "      <td>61</td>\n",
       "      <td>2020-11-03 02:01:02.502</td>\n",
       "    </tr>\n",
       "    <tr>\n",
       "      <th>2</th>\n",
       "      <td>1450</td>\n",
       "      <td>443</td>\n",
       "      <td>6</td>\n",
       "      <td>1604368862528</td>\n",
       "      <td>72</td>\n",
       "      <td>2020-11-03 02:01:02.528</td>\n",
       "    </tr>\n",
       "  </tbody>\n",
       "</table>\n",
       "<p>19230 rows × 6 columns</p>\n",
       "</div>"
      ],
      "text/plain": [
       "                                                                         Port1  \\\n",
       "IP1                                IP2                      packet_dirs          \n",
       "2607:F720:1901:1691:137:110:35:169 2607:F8B0:4007:80E::200E 1             1271   \n",
       "                                                            1             1271   \n",
       "                                                            2             1271   \n",
       "                                                            2             1271   \n",
       "                                                            2             1271   \n",
       "...                                                                        ...   \n",
       "                                   2607:F8B0:401C:1::9      2             1463   \n",
       "137.110.35.169                     106.13.184.7             2            18092   \n",
       "2607:F720:1901:1691:137:110:35:169 2607:F8B0:4007:804::200E 1             1448   \n",
       "                                   2607:F8B0:4007:816::200A 1             1450   \n",
       "                                                            2             1450   \n",
       "\n",
       "                                                                         Port2  \\\n",
       "IP1                                IP2                      packet_dirs          \n",
       "2607:F720:1901:1691:137:110:35:169 2607:F8B0:4007:80E::200E 1              443   \n",
       "                                                            1              443   \n",
       "                                                            2              443   \n",
       "                                                            2              443   \n",
       "                                                            2              443   \n",
       "...                                                                        ...   \n",
       "                                   2607:F8B0:401C:1::9      2              443   \n",
       "137.110.35.169                     106.13.184.7             2            58451   \n",
       "2607:F720:1901:1691:137:110:35:169 2607:F8B0:4007:804::200E 1              443   \n",
       "                                   2607:F8B0:4007:816::200A 1              443   \n",
       "                                                            2              443   \n",
       "\n",
       "                                                                         Proto  \\\n",
       "IP1                                IP2                      packet_dirs          \n",
       "2607:F720:1901:1691:137:110:35:169 2607:F8B0:4007:80E::200E 1                6   \n",
       "                                                            1                6   \n",
       "                                                            2                6   \n",
       "                                                            2                6   \n",
       "                                                            2                6   \n",
       "...                                                                        ...   \n",
       "                                   2607:F8B0:401C:1::9      2                6   \n",
       "137.110.35.169                     106.13.184.7             2                6   \n",
       "2607:F720:1901:1691:137:110:35:169 2607:F8B0:4007:804::200E 1                6   \n",
       "                                   2607:F8B0:4007:816::200A 1                6   \n",
       "                                                            2                6   \n",
       "\n",
       "                                                                          packet_times  \\\n",
       "IP1                                IP2                      packet_dirs                  \n",
       "2607:F720:1901:1691:137:110:35:169 2607:F8B0:4007:80E::200E 1            1604368805709   \n",
       "                                                            1            1604368805709   \n",
       "                                                            2            1604368805736   \n",
       "                                                            2            1604368805740   \n",
       "                                                            2            1604368805740   \n",
       "...                                                                                ...   \n",
       "                                   2607:F8B0:401C:1::9      2            1604368855985   \n",
       "137.110.35.169                     106.13.184.7             2            1604368858973   \n",
       "2607:F720:1901:1691:137:110:35:169 2607:F8B0:4007:804::200E 1            1604368862081   \n",
       "                                   2607:F8B0:4007:816::200A 1            1604368862502   \n",
       "                                                            2            1604368862528   \n",
       "\n",
       "                                                                         packet_sizes  \\\n",
       "IP1                                IP2                      packet_dirs                 \n",
       "2607:F720:1901:1691:137:110:35:169 2607:F8B0:4007:80E::200E 1                     402   \n",
       "                                                            1                      99   \n",
       "                                                            2                      60   \n",
       "                                                            2                      60   \n",
       "                                                            2                      99   \n",
       "...                                                                               ...   \n",
       "                                   2607:F8B0:401C:1::9      2                    1280   \n",
       "137.110.35.169                     106.13.184.7             2                      40   \n",
       "2607:F720:1901:1691:137:110:35:169 2607:F8B0:4007:804::200E 1                      61   \n",
       "                                   2607:F8B0:4007:816::200A 1                      61   \n",
       "                                                            2                      72   \n",
       "\n",
       "                                                                                      timestamp  \n",
       "IP1                                IP2                      packet_dirs                          \n",
       "2607:F720:1901:1691:137:110:35:169 2607:F8B0:4007:80E::200E 1           2020-11-03 02:00:05.709  \n",
       "                                                            1           2020-11-03 02:00:05.709  \n",
       "                                                            2           2020-11-03 02:00:05.736  \n",
       "                                                            2           2020-11-03 02:00:05.740  \n",
       "                                                            2           2020-11-03 02:00:05.740  \n",
       "...                                                                                         ...  \n",
       "                                   2607:F8B0:401C:1::9      2           2020-11-03 02:00:55.985  \n",
       "137.110.35.169                     106.13.184.7             2           2020-11-03 02:00:58.973  \n",
       "2607:F720:1901:1691:137:110:35:169 2607:F8B0:4007:804::200E 1           2020-11-03 02:01:02.081  \n",
       "                                   2607:F8B0:4007:816::200A 1           2020-11-03 02:01:02.502  \n",
       "                                                            2           2020-11-03 02:01:02.528  \n",
       "\n",
       "[19230 rows x 6 columns]"
      ]
     },
     "execution_count": 3,
     "metadata": {},
     "output_type": "execute_result"
    }
   ],
   "source": [
    "chunks = src.data.preprocess(\n",
    "    df, chunk_length='60s',\n",
    "    isolate_flow=False,\n",
    "    split_directions=False\n",
    ")\n",
    "chunks[0]"
   ]
  },
  {
   "cell_type": "markdown",
   "metadata": {},
   "source": [
    "## FlowPic Construction\n",
    "\n",
    "> {IP packet size, time of arrival}\n",
    "\n",
    "> At the first stage, we plot all record  pairs by  defining  our  X-axis  as  the  packet  arrival time, and  Y-axis  as  the  packet  size.\n",
    "\n",
    "> An  absolute  majority  of the  packet  sizes  do  not  cross  the  1500  bytes  (which  is  the Ethernet MTU value), thus we disregard all packets with size greater  than  1500  (less  than  5%  of  all  packets),  and  limit our  Y-axis to  be  between 1  to  1500.\n",
    "\n",
    "> For  the  X-axis, first  we normalize  all  time  of  arrival  values  by  subtracting  the  time of  arrival  of  the  first  packet  in  the  flow.  For  simplicity,  we set the 2D-histogram to be a square image. For this purpose, we  normalized  all  time  of  arrival  values  to  be  between  0 to  1500  (namely,  60  seconds  is  mapped  to  1500)."
   ]
  },
  {
   "cell_type": "code",
   "execution_count": 4,
   "metadata": {},
   "outputs": [],
   "source": [
    "h = src.features.flowpic(chunks[0])"
   ]
  },
  {
   "cell_type": "code",
   "execution_count": 5,
   "metadata": {},
   "outputs": [
    {
     "data": {
      "text/plain": [
       "(<Figure size 720x720 with 1 Axes>,\n",
       " <AxesSubplot:xlabel='Normalized arrival time', ylabel='Packet size (bytes)'>)"
      ]
     },
     "execution_count": 5,
     "metadata": {},
     "output_type": "execute_result"
    },
    {
     "data": {
      "image/png": "[encoded data removed]",
      "text/plain": [
       "<Figure size 720x720 with 1 Axes>"
      ]
     },
     "metadata": {
      "needs_background": "light"
     },
     "output_type": "display_data"
    }
   ],
   "source": [
    "src.charts.flowpic(h, pixel_growth=10)"
   ]
  },
  {
   "cell_type": "markdown",
   "metadata": {},
   "source": [
    "## All wrapped up"
   ]
  },
  {
   "cell_type": "code",
   "execution_count": 6,
   "metadata": {},
   "outputs": [],
   "source": [
    "def random_flowpic(pattern='../data/raw/*-vpn-*', direction=None):\n",
    "    \"\"\"\n",
    "    Direction {0: uploading, 1: downloading, None: both}\n",
    "    \"\"\"\n",
    "    f = np.random.choice(glob.glob(pattern))\n",
    "    df = pd.read_csv(f)\n",
    "    clean = src.data.clean(df)\n",
    "    if direction is not None:\n",
    "        chunks = src.data.preprocess(clean, split_directions=True)[direction]\n",
    "    else:\n",
    "        chunks = src.data.preprocess(clean)\n",
    "\n",
    "    hist = src.features.flowpic(chunks[-1])\n",
    "    \n",
    "    fig, ax = src.charts.flowpic(hist)\n",
    "    \n",
    "    fig.suptitle(f, fontsize=16)\n",
    "    fig.tight_layout()\n",
    "    \n",
    "    return chunks, hist"
   ]
  },
  {
   "cell_type": "code",
   "execution_count": 9,
   "metadata": {},
   "outputs": [
    {
     "data": {
      "image/png": "[encoded data removed]",
      "text/plain": [
       "<Figure size 720x720 with 1 Axes>"
      ]
     },
     "metadata": {
      "needs_background": "light"
     },
     "output_type": "display_data"
    }
   ],
   "source": [
    "c, h = random_flowpic('../data/raw/stdoan*youtube*-vpn-*1102.csv', direction=None)"
   ]
  },
  {
   "cell_type": "markdown",
   "metadata": {},
   "source": [
    "Very possible there are still just some un-clean data in our repository.\n",
    "\n",
    "I'm getting a bit suspicious of the stdoan files."
   ]
  },
  {
   "cell_type": "markdown",
   "metadata": {},
   "source": [
    "## Possible extension\n",
    "\n",
    "We could add a color chanel to our data for direction. That way we don't need to get rid of a direction entirely, but can still include it as a feature."
   ]
  },
  {
   "cell_type": "markdown",
   "metadata": {},
   "source": [
    "# Adding direction as a channel"
   ]
  },
  {
   "cell_type": "code",
   "execution_count": 1,
   "metadata": {},
   "outputs": [],
   "source": [
    "import sys\n",
    "import os\n",
    "parent_dir = os.path.dirname(os.getcwd())\n",
    "sys.path.insert(0, parent_dir)\n",
    "import src\n",
    "\n",
    "import pandas as pd\n",
    "import numpy as np\n",
    "import matplotlib.pyplot as plt\n",
    "import glob"
   ]
  },
  {
   "cell_type": "code",
   "execution_count": 2,
   "metadata": {},
   "outputs": [
    {
     "name": "stdout",
     "output_type": "stream",
     "text": [
      "../data/preprocessed/browsing-33-pgaddiso-novideo-vpn-linux-20201116.csv\n"
     ]
    },
    {
     "data": {
      "text/html": [
       "<div>\n",
       "<style scoped>\n",
       "    .dataframe tbody tr th:only-of-type {\n",
       "        vertical-align: middle;\n",
       "    }\n",
       "\n",
       "    .dataframe tbody tr th {\n",
       "        vertical-align: top;\n",
       "    }\n",
       "\n",
       "    .dataframe thead th {\n",
       "        text-align: right;\n",
       "    }\n",
       "</style>\n",
       "<table border=\"1\" class=\"dataframe\">\n",
       "  <thead>\n",
       "    <tr style=\"text-align: right;\">\n",
       "      <th></th>\n",
       "      <th>IP1</th>\n",
       "      <th>IP2</th>\n",
       "      <th>packet_dirs</th>\n",
       "      <th>packet_times</th>\n",
       "      <th>packet_sizes</th>\n",
       "    </tr>\n",
       "  </thead>\n",
       "  <tbody>\n",
       "    <tr>\n",
       "      <th>0</th>\n",
       "      <td>10.0.0.236</td>\n",
       "      <td>137.110.0.70</td>\n",
       "      <td>2</td>\n",
       "      <td>1605597575404</td>\n",
       "      <td>295</td>\n",
       "    </tr>\n",
       "    <tr>\n",
       "      <th>1</th>\n",
       "      <td>10.0.0.236</td>\n",
       "      <td>137.110.0.70</td>\n",
       "      <td>1</td>\n",
       "      <td>1605597575405</td>\n",
       "      <td>138</td>\n",
       "    </tr>\n",
       "    <tr>\n",
       "      <th>2</th>\n",
       "      <td>10.0.0.236</td>\n",
       "      <td>137.110.0.70</td>\n",
       "      <td>1</td>\n",
       "      <td>1605597575419</td>\n",
       "      <td>562</td>\n",
       "    </tr>\n",
       "    <tr>\n",
       "      <th>3</th>\n",
       "      <td>10.0.0.236</td>\n",
       "      <td>137.110.0.70</td>\n",
       "      <td>2</td>\n",
       "      <td>1605597575441</td>\n",
       "      <td>194</td>\n",
       "    </tr>\n",
       "    <tr>\n",
       "      <th>4</th>\n",
       "      <td>10.0.0.236</td>\n",
       "      <td>137.110.0.70</td>\n",
       "      <td>1</td>\n",
       "      <td>1605597575482</td>\n",
       "      <td>118</td>\n",
       "    </tr>\n",
       "  </tbody>\n",
       "</table>\n",
       "</div>"
      ],
      "text/plain": [
       "          IP1           IP2  packet_dirs   packet_times  packet_sizes\n",
       "0  10.0.0.236  137.110.0.70            2  1605597575404           295\n",
       "1  10.0.0.236  137.110.0.70            1  1605597575405           138\n",
       "2  10.0.0.236  137.110.0.70            1  1605597575419           562\n",
       "3  10.0.0.236  137.110.0.70            2  1605597575441           194\n",
       "4  10.0.0.236  137.110.0.70            1  1605597575482           118"
      ]
     },
     "execution_count": 2,
     "metadata": {},
     "output_type": "execute_result"
    }
   ],
   "source": [
    "# Load in a preprocessed file -- let's see what we're working with\n",
    "f = np.random.choice(glob.glob('../data/preprocessed/*'))\n",
    "print(f)\n",
    "df = pd.read_csv(f)\n",
    "df.head()"
   ]
  },
  {
   "cell_type": "code",
   "execution_count": 3,
   "metadata": {},
   "outputs": [
    {
     "data": {
      "text/plain": [
       "(<Figure size 720x720 with 2 Axes>,\n",
       " <matplotlib.axes._subplots.AxesSubplot at 0x7f2ed66ce650>)"
      ]
     },
     "execution_count": 3,
     "metadata": {},
     "output_type": "execute_result"
    },
    {
     "data": {
      "image/png": "[encoded data removed]",
      "text/plain": [
       "<Figure size 720x720 with 2 Axes>"
      ]
     },
     "metadata": {
      "needs_background": "light"
     },
     "output_type": "display_data"
    }
   ],
   "source": [
    "c = df[['packet_dirs', 'packet_times', 'packet_sizes']]\n",
    "\n",
    "c = c[c.packet_sizes <= 1500]\n",
    "c.packet_times = c.packet_times - c.packet_times.min()\n",
    "c.packet_times = c.packet_times / c.packet_times.max() * 1500\n",
    "\n",
    "bins=1500\n",
    "binrange = [[0, 1500], [0, 1500]]\n",
    "hist = np.histogram2d(c.packet_times, c.packet_sizes, bins=bins, range=binrange)\n",
    "h = hist[0]\n",
    "h = h / h.max()\n",
    "\n",
    "# For each bin we want to calculate the proportion of packets that were down-\n",
    "# loaded. A 1.0 means all packets in that bin were downloaded packets, and 0.0\n",
    "# means all packets in that bin were uploaded.\n",
    "cut_bins = np.arange(1500)\n",
    "timebins = np.searchsorted(cut_bins, c.packet_times, side='right') - 1\n",
    "sizebins = np.digitize(c.packet_sizes, cut_bins, right=False) - 1\n",
    "c['bin'] = list(zip(timebins, sizebins))\n",
    "c.packet_dirs = c.packet_dirs - 1\n",
    "download_props = c.groupby('bin').packet_dirs.mean()\n",
    "prop_bins = download_props.index.values\n",
    "\n",
    "# Start off with a 'grey' channel -- all values are equally up- and downloaded.\n",
    "download_channel = np.full((1500,1500), 0.5)\n",
    "# Then fill in the calculated values from above\n",
    "download_channel[list(zip(*prop_bins))] = download_props.values\n",
    "dc = download_channel\n",
    "\n",
    "flowpic = np.dstack([h, dc])\n",
    "\n",
    "src.charts.flowpic(flowpic)"
   ]
  },
  {
   "cell_type": "code",
   "execution_count": 5,
   "metadata": {},
   "outputs": [
    {
     "data": {
      "text/plain": [
       "(1500, 1500, 2)"
      ]
     },
     "execution_count": 5,
     "metadata": {},
     "output_type": "execute_result"
    }
   ],
   "source": [
    "flowpic.shape"
   ]
  },
  {
   "cell_type": "markdown",
   "metadata": {},
   "source": [
    "# Classifier"
   ]
  },
  {
   "cell_type": "code",
   "execution_count": 6,
   "metadata": {},
   "outputs": [],
   "source": [
    "import sys\n",
    "import os\n",
    "parent_dir = os.path.dirname(os.getcwd())\n",
    "sys.path.insert(0, parent_dir)\n",
    "import src\n",
    "\n",
    "import numpy as np\n",
    "import matplotlib.pyplot as plt\n",
    "import glob\n",
    "\n",
    "import tensorflow as tf\n",
    "from tensorflow import keras"
   ]
  },
  {
   "cell_type": "markdown",
   "metadata": {},
   "source": [
    "Need to load in the data."
   ]
  },
  {
   "cell_type": "code",
   "execution_count": 20,
   "metadata": {},
   "outputs": [],
   "source": [
    "INPUT_SHAPE = (1500,1500,1)\n",
    "\n",
    "def data_generator(file_list, batch_size):\n",
    "    \"\"\"\n",
    "    \n",
    "    See:\n",
    "    https://biswajitsahoo1111.github.io/post/reading-multiple-files-in-tensorflow-2/\n",
    "\n",
    "    \"\"\"\n",
    "    i = 0\n",
    "    while True:\n",
    "        if i*batch_size >= len(file_list):\n",
    "            i = 0\n",
    "            np.random.shuffle(file_list)\n",
    "        else:\n",
    "            file_chunk = file_list[i*batch_size:(i+1)*batch_size] \n",
    "            data = []\n",
    "            labels = []\n",
    "            for file in file_chunk:\n",
    "                # Only take the first n dimensions based on the input shape\n",
    "                arr = np.load(file)[:,:,:INPUT_SHAPE[2]]\n",
    "                data.append(arr.reshape(INPUT_SHAPE))\n",
    "                labels.append(os.path.dirname(file).endswith(b'streaming'))\n",
    "            data = np.asarray(data).reshape(-1,*INPUT_SHAPE)\n",
    "            labels = np.asarray(labels)\n",
    "            yield data, labels\n",
    "            i = i + 1\n",
    "\n",
    "def get_dataset(file_list, batch_size=10):\n",
    "    dataset = tf.data.Dataset.from_generator(\n",
    "        data_generator, args=(file_list, batch_size),\n",
    "        output_types=(tf.float32, tf.bool),\n",
    "        output_shapes=((None, *INPUT_SHAPE), (None,))\n",
    "    )\n",
    "    return dataset\n",
    "\n",
    "\n",
    "batch_size = 50\n",
    "all_files = glob.glob('../data/features/*/*.npy')\n",
    "all_files = np.random.permutation(all_files)\n",
    "\n",
    "from sklearn.model_selection import train_test_split\n",
    "train_files, val_files = train_test_split(all_files, test_size=0.2)\n",
    "\n",
    "train = get_dataset(train_files, batch_size)\n",
    "valid = get_dataset(val_files, batch_size)"
   ]
  },
  {
   "cell_type": "markdown",
   "metadata": {},
   "source": [
    "Now it's time to build the model.\n",
    "\n",
    "> Our  LeNet-5  style  architecture comprises  seven  layers,  not  counting  the  input,  where  the ReLU activation function [25] is applied to the output of every convolutional and fully-connected layer.\n",
    "\n",
    "> Our input is a 2-dimensional 1500x1500 matrix (pixel image).\n",
    "\n",
    "> The first layer is a 2-dimensional convolutional layer (labeled as  CONV1)  with  10  filters  of  size  10x10  with  a  stride  of 5\n",
    "\n",
    "> The outputs of  CONV1  are  10  feature  maps  of  size  300x300.\n",
    "\n",
    "> The next layer is the first max-pooling layer with 10 feature maps of size 150x150, where each unit in each feature map is connected to a 2x2 neighborhood in the corresponding feature map  in  CONV1.\n",
    "\n",
    "> Layer  CONV2  is  the  second  convolutional layer with 20 filters of size 10x10 with a stride of 5\n",
    "\n",
    "> The  next  layer is  the  second  2x2  max-pooling  layer  results  with  20  feature maps of size 15x15.\n",
    "\n",
    "> The next layer is a standard flatten layer that converts the 20 feature maps to a one dimensional layer of size 4500.\n",
    "\n",
    "> Our next layer is a fully-connected layer of size 64.\n",
    "\n",
    "> Finally,  our  output  layer  is  the  softmax  layer  whose  size depends  on  the  number  of  classes  in  each  sub-problem.\n",
    "\n",
    "> In  our  CNN  (Figure  3),  we  use dropout  with  a  probability  of  0.25  in  CONV2  and  dropout with a probability of 0.5 in the fully-connected layer.\n",
    "\n",
    "> The training was done by optimizing the categorical crossentropy cost function\n",
    "\n",
    "> For  the  optimization  process  we  use  the Adam gradient-based optimizer"
   ]
  },
  {
   "cell_type": "code",
   "execution_count": 21,
   "metadata": {},
   "outputs": [
    {
     "name": "stdout",
     "output_type": "stream",
     "text": [
      "Model: \"sequential_4\"\n",
      "_________________________________________________________________\n",
      "Layer (type)                 Output Shape              Param #   \n",
      "=================================================================\n",
      "conv2d_8 (Conv2D)            (None, 299, 299, 10)      2010      \n",
      "_________________________________________________________________\n",
      "max_pooling2d_8 (MaxPooling2 (None, 149, 149, 10)      0         \n",
      "_________________________________________________________________\n",
      "conv2d_9 (Conv2D)            (None, 28, 28, 20)        20020     \n",
      "_________________________________________________________________\n",
      "dropout_8 (Dropout)          (None, 28, 28, 20)        0         \n",
      "_________________________________________________________________\n",
      "max_pooling2d_9 (MaxPooling2 (None, 14, 14, 20)        0         \n",
      "_________________________________________________________________\n",
      "flatten_4 (Flatten)          (None, 3920)              0         \n",
      "_________________________________________________________________\n",
      "dense_8 (Dense)              (None, 64)                250944    \n",
      "_________________________________________________________________\n",
      "dropout_9 (Dropout)          (None, 64)                0         \n",
      "_________________________________________________________________\n",
      "dense_9 (Dense)              (None, 1)                 65        \n",
      "=================================================================\n",
      "Total params: 273,039\n",
      "Trainable params: 273,039\n",
      "Non-trainable params: 0\n",
      "_________________________________________________________________\n"
     ]
    }
   ],
   "source": [
    "from tensorflow.keras import models, layers\n",
    "\n",
    "model = models.Sequential()\n",
    "# Args: filters, kernel_size, strides\n",
    "model.add(layers.Conv2D(10, (10,10), (5,5), activation='relu', input_shape=INPUT_SHAPE))\n",
    "# Args: pool_size, strides (defaults to pool)\n",
    "model.add(layers.MaxPool2D((2,2)))\n",
    "model.add(layers.Conv2D(20, (10,10), (5,5), activation='relu'))\n",
    "model.add(layers.Dropout(0.25))\n",
    "model.add(layers.MaxPool2D((2,2)))\n",
    "model.add(layers.Flatten())\n",
    "model.add(layers.Dense(64, activation='relu'))\n",
    "model.add(layers.Dropout(0.5))\n",
    "# Binary classification, turn into probabilities\n",
    "model.add(layers.Dense(1, activation='sigmoid'))\n",
    "\n",
    "model.summary()"
   ]
  },
  {
   "cell_type": "code",
   "execution_count": 22,
   "metadata": {},
   "outputs": [
    {
     "name": "stdout",
     "output_type": "stream",
     "text": [
      "Epoch 1/3\n",
      "13/13 [==============================] - 102s 8s/step - loss: 0.6935 - acc: 0.5550 - val_loss: 0.6935 - val_acc: 0.4248\n",
      "Epoch 2/3\n",
      "13/13 [==============================] - 104s 8s/step - loss: 0.6951 - acc: 0.5156 - val_loss: 0.6935 - val_acc: 0.4248\n",
      "Epoch 3/3\n",
      "13/13 [==============================] - 102s 8s/step - loss: 0.6935 - acc: 0.5156 - val_loss: 0.6940 - val_acc: 0.4248\n"
     ]
    }
   ],
   "source": [
    "model.compile(optimizer='adam', loss=keras.losses.binary_crossentropy, metrics=['accuracy'])\n",
    "def steps_per_epoch(file_list, batch_size):\n",
    "    return np.int(np.ceil(len(file_list) / batch_size))\n",
    "\n",
    "history = model.fit(\n",
    "    train, steps_per_epoch=steps_per_epoch(train_files, batch_size),\n",
    "    validation_data=valid, validation_steps=steps_per_epoch(val_files, batch_size),\n",
    "    epochs=3\n",
    ")"
   ]
  },
  {
   "cell_type": "code",
   "execution_count": 51,
   "metadata": {},
   "outputs": [
    {
     "data": {
      "text/plain": [
       "(1500, 1500, 2)"
      ]
     },
     "execution_count": 51,
     "metadata": {},
     "output_type": "execute_result"
    }
   ],
   "source": [
    "flowpic[:,:,[1,0]].shape"
   ]
  },
  {
   "cell_type": "code",
   "execution_count": 23,
   "metadata": {},
   "outputs": [
    {
     "data": {
      "text/plain": [
       "<matplotlib.legend.Legend at 0x7f235c369d00>"
      ]
     },
     "execution_count": 23,
     "metadata": {},
     "output_type": "execute_result"
    },
    {
     "data": {
      "image/png": "[encoded data removed]",
      "text/plain": [
       "<Figure size 432x288 with 1 Axes>"
      ]
     },
     "metadata": {
      "needs_background": "light"
     },
     "output_type": "display_data"
    }
   ],
   "source": [
    "plt.plot(history.history['accuracy'], label='Training')\n",
    "plt.plot(history.history['val_accuracy'], label='Validation')\n",
    "plt.xlabel('Epoch')\n",
    "plt.ylabel('Accuracy')\n",
    "plt.legend()"
   ]
  },
  {
   "cell_type": "code",
   "execution_count": 25,
   "metadata": {},
   "outputs": [],
   "source": [
    "history.model.save('../data/out/model-notebook.h5')"
   ]
  },
  {
   "cell_type": "markdown",
   "metadata": {},
   "source": [
    "# Predicting"
   ]
  },
  {
   "cell_type": "code",
   "execution_count": 1,
   "metadata": {},
   "outputs": [],
   "source": [
    "import sys\n",
    "import os\n",
    "parent_dir = os.path.dirname(os.getcwd())\n",
    "sys.path.insert(0, parent_dir)\n",
    "import src\n",
    "\n",
    "import pandas as pd\n",
    "import numpy as np\n",
    "import matplotlib.pyplot as plt\n",
    "import glob\n",
    "\n",
    "import tensorflow as tf\n",
    "from tensorflow import keras"
   ]
  },
  {
   "cell_type": "code",
   "execution_count": 64,
   "metadata": {},
   "outputs": [],
   "source": [
    "model = keras.models.load_model('../data/out/model-histonly.h5')"
   ]
  },
  {
   "cell_type": "code",
   "execution_count": 65,
   "metadata": {},
   "outputs": [
    {
     "name": "stdout",
     "output_type": "stream",
     "text": [
      "Model: \"FlowPic\"\n",
      "_________________________________________________________________\n",
      "Layer (type)                 Output Shape              Param #   \n",
      "=================================================================\n",
      "conv2d (Conv2D)              (None, 299, 299, 10)      1010      \n",
      "_________________________________________________________________\n",
      "max_pooling2d (MaxPooling2D) (None, 149, 149, 10)      0         \n",
      "_________________________________________________________________\n",
      "conv2d_1 (Conv2D)            (None, 28, 28, 20)        20020     \n",
      "_________________________________________________________________\n",
      "dropout (Dropout)            (None, 28, 28, 20)        0         \n",
      "_________________________________________________________________\n",
      "max_pooling2d_1 (MaxPooling2 (None, 14, 14, 20)        0         \n",
      "_________________________________________________________________\n",
      "flatten (Flatten)            (None, 3920)              0         \n",
      "_________________________________________________________________\n",
      "dense (Dense)                (None, 64)                250944    \n",
      "_________________________________________________________________\n",
      "dropout_1 (Dropout)          (None, 64)                0         \n",
      "_________________________________________________________________\n",
      "dense_1 (Dense)              (None, 1)                 65        \n",
      "=================================================================\n",
      "Total params: 272,039\n",
      "Trainable params: 272,039\n",
      "Non-trainable params: 0\n",
      "_________________________________________________________________\n"
     ]
    }
   ],
   "source": [
    "model.summary()"
   ]
  },
  {
   "cell_type": "code",
   "execution_count": 66,
   "metadata": {},
   "outputs": [],
   "source": [
    "files = glob.glob('../data/features/*/*.npy')\n",
    "dataset, steps = src.models.ingesting.get_dataset(glob.glob('../data/features/*/*.npy'), 32, [0], True)"
   ]
  },
  {
   "cell_type": "code",
   "execution_count": 67,
   "metadata": {},
   "outputs": [],
   "source": [
    "preds = np.squeeze(model.predict(dataset, steps=steps))"
   ]
  },
  {
   "cell_type": "code",
   "execution_count": 68,
   "metadata": {},
   "outputs": [],
   "source": [
    "labels = np.array([f.split('/')[3] == 'streaming' for f in files])"
   ]
  },
  {
   "cell_type": "code",
   "execution_count": 75,
   "metadata": {},
   "outputs": [
    {
     "data": {
      "text/plain": [
       "array([0.43341058, 0.31813556, 0.46655786, 0.27662924, 0.17269   ,\n",
       "       0.18375123, 0.4898428 , 0.2529453 , 0.46203542, 0.41403547,\n",
       "       0.522194  , 0.33685064, 0.14106748, 0.56052655, 0.26605582,\n",
       "       0.08339578, 0.49995652, 0.2002038 , 0.532538  , 0.42504525,\n",
       "       0.45758593, 0.28154796, 0.44800082, 0.55136573, 0.23414421,\n",
       "       0.19573152, 0.2617466 , 0.435551  , 0.46040285, 0.4999516 ,\n",
       "       0.23983124, 0.38232058, 0.25444084, 0.46490043, 0.22213528,\n",
       "       0.33564925, 0.22685108, 0.2180219 , 0.48160392, 0.12279952,\n",
       "       0.48701483, 0.49619448, 0.43087807, 0.25477058, 0.47504926,\n",
       "       0.15958977, 0.50250417, 0.22972456, 0.24857165, 0.33808133,\n",
       "       0.23069656, 0.22683442, 0.4207081 , 0.48945767, 0.25088984,\n",
       "       0.4792679 , 0.3108809 , 0.17760772, 0.23629525, 0.5801946 ,\n",
       "       0.36961597, 0.4280338 , 0.24612167, 0.50491416, 0.2609008 ,\n",
       "       0.45372793, 0.24212295, 0.2114672 , 0.37158263, 0.18204516,\n",
       "       0.17307311, 0.3113926 , 0.14053077, 0.46978116, 0.33365825,\n",
       "       0.25081918, 0.12982798, 0.4280477 , 0.36227837, 0.47840005,\n",
       "       0.2920633 , 0.21888989, 0.551077  , 0.17856956, 0.35328844,\n",
       "       0.4906675 , 0.4352903 , 0.43268016, 0.26252484, 0.18239783,\n",
       "       0.21500912, 0.4909052 , 0.24040577, 0.4805267 , 0.30012903,\n",
       "       0.2568791 , 0.3300631 , 0.49499434, 0.25632316, 0.33162242,\n",
       "       0.39607486, 0.48543298, 0.11713266, 0.16934946, 0.32897323,\n",
       "       0.3491456 , 0.47019583, 0.14215428, 0.1760417 , 0.317882  ,\n",
       "       0.23510844, 0.2372882 , 0.4516947 , 0.45591444, 0.43348515,\n",
       "       0.2834282 , 0.41508898, 0.22916064, 0.11642709, 0.4913128 ,\n",
       "       0.5367927 , 0.23028272, 0.46759918, 0.53319496, 0.49408266,\n",
       "       0.36773512, 0.5456276 , 0.3084021 , 0.27659607, 0.507275  ,\n",
       "       0.2030006 , 0.18310508, 0.3763736 , 0.50290275, 0.25636882,\n",
       "       0.37165126, 0.2130064 , 0.4831049 , 0.15823695, 0.23868054,\n",
       "       0.22352183, 0.48849076, 0.5139243 , 0.2705518 , 0.43075782,\n",
       "       0.20240125, 0.32618093, 0.21695942, 0.3044403 , 0.55785316,\n",
       "       0.40732905, 0.23416951, 0.13208678, 0.18943772, 0.5333714 ,\n",
       "       0.3087836 , 0.5744808 , 0.5412717 , 0.41969925, 0.21729583,\n",
       "       0.2806986 , 0.48583513, 0.4436428 , 0.23144612, 0.24594024,\n",
       "       0.4305023 , 0.30663252, 0.22399741, 0.35898086, 0.20549423,\n",
       "       0.31611818, 0.46558335, 0.4292177 , 0.4566805 , 0.22446829,\n",
       "       0.2006968 , 0.20272502, 0.4773334 , 0.07793387, 0.39044932,\n",
       "       0.49216124, 0.5073604 , 0.12609592, 0.4784733 , 0.49371615,\n",
       "       0.2455447 , 0.29965508, 0.49099407, 0.408655  , 0.44365725,\n",
       "       0.50056666, 0.542742  , 0.33934966, 0.26390898, 0.2555809 ,\n",
       "       0.51126516, 0.34515813, 0.2997602 , 0.49073693, 0.42904547,\n",
       "       0.44308817, 0.25007927, 0.11579311, 0.4228565 , 0.30030906,\n",
       "       0.23670691, 0.41466868, 0.3550849 , 0.39801493, 0.21953546,\n",
       "       0.27677327, 0.349048  , 0.46047485, 0.46710655, 0.16069785,\n",
       "       0.3921395 , 0.02146712, 0.2679866 , 0.28477007, 0.43687892,\n",
       "       0.39518082, 0.5205192 , 0.50662357, 0.3643765 , 0.16691464,\n",
       "       0.51734275, 0.51891494, 0.3255046 , 0.367088  , 0.22982493,\n",
       "       0.5016169 , 0.2744609 , 0.24062243, 0.48569688, 0.3162936 ,\n",
       "       0.42892385, 0.21547496, 0.2266266 , 0.43979946, 0.37911433,\n",
       "       0.33429492, 0.26013464, 0.12368628, 0.49394625, 0.43749216,\n",
       "       0.2776783 , 0.4910014 , 0.28502566, 0.29847088, 0.2923395 ,\n",
       "       0.25868398, 0.5045727 , 0.21386167, 0.491458  , 0.15548632,\n",
       "       0.5073523 , 0.22267818, 0.29498798, 0.26614848, 0.15947331,\n",
       "       0.5522108 , 0.348866  , 0.17114973, 0.46312037, 0.4003977 ,\n",
       "       0.29192615, 0.561617  , 0.36210227, 0.5024311 , 0.5337986 ,\n",
       "       0.26592392, 0.38377905, 0.532349  , 0.37448007, 0.5104443 ,\n",
       "       0.24763185, 0.2653156 , 0.42716137, 0.21681906, 0.44958535,\n",
       "       0.39776212, 0.279494  , 0.40832895, 0.3370068 , 0.3774622 ,\n",
       "       0.4771583 , 0.24940136, 0.39386028, 0.49530005, 0.47256398,\n",
       "       0.49710515, 0.16678125, 0.32100067, 0.5154915 , 0.44571853,\n",
       "       0.51664686, 0.49562186, 0.4499497 , 0.41045168, 0.51229435,\n",
       "       0.5349256 , 0.38519   , 0.35936105, 0.27553946, 0.4870897 ,\n",
       "       0.2530619 , 0.33174068, 0.30478042, 0.22484618, 0.47990474,\n",
       "       0.23848784, 0.37338126, 0.32629967, 0.3268937 , 0.08084279,\n",
       "       0.35688728, 0.37531018, 0.41399765, 0.39486122, 0.45726037,\n",
       "       0.21398684, 0.30783826, 0.26579374, 0.2480728 , 0.26405323,\n",
       "       0.43510547, 0.5579116 , 0.16773319, 0.54290664, 0.21440488,\n",
       "       0.4851256 , 0.18261817, 0.5018114 , 0.5549606 , 0.4336737 ,\n",
       "       0.13207713, 0.28466207, 0.30335623, 0.45619786, 0.114312  ,\n",
       "       0.46193165, 0.20453611, 0.42965937, 0.36141217, 0.09691057,\n",
       "       0.14010313, 0.5608163 , 0.38857448, 0.4095924 , 0.5553854 ,\n",
       "       0.49930608, 0.52846277, 0.27904174, 0.30914932, 0.40176272,\n",
       "       0.2044816 , 0.18260163, 0.50062037, 0.09461876, 0.21270913,\n",
       "       0.26518127, 0.5167421 , 0.3655921 , 0.27207804, 0.16171369,\n",
       "       0.3625688 , 0.10936019, 0.2521901 , 0.5077495 , 0.45756108,\n",
       "       0.36359844, 0.48369682, 0.49985301, 0.23909491, 0.42594734,\n",
       "       0.018195  , 0.34892797, 0.4521131 , 0.36765516, 0.17489992,\n",
       "       0.23150575, 0.39492434, 0.574587  , 0.5554279 , 0.54964244,\n",
       "       0.5285636 , 0.5480206 , 0.51974016, 0.5180312 , 0.52012753,\n",
       "       0.54385   , 0.49185637, 0.5607168 , 0.580601  , 0.5118445 ,\n",
       "       0.51560247, 0.5536892 , 0.55475044, 0.55503064, 0.5881956 ,\n",
       "       0.49678335, 0.5319616 , 0.5741436 , 0.52952296, 0.51412547,\n",
       "       0.542988  , 0.5259522 , 0.55113286, 0.54808325, 0.5934472 ,\n",
       "       0.5553056 , 0.5106395 , 0.53071886, 0.5446598 , 0.4820073 ,\n",
       "       0.53975695, 0.5577272 , 0.5496173 , 0.5163839 , 0.49366516,\n",
       "       0.59379274, 0.5183878 , 0.47687465, 0.55439264, 0.52713805,\n",
       "       0.524655  , 0.5473008 , 0.5145921 , 0.54376405, 0.49723446,\n",
       "       0.5780181 , 0.5436239 , 0.5494138 , 0.524929  , 0.5394519 ,\n",
       "       0.5684691 , 0.5400548 , 0.5815969 , 0.49152607, 0.54645914,\n",
       "       0.56385225, 0.58208543, 0.52252096, 0.54143703, 0.5777406 ,\n",
       "       0.5396879 , 0.5019839 , 0.5578478 , 0.575561  , 0.53619254,\n",
       "       0.48153874, 0.48010302, 0.56021273, 0.58101225, 0.58557534,\n",
       "       0.5518774 , 0.56362665, 0.49406454, 0.528396  , 0.1498106 ,\n",
       "       0.53938186, 0.53694624, 0.5311128 , 0.550435  , 0.6170111 ,\n",
       "       0.55117446, 0.5629525 , 0.5189847 , 0.53641033, 0.5157678 ,\n",
       "       0.57945096, 0.5636938 , 0.5387975 , 0.57171947, 0.5545139 ,\n",
       "       0.5600537 , 0.45705244, 0.61628276, 0.48697874, 0.5827583 ,\n",
       "       0.54725784, 0.5935906 , 0.5037234 , 0.39139026, 0.5318315 ,\n",
       "       0.5501455 , 0.56095755, 0.5880346 , 0.5506558 , 0.5776302 ,\n",
       "       0.49903873, 0.5429583 , 0.5177164 , 0.513007  , 0.5505526 ,\n",
       "       0.48049238, 0.54827416, 0.52335435, 0.4761305 , 0.5464526 ,\n",
       "       0.5364297 , 0.54497   , 0.5229595 , 0.51561695, 0.5517911 ,\n",
       "       0.59185374, 0.54858315, 0.53670096, 0.5228292 , 0.524415  ,\n",
       "       0.4830684 , 0.50538754, 0.55714744, 0.48223853, 0.56792134,\n",
       "       0.51580566, 0.5595132 , 0.503684  , 0.5647068 , 0.531794  ,\n",
       "       0.5614932 , 0.5638441 , 0.5207598 , 0.5569673 , 0.5205138 ,\n",
       "       0.5875798 , 0.51396304, 0.5123119 , 0.5352656 , 0.5396212 ,\n",
       "       0.5203419 , 0.5153636 , 0.5261793 , 0.5673074 , 0.5318381 ,\n",
       "       0.49959472, 0.5899666 , 0.52682495, 0.54183453, 0.53885025,\n",
       "       0.5557171 , 0.507401  , 0.56907094, 0.5752526 , 0.5424288 ,\n",
       "       0.5581905 , 0.53833526, 0.5234914 , 0.5891402 , 0.5143798 ,\n",
       "       0.55862206, 0.54108256, 0.5050021 , 0.38836703, 0.5651952 ,\n",
       "       0.57389385, 0.5471536 , 0.5529375 , 0.57465696, 0.5513448 ,\n",
       "       0.5045665 , 0.49506587, 0.52215844, 0.59781   , 0.53812045,\n",
       "       0.5478616 , 0.5434072 , 0.55660504, 0.5731003 , 0.54333967,\n",
       "       0.51377463, 0.5932801 , 0.54710984, 0.53984696, 0.54632145,\n",
       "       0.5784606 , 0.53896075, 0.4797747 , 0.47585964, 0.56095976,\n",
       "       0.49586096, 0.5885296 , 0.5572517 , 0.47441313, 0.5418646 ,\n",
       "       0.55326873, 0.5386168 , 0.58696675, 0.55360746, 0.5679064 ,\n",
       "       0.5839472 , 0.54823244, 0.5199995 , 0.5712882 , 0.5984216 ,\n",
       "       0.5529472 , 0.5399875 , 0.53097844, 0.5181067 , 0.551711  ,\n",
       "       0.5910935 , 0.5595733 , 0.5316149 , 0.5519408 , 0.53583115,\n",
       "       0.55269754, 0.47477195, 0.5561383 , 0.54414755, 0.5766713 ,\n",
       "       0.5662193 , 0.5374501 , 0.5046295 , 0.57523817, 0.54817504,\n",
       "       0.5909612 , 0.19683686, 0.56165934, 0.542518  , 0.56307435,\n",
       "       0.49139842, 0.55985576, 0.52768385, 0.5273711 , 0.4792482 ,\n",
       "       0.5614132 , 0.5555006 , 0.4741686 , 0.52396315, 0.52928734,\n",
       "       0.537276  , 0.55939555, 0.59723675, 0.5516567 , 0.5319349 ,\n",
       "       0.48827794, 0.560816  , 0.594238  , 0.5597361 , 0.5499189 ,\n",
       "       0.5606781 , 0.5488926 , 0.58003795, 0.59079474, 0.5585771 ,\n",
       "       0.53651005, 0.5357012 , 0.48829487, 0.5230436 , 0.5442228 ,\n",
       "       0.52488816, 0.54757166, 0.53769714, 0.55349165, 0.5561291 ,\n",
       "       0.47539422, 0.549581  , 0.5145968 , 0.46653488, 0.5258865 ,\n",
       "       0.5403239 , 0.53250366, 0.5550469 , 0.57061374, 0.48250014,\n",
       "       0.5841609 , 0.5223555 , 0.5127215 , 0.5387107 , 0.47470075,\n",
       "       0.56252027, 0.5880013 , 0.5241229 , 0.536106  , 0.53035396,\n",
       "       0.512981  , 0.5212352 , 0.5316119 , 0.5401171 , 0.5299726 ,\n",
       "       0.4862779 , 0.51211095, 0.5907031 , 0.5502593 , 0.5798798 ,\n",
       "       0.5885824 , 0.5316702 , 0.48148695, 0.613679  , 0.5534977 ,\n",
       "       0.5437538 , 0.5465466 , 0.5196023 , 0.5800717 , 0.53260833,\n",
       "       0.550679  , 0.5252014 , 0.5223682 , 0.48925948, 0.5853197 ,\n",
       "       0.6012536 , 0.5105529 , 0.5919762 , 0.57088   , 0.5163969 ,\n",
       "       0.5300773 , 0.55030125, 0.54045385, 0.52511066, 0.59233075,\n",
       "       0.52623254, 0.58109826, 0.47881275, 0.5482433 , 0.5401448 ,\n",
       "       0.5522378 , 0.5330365 , 0.5989919 , 0.5521926 , 0.5288051 ,\n",
       "       0.56668615, 0.54835135, 0.5874297 , 0.49719268, 0.49960965,\n",
       "       0.5541188 , 0.5162629 , 0.57485366, 0.5465053 , 0.5517952 ,\n",
       "       0.56514734, 0.58270556, 0.5273142 , 0.5407228 , 0.4866789 ,\n",
       "       0.53121805, 0.54345083, 0.51081556, 0.5141603 , 0.5798907 ,\n",
       "       0.522475  , 0.52030873, 0.539512  , 0.4764096 , 0.54617053,\n",
       "       0.5428594 , 0.53622305, 0.49048552, 0.54160273, 0.5716865 ,\n",
       "       0.5210776 , 0.604091  , 0.5951148 , 0.54615647, 0.54684246,\n",
       "       0.51384723, 0.5522032 , 0.5155315 , 0.51618254, 0.52341163,\n",
       "       0.51878244, 0.48077652], dtype=float32)"
      ]
     },
     "execution_count": 75,
     "metadata": {},
     "output_type": "execute_result"
    }
   ],
   "source": [
    "preds = np.squeeze(preds)\n",
    "preds"
   ]
  },
  {
   "cell_type": "code",
   "execution_count": 76,
   "metadata": {},
   "outputs": [],
   "source": [
    "p = preds > 0.5"
   ]
  },
  {
   "cell_type": "code",
   "execution_count": 78,
   "metadata": {},
   "outputs": [
    {
     "data": {
      "text/plain": [
       "0.8740157480314961"
      ]
     },
     "execution_count": 78,
     "metadata": {},
     "output_type": "execute_result"
    }
   ],
   "source": [
    "(p == labels).mean()"
   ]
  },
  {
   "cell_type": "code",
   "execution_count": 80,
   "metadata": {},
   "outputs": [
    {
     "data": {
      "text/plain": [
       "Text(0.5, 1.0, 'Predicted Streaming Probabilities')"
      ]
     },
     "execution_count": 80,
     "metadata": {},
     "output_type": "execute_result"
    },
    {
     "data": {
      "image/png": "[encoded data removed]",
      "text/plain": [
       "<Figure size 432x288 with 1 Axes>"
      ]
     },
     "metadata": {
      "needs_background": "light"
     },
     "output_type": "display_data"
    }
   ],
   "source": [
    "plt.hist(preds)\n",
    "plt.title('Predicted Streaming Probabilities')"
   ]
  },
  {
   "cell_type": "code",
   "execution_count": 106,
   "metadata": {},
   "outputs": [],
   "source": [
    "from sklearn.metrics import confusion_matrix, ConfusionMatrixDisplay"
   ]
  },
  {
   "cell_type": "code",
   "execution_count": 118,
   "metadata": {},
   "outputs": [
    {
     "data": {
      "text/plain": [
       "<sklearn.metrics._plot.confusion_matrix.ConfusionMatrixDisplay at 0x7f33c476e550>"
      ]
     },
     "execution_count": 118,
     "metadata": {},
     "output_type": "execute_result"
    },
    {
     "data": {
      "image/png": "[encoded data removed]",
      "text/plain": [
       "<Figure size 432x288 with 2 Axes>"
      ]
     },
     "metadata": {
      "needs_background": "light"
     },
     "output_type": "display_data"
    }
   ],
   "source": [
    "cmd = ConfusionMatrixDisplay(confusion_matrix(labels, p), ['Browsing', 'Streaming'])\n",
    "cmd.plot(values_format='d', cmap='Blues')"
   ]
  },
  {
   "cell_type": "code",
   "execution_count": 88,
   "metadata": {},
   "outputs": [],
   "source": [
    "wherediff = np.squeeze(np.argwhere(p != labels))"
   ]
  },
  {
   "cell_type": "code",
   "execution_count": 105,
   "metadata": {},
   "outputs": [
    {
     "data": {
      "image/png": "[encoded data removed]",
      "text/plain": [
       "<Figure size 720x720 with 2 Axes>"
      ]
     },
     "metadata": {
      "needs_background": "light"
     },
     "output_type": "display_data"
    }
   ],
   "source": [
    "f = files[np.squeeze(wherediff)[93]]\n",
    "a = np.load(f)\n",
    "src.charts.flowpic(a)\n",
    "plt.title(f);"
   ]
  },
  {
   "cell_type": "code",
   "execution_count": null,
   "metadata": {},
   "outputs": [],
   "source": []
  },
  {
   "cell_type": "code",
   "execution_count": 56,
   "metadata": {},
   "outputs": [
    {
     "data": {
      "image/png": "[encoded data removed]",
      "text/plain": [
       "<Figure size 720x720 with 2 Axes>"
      ]
     },
     "metadata": {
      "needs_background": "light"
     },
     "output_type": "display_data"
    }
   ],
   "source": [
    "f = np.random.choice(files)\n",
    "flowpic = np.load(f)\n",
    "fig, ax = src.charts.flowpic(flowpic)\n",
    "ax.set_title(f);"
   ]
  },
  {
   "cell_type": "markdown",
   "metadata": {},
   "source": [
    "---\n",
    "# Old Code"
   ]
  },
  {
   "cell_type": "code",
   "execution_count": 8,
   "metadata": {},
   "outputs": [],
   "source": [
    "def unbin_packets(df):\n",
    "    \"\"\"\n",
    "    \"\"\"\n",
    "    \n",
    "    df = df.drop(columns=[\n",
    "        'Time', '1->2Bytes', '2->1Bytes', '1->2Pkts', '2->1Pkts'\n",
    "    ])\n",
    "    \n",
    "    packet_cols = ['packet_times', 'packet_sizes', 'packet_dirs']\n",
    "#     packetlist_cols = [s.rstrip('s') for s in packet_cols]\n",
    "    \n",
    "    # Convert the strings `val1;val2;` into lists `[val1, val2]`\n",
    "    df[packet_cols] = (\n",
    "        df.loc[:,packet_cols]\n",
    "        .apply(lambda ser: ser.str.split(';').str[:-1])\n",
    "    )\n",
    "    \n",
    "    # 'Explode' the lists so each element gets its own row.\n",
    "    exploded = (\n",
    "        df\n",
    "        .apply(\n",
    "            lambda ser: ser.explode().astype(int) if ser.name in packet_cols else ser\n",
    "        )\n",
    "    )\n",
    "    \n",
    "    return exploded"
   ]
  },
  {
   "cell_type": "code",
   "execution_count": null,
   "metadata": {},
   "outputs": [],
   "source": []
  },
  {
   "cell_type": "code",
   "execution_count": 142,
   "metadata": {},
   "outputs": [],
   "source": [
    "unbinned = unbin_packets(df)"
   ]
  },
  {
   "cell_type": "markdown",
   "metadata": {},
   "source": [
    "Perhaps if a particular flow constitutes more than x% of the unbinned data then we should single it out?"
   ]
  },
  {
   "cell_type": "code",
   "execution_count": 143,
   "metadata": {},
   "outputs": [],
   "source": [
    "from functools import reduce\n",
    "\n",
    "def dominating_flow(df, threshold=0.9):\n",
    "    \n",
    "    ip1_props = df.IP1.value_counts(normalize=True)\n",
    "    ip2_props = df.IP2.value_counts(normalize=True)\n",
    "    \n",
    "    masks = []\n",
    "    \n",
    "    if ip1_props[0] > threshold:\n",
    "        masks.append(\n",
    "            df.IP1 == ip1_props.index[0]\n",
    "        )\n",
    "        \n",
    "    if ip2_props[0] > threshold:\n",
    "        masks.append(\n",
    "            df.IP2 == ip2_props.index[0]\n",
    "        )\n",
    "        \n",
    "    if masks:\n",
    "        return df[reduce(lambda x, y: y & x, masks, True)]\n",
    "    else:\n",
    "        return df"
   ]
  },
  {
   "cell_type": "code",
   "execution_count": 144,
   "metadata": {},
   "outputs": [
    {
     "data": {
      "text/html": [
       "<div>\n",
       "<style scoped>\n",
       "    .dataframe tbody tr th:only-of-type {\n",
       "        vertical-align: middle;\n",
       "    }\n",
       "\n",
       "    .dataframe tbody tr th {\n",
       "        vertical-align: top;\n",
       "    }\n",
       "\n",
       "    .dataframe thead th {\n",
       "        text-align: right;\n",
       "    }\n",
       "</style>\n",
       "<table border=\"1\" class=\"dataframe\">\n",
       "  <thead>\n",
       "    <tr style=\"text-align: right;\">\n",
       "      <th></th>\n",
       "      <th>IP1</th>\n",
       "      <th>Port1</th>\n",
       "      <th>IP2</th>\n",
       "      <th>Port2</th>\n",
       "      <th>Proto</th>\n",
       "      <th>packet_times</th>\n",
       "      <th>packet_sizes</th>\n",
       "      <th>packet_dirs</th>\n",
       "    </tr>\n",
       "  </thead>\n",
       "  <tbody>\n",
       "    <tr>\n",
       "      <th>0</th>\n",
       "      <td>10.0.0.236</td>\n",
       "      <td>50074</td>\n",
       "      <td>137.110.0.69</td>\n",
       "      <td>443</td>\n",
       "      <td>17</td>\n",
       "      <td>1605151149801</td>\n",
       "      <td>106</td>\n",
       "      <td>2</td>\n",
       "    </tr>\n",
       "    <tr>\n",
       "      <th>0</th>\n",
       "      <td>10.0.0.236</td>\n",
       "      <td>50074</td>\n",
       "      <td>137.110.0.69</td>\n",
       "      <td>443</td>\n",
       "      <td>17</td>\n",
       "      <td>1605151149804</td>\n",
       "      <td>151</td>\n",
       "      <td>2</td>\n",
       "    </tr>\n",
       "    <tr>\n",
       "      <th>0</th>\n",
       "      <td>10.0.0.236</td>\n",
       "      <td>50074</td>\n",
       "      <td>137.110.0.69</td>\n",
       "      <td>443</td>\n",
       "      <td>17</td>\n",
       "      <td>1605151149804</td>\n",
       "      <td>235</td>\n",
       "      <td>2</td>\n",
       "    </tr>\n",
       "    <tr>\n",
       "      <th>0</th>\n",
       "      <td>10.0.0.236</td>\n",
       "      <td>50074</td>\n",
       "      <td>137.110.0.69</td>\n",
       "      <td>443</td>\n",
       "      <td>17</td>\n",
       "      <td>1605151149805</td>\n",
       "      <td>106</td>\n",
       "      <td>1</td>\n",
       "    </tr>\n",
       "    <tr>\n",
       "      <th>0</th>\n",
       "      <td>10.0.0.236</td>\n",
       "      <td>50074</td>\n",
       "      <td>137.110.0.69</td>\n",
       "      <td>443</td>\n",
       "      <td>17</td>\n",
       "      <td>1605151149806</td>\n",
       "      <td>106</td>\n",
       "      <td>2</td>\n",
       "    </tr>\n",
       "    <tr>\n",
       "      <th>...</th>\n",
       "      <td>...</td>\n",
       "      <td>...</td>\n",
       "      <td>...</td>\n",
       "      <td>...</td>\n",
       "      <td>...</td>\n",
       "      <td>...</td>\n",
       "      <td>...</td>\n",
       "      <td>...</td>\n",
       "    </tr>\n",
       "    <tr>\n",
       "      <th>9279</th>\n",
       "      <td>10.0.0.236</td>\n",
       "      <td>50074</td>\n",
       "      <td>137.110.0.69</td>\n",
       "      <td>443</td>\n",
       "      <td>17</td>\n",
       "      <td>1605154731137</td>\n",
       "      <td>171</td>\n",
       "      <td>2</td>\n",
       "    </tr>\n",
       "    <tr>\n",
       "      <th>9279</th>\n",
       "      <td>10.0.0.236</td>\n",
       "      <td>50074</td>\n",
       "      <td>137.110.0.69</td>\n",
       "      <td>443</td>\n",
       "      <td>17</td>\n",
       "      <td>1605154731138</td>\n",
       "      <td>118</td>\n",
       "      <td>1</td>\n",
       "    </tr>\n",
       "    <tr>\n",
       "      <th>9279</th>\n",
       "      <td>10.0.0.236</td>\n",
       "      <td>50074</td>\n",
       "      <td>137.110.0.69</td>\n",
       "      <td>443</td>\n",
       "      <td>17</td>\n",
       "      <td>1605154731406</td>\n",
       "      <td>172</td>\n",
       "      <td>1</td>\n",
       "    </tr>\n",
       "    <tr>\n",
       "      <th>9279</th>\n",
       "      <td>10.0.0.236</td>\n",
       "      <td>50074</td>\n",
       "      <td>137.110.0.69</td>\n",
       "      <td>443</td>\n",
       "      <td>17</td>\n",
       "      <td>1605154731498</td>\n",
       "      <td>174</td>\n",
       "      <td>2</td>\n",
       "    </tr>\n",
       "    <tr>\n",
       "      <th>9279</th>\n",
       "      <td>10.0.0.236</td>\n",
       "      <td>50074</td>\n",
       "      <td>137.110.0.69</td>\n",
       "      <td>443</td>\n",
       "      <td>17</td>\n",
       "      <td>1605154731498</td>\n",
       "      <td>118</td>\n",
       "      <td>1</td>\n",
       "    </tr>\n",
       "  </tbody>\n",
       "</table>\n",
       "<p>61196 rows × 8 columns</p>\n",
       "</div>"
      ],
      "text/plain": [
       "             IP1  Port1           IP2  Port2  Proto   packet_times  \\\n",
       "0     10.0.0.236  50074  137.110.0.69    443     17  1605151149801   \n",
       "0     10.0.0.236  50074  137.110.0.69    443     17  1605151149804   \n",
       "0     10.0.0.236  50074  137.110.0.69    443     17  1605151149804   \n",
       "0     10.0.0.236  50074  137.110.0.69    443     17  1605151149805   \n",
       "0     10.0.0.236  50074  137.110.0.69    443     17  1605151149806   \n",
       "...          ...    ...           ...    ...    ...            ...   \n",
       "9279  10.0.0.236  50074  137.110.0.69    443     17  1605154731137   \n",
       "9279  10.0.0.236  50074  137.110.0.69    443     17  1605154731138   \n",
       "9279  10.0.0.236  50074  137.110.0.69    443     17  1605154731406   \n",
       "9279  10.0.0.236  50074  137.110.0.69    443     17  1605154731498   \n",
       "9279  10.0.0.236  50074  137.110.0.69    443     17  1605154731498   \n",
       "\n",
       "      packet_sizes  packet_dirs  \n",
       "0              106            2  \n",
       "0              151            2  \n",
       "0              235            2  \n",
       "0              106            1  \n",
       "0              106            2  \n",
       "...            ...          ...  \n",
       "9279           171            2  \n",
       "9279           118            1  \n",
       "9279           172            1  \n",
       "9279           174            2  \n",
       "9279           118            1  \n",
       "\n",
       "[61196 rows x 8 columns]"
      ]
     },
     "execution_count": 144,
     "metadata": {},
     "output_type": "execute_result"
    }
   ],
   "source": [
    "dom = dominating_flow(unbinned)\n",
    "dom"
   ]
  },
  {
   "cell_type": "markdown",
   "metadata": {},
   "source": [
    "Let's split up by ip pairs and direction.\n",
    "\n",
    "Afterwards, if our data had a bunch of IPs, we can chuck out dataframes that are too small or something like that."
   ]
  },
  {
   "cell_type": "code",
   "execution_count": 145,
   "metadata": {},
   "outputs": [
    {
     "data": {
      "text/html": [
       "<div>\n",
       "<style scoped>\n",
       "    .dataframe tbody tr th:only-of-type {\n",
       "        vertical-align: middle;\n",
       "    }\n",
       "\n",
       "    .dataframe tbody tr th {\n",
       "        vertical-align: top;\n",
       "    }\n",
       "\n",
       "    .dataframe thead th {\n",
       "        text-align: right;\n",
       "    }\n",
       "</style>\n",
       "<table border=\"1\" class=\"dataframe\">\n",
       "  <thead>\n",
       "    <tr style=\"text-align: right;\">\n",
       "      <th></th>\n",
       "      <th></th>\n",
       "      <th></th>\n",
       "      <th>Port1</th>\n",
       "      <th>Port2</th>\n",
       "      <th>Proto</th>\n",
       "      <th>packet_times</th>\n",
       "      <th>packet_sizes</th>\n",
       "    </tr>\n",
       "    <tr>\n",
       "      <th>IP1</th>\n",
       "      <th>IP2</th>\n",
       "      <th>packet_dirs</th>\n",
       "      <th></th>\n",
       "      <th></th>\n",
       "      <th></th>\n",
       "      <th></th>\n",
       "      <th></th>\n",
       "    </tr>\n",
       "  </thead>\n",
       "  <tbody>\n",
       "    <tr>\n",
       "      <th rowspan=\"11\" valign=\"top\">10.0.0.236</th>\n",
       "      <th rowspan=\"11\" valign=\"top\">137.110.0.69</th>\n",
       "      <th>1</th>\n",
       "      <td>50074</td>\n",
       "      <td>443</td>\n",
       "      <td>17</td>\n",
       "      <td>1605151149805</td>\n",
       "      <td>106</td>\n",
       "    </tr>\n",
       "    <tr>\n",
       "      <th>1</th>\n",
       "      <td>50074</td>\n",
       "      <td>443</td>\n",
       "      <td>17</td>\n",
       "      <td>1605151149809</td>\n",
       "      <td>106</td>\n",
       "    </tr>\n",
       "    <tr>\n",
       "      <th>1</th>\n",
       "      <td>50074</td>\n",
       "      <td>443</td>\n",
       "      <td>17</td>\n",
       "      <td>1605151149817</td>\n",
       "      <td>106</td>\n",
       "    </tr>\n",
       "    <tr>\n",
       "      <th>1</th>\n",
       "      <td>50074</td>\n",
       "      <td>443</td>\n",
       "      <td>17</td>\n",
       "      <td>1605151149818</td>\n",
       "      <td>146</td>\n",
       "    </tr>\n",
       "    <tr>\n",
       "      <th>1</th>\n",
       "      <td>50074</td>\n",
       "      <td>443</td>\n",
       "      <td>17</td>\n",
       "      <td>1605151149818</td>\n",
       "      <td>146</td>\n",
       "    </tr>\n",
       "    <tr>\n",
       "      <th>...</th>\n",
       "      <td>...</td>\n",
       "      <td>...</td>\n",
       "      <td>...</td>\n",
       "      <td>...</td>\n",
       "      <td>...</td>\n",
       "    </tr>\n",
       "    <tr>\n",
       "      <th>2</th>\n",
       "      <td>50074</td>\n",
       "      <td>443</td>\n",
       "      <td>17</td>\n",
       "      <td>1605154730618</td>\n",
       "      <td>138</td>\n",
       "    </tr>\n",
       "    <tr>\n",
       "      <th>2</th>\n",
       "      <td>50074</td>\n",
       "      <td>443</td>\n",
       "      <td>17</td>\n",
       "      <td>1605154730629</td>\n",
       "      <td>495</td>\n",
       "    </tr>\n",
       "    <tr>\n",
       "      <th>2</th>\n",
       "      <td>50074</td>\n",
       "      <td>443</td>\n",
       "      <td>17</td>\n",
       "      <td>1605154730629</td>\n",
       "      <td>191</td>\n",
       "    </tr>\n",
       "    <tr>\n",
       "      <th>2</th>\n",
       "      <td>50074</td>\n",
       "      <td>443</td>\n",
       "      <td>17</td>\n",
       "      <td>1605154731137</td>\n",
       "      <td>171</td>\n",
       "    </tr>\n",
       "    <tr>\n",
       "      <th>2</th>\n",
       "      <td>50074</td>\n",
       "      <td>443</td>\n",
       "      <td>17</td>\n",
       "      <td>1605154731498</td>\n",
       "      <td>174</td>\n",
       "    </tr>\n",
       "  </tbody>\n",
       "</table>\n",
       "<p>61196 rows × 5 columns</p>\n",
       "</div>"
      ],
      "text/plain": [
       "                                     Port1  Port2  Proto   packet_times  \\\n",
       "IP1        IP2          packet_dirs                                       \n",
       "10.0.0.236 137.110.0.69 1            50074    443     17  1605151149805   \n",
       "                        1            50074    443     17  1605151149809   \n",
       "                        1            50074    443     17  1605151149817   \n",
       "                        1            50074    443     17  1605151149818   \n",
       "                        1            50074    443     17  1605151149818   \n",
       "...                                    ...    ...    ...            ...   \n",
       "                        2            50074    443     17  1605154730618   \n",
       "                        2            50074    443     17  1605154730629   \n",
       "                        2            50074    443     17  1605154730629   \n",
       "                        2            50074    443     17  1605154731137   \n",
       "                        2            50074    443     17  1605154731498   \n",
       "\n",
       "                                     packet_sizes  \n",
       "IP1        IP2          packet_dirs                \n",
       "10.0.0.236 137.110.0.69 1                     106  \n",
       "                        1                     106  \n",
       "                        1                     106  \n",
       "                        1                     146  \n",
       "                        1                     146  \n",
       "...                                           ...  \n",
       "                        2                     138  \n",
       "                        2                     495  \n",
       "                        2                     191  \n",
       "                        2                     171  \n",
       "                        2                     174  \n",
       "\n",
       "[61196 rows x 5 columns]"
      ]
     },
     "execution_count": 145,
     "metadata": {},
     "output_type": "execute_result"
    }
   ],
   "source": [
    "keys = ['IP1', 'IP2', 'packet_dirs']\n",
    "\n",
    "indexed = (\n",
    "    dom\n",
    "    .sort_values(keys)\n",
    "    .set_index(keys)\n",
    ")\n",
    "indexed"
   ]
  },
  {
   "cell_type": "code",
   "execution_count": 146,
   "metadata": {},
   "outputs": [
    {
     "data": {
      "text/plain": [
       "(10.0.0.236, 137.110.0.69, 2)    0.520737\n",
       "(10.0.0.236, 137.110.0.69, 1)    0.479263\n",
       "dtype: float64"
      ]
     },
     "execution_count": 146,
     "metadata": {},
     "output_type": "execute_result"
    }
   ],
   "source": [
    "indexed.index.value_counts(normalize=True)"
   ]
  },
  {
   "cell_type": "markdown",
   "metadata": {},
   "source": [
    "Just looked at a file with tons of the 260x IPs... I don't know how to deal with those.\n",
    "\n",
    "For the moment might just chuck out dataframes that don't boil down to two index levels."
   ]
  },
  {
   "cell_type": "code",
   "execution_count": 147,
   "metadata": {},
   "outputs": [],
   "source": [
    "assert max(indexed.index.levshape) == 2, f\"Couldn't determine a single main flow from the data! {indexed.index.levshape}\""
   ]
  },
  {
   "cell_type": "code",
   "execution_count": 148,
   "metadata": {},
   "outputs": [],
   "source": [
    "fidx = indexed.index.unique()\n",
    "\n",
    "download_idx = np.argwhere(fidx.levels[2] == 2)[0][0]\n",
    "\n",
    "down = indexed.loc[fidx[download_idx]]\n",
    "up = indexed.loc[fidx[1-download_idx]]"
   ]
  },
  {
   "cell_type": "code",
   "execution_count": 149,
   "metadata": {},
   "outputs": [],
   "source": [
    "def chunk(df, chunk_length='60s'):\n",
    "    \"\"\"\n",
    "    Returns a list of DataFrames, each `chunk_length` long in duration.\n",
    "    \"\"\"\n",
    "    \n",
    "    df_time = df.assign(timestamp=pd.to_datetime(df.packet_times, unit='ms'))\n",
    "    # Important that we specify `origin='start'`, otherwise specifying a minute\n",
    "    # will create chunks at e.g. 5:01, 5:02, ..., when we want to just take\n",
    "    # 60s from the very first observation\n",
    "    resampled = df_time.resample(chunk_length, on='timestamp', origin='start')\n",
    "\n",
    "    chunks = []\n",
    "    for (timestamp, frame) in resampled:\n",
    "        chunks.append(frame)\n",
    "\n",
    "    # Get rid of last chunk if it's incomplete\n",
    "    last = chunks[-1]\n",
    "    if last.timestamp.max() - last.timestamp.min() < pd.Timedelta(chunk_length):\n",
    "        chunks.pop()\n",
    "\n",
    "    return chunks"
   ]
  },
  {
   "cell_type": "code",
   "execution_count": 150,
   "metadata": {},
   "outputs": [
    {
     "data": {
      "text/html": [
       "<div>\n",
       "<style scoped>\n",
       "    .dataframe tbody tr th:only-of-type {\n",
       "        vertical-align: middle;\n",
       "    }\n",
       "\n",
       "    .dataframe tbody tr th {\n",
       "        vertical-align: top;\n",
       "    }\n",
       "\n",
       "    .dataframe thead th {\n",
       "        text-align: right;\n",
       "    }\n",
       "</style>\n",
       "<table border=\"1\" class=\"dataframe\">\n",
       "  <thead>\n",
       "    <tr style=\"text-align: right;\">\n",
       "      <th></th>\n",
       "      <th></th>\n",
       "      <th></th>\n",
       "      <th>Port1</th>\n",
       "      <th>Port2</th>\n",
       "      <th>Proto</th>\n",
       "      <th>packet_times</th>\n",
       "      <th>packet_sizes</th>\n",
       "      <th>timestamp</th>\n",
       "    </tr>\n",
       "    <tr>\n",
       "      <th>IP1</th>\n",
       "      <th>IP2</th>\n",
       "      <th>packet_dirs</th>\n",
       "      <th></th>\n",
       "      <th></th>\n",
       "      <th></th>\n",
       "      <th></th>\n",
       "      <th></th>\n",
       "      <th></th>\n",
       "    </tr>\n",
       "  </thead>\n",
       "  <tbody>\n",
       "    <tr>\n",
       "      <th rowspan=\"11\" valign=\"top\">10.0.0.236</th>\n",
       "      <th rowspan=\"11\" valign=\"top\">137.110.0.69</th>\n",
       "      <th>2</th>\n",
       "      <td>50074</td>\n",
       "      <td>443</td>\n",
       "      <td>17</td>\n",
       "      <td>1605151149801</td>\n",
       "      <td>106</td>\n",
       "      <td>2020-11-12 03:19:09.801</td>\n",
       "    </tr>\n",
       "    <tr>\n",
       "      <th>2</th>\n",
       "      <td>50074</td>\n",
       "      <td>443</td>\n",
       "      <td>17</td>\n",
       "      <td>1605151149804</td>\n",
       "      <td>151</td>\n",
       "      <td>2020-11-12 03:19:09.804</td>\n",
       "    </tr>\n",
       "    <tr>\n",
       "      <th>2</th>\n",
       "      <td>50074</td>\n",
       "      <td>443</td>\n",
       "      <td>17</td>\n",
       "      <td>1605151149804</td>\n",
       "      <td>235</td>\n",
       "      <td>2020-11-12 03:19:09.804</td>\n",
       "    </tr>\n",
       "    <tr>\n",
       "      <th>2</th>\n",
       "      <td>50074</td>\n",
       "      <td>443</td>\n",
       "      <td>17</td>\n",
       "      <td>1605151149806</td>\n",
       "      <td>106</td>\n",
       "      <td>2020-11-12 03:19:09.806</td>\n",
       "    </tr>\n",
       "    <tr>\n",
       "      <th>2</th>\n",
       "      <td>50074</td>\n",
       "      <td>443</td>\n",
       "      <td>17</td>\n",
       "      <td>1605151149809</td>\n",
       "      <td>151</td>\n",
       "      <td>2020-11-12 03:19:09.809</td>\n",
       "    </tr>\n",
       "    <tr>\n",
       "      <th>...</th>\n",
       "      <td>...</td>\n",
       "      <td>...</td>\n",
       "      <td>...</td>\n",
       "      <td>...</td>\n",
       "      <td>...</td>\n",
       "      <td>...</td>\n",
       "    </tr>\n",
       "    <tr>\n",
       "      <th>2</th>\n",
       "      <td>50074</td>\n",
       "      <td>443</td>\n",
       "      <td>17</td>\n",
       "      <td>1605151209438</td>\n",
       "      <td>213</td>\n",
       "      <td>2020-11-12 03:20:09.438</td>\n",
       "    </tr>\n",
       "    <tr>\n",
       "      <th>2</th>\n",
       "      <td>36720</td>\n",
       "      <td>443</td>\n",
       "      <td>6</td>\n",
       "      <td>1605151209674</td>\n",
       "      <td>52</td>\n",
       "      <td>2020-11-12 03:20:09.674</td>\n",
       "    </tr>\n",
       "    <tr>\n",
       "      <th>2</th>\n",
       "      <td>36720</td>\n",
       "      <td>443</td>\n",
       "      <td>6</td>\n",
       "      <td>1605151209674</td>\n",
       "      <td>52</td>\n",
       "      <td>2020-11-12 03:20:09.674</td>\n",
       "    </tr>\n",
       "    <tr>\n",
       "      <th>2</th>\n",
       "      <td>36720</td>\n",
       "      <td>443</td>\n",
       "      <td>6</td>\n",
       "      <td>1605151209674</td>\n",
       "      <td>89</td>\n",
       "      <td>2020-11-12 03:20:09.674</td>\n",
       "    </tr>\n",
       "    <tr>\n",
       "      <th>2</th>\n",
       "      <td>36720</td>\n",
       "      <td>443</td>\n",
       "      <td>6</td>\n",
       "      <td>1605151209695</td>\n",
       "      <td>52</td>\n",
       "      <td>2020-11-12 03:20:09.695</td>\n",
       "    </tr>\n",
       "  </tbody>\n",
       "</table>\n",
       "<p>640 rows × 6 columns</p>\n",
       "</div>"
      ],
      "text/plain": [
       "                                     Port1  Port2  Proto   packet_times  \\\n",
       "IP1        IP2          packet_dirs                                       \n",
       "10.0.0.236 137.110.0.69 2            50074    443     17  1605151149801   \n",
       "                        2            50074    443     17  1605151149804   \n",
       "                        2            50074    443     17  1605151149804   \n",
       "                        2            50074    443     17  1605151149806   \n",
       "                        2            50074    443     17  1605151149809   \n",
       "...                                    ...    ...    ...            ...   \n",
       "                        2            50074    443     17  1605151209438   \n",
       "                        2            36720    443      6  1605151209674   \n",
       "                        2            36720    443      6  1605151209674   \n",
       "                        2            36720    443      6  1605151209674   \n",
       "                        2            36720    443      6  1605151209695   \n",
       "\n",
       "                                     packet_sizes               timestamp  \n",
       "IP1        IP2          packet_dirs                                        \n",
       "10.0.0.236 137.110.0.69 2                     106 2020-11-12 03:19:09.801  \n",
       "                        2                     151 2020-11-12 03:19:09.804  \n",
       "                        2                     235 2020-11-12 03:19:09.804  \n",
       "                        2                     106 2020-11-12 03:19:09.806  \n",
       "                        2                     151 2020-11-12 03:19:09.809  \n",
       "...                                           ...                     ...  \n",
       "                        2                     213 2020-11-12 03:20:09.438  \n",
       "                        2                      52 2020-11-12 03:20:09.674  \n",
       "                        2                      52 2020-11-12 03:20:09.674  \n",
       "                        2                      89 2020-11-12 03:20:09.674  \n",
       "                        2                      52 2020-11-12 03:20:09.695  \n",
       "\n",
       "[640 rows x 6 columns]"
      ]
     },
     "execution_count": 150,
     "metadata": {},
     "output_type": "execute_result"
    }
   ],
   "source": [
    "chunks = chunk(down)\n",
    "chunks[0]"
   ]
  },
  {
   "cell_type": "code",
   "execution_count": 151,
   "metadata": {},
   "outputs": [],
   "source": [
    "def flowpic(chunk, bins=1500, draw=False, draw_binary=False):\n",
    "    \n",
    "    c = chunk[['packet_times', 'packet_sizes']]\n",
    "\n",
    "    c = c[c.packet_sizes <= 1500]\n",
    "    c.packet_times = c.packet_times - c.packet_times.min()\n",
    "    c.packet_times = c.packet_times / c.packet_times.max() * 1500\n",
    "    \n",
    "    h = np.histogram2d(c.packet_times, c.packet_sizes, bins=bins)[0]\n",
    "    h = h / h.max()\n",
    "    \n",
    "    if draw:\n",
    "        options = {'cmap': 'Greys', 'origin': 'lower', 'vmin': 0, 'vmax': 1}\n",
    "        if draw_binary:\n",
    "            plt.imshow(h.T > 0, **options)\n",
    "        else:\n",
    "            plt.imshow(h.T, **options)\n",
    "        plt.xlabel('Normalized arrival time')\n",
    "        plt.ylabel('Packet size (bytes)')\n",
    "\n",
    "    return h"
   ]
  },
  {
   "cell_type": "code",
   "execution_count": 152,
   "metadata": {
    "scrolled": false
   },
   "outputs": [
    {
     "data": {
      "image/png": "[encoded data removed]",
      "text/plain": [
       "<Figure size 720x720 with 1 Axes>"
      ]
     },
     "metadata": {
      "needs_background": "light"
     },
     "output_type": "display_data"
    }
   ],
   "source": [
    "fig, ax = plt.subplots(figsize=(10, 10))\n",
    "h = flowpic(chunks[0], bins=100, draw=True, draw_binary=True)"
   ]
  },
  {
   "cell_type": "code",
   "execution_count": 138,
   "metadata": {},
   "outputs": [
    {
     "data": {
      "image/png": "[encoded data removed]",
      "text/plain": [
       "<Figure size 432x288 with 1 Axes>"
      ]
     },
     "metadata": {
      "needs_background": "light"
     },
     "output_type": "display_data"
    }
   ],
   "source": [
    "flowpic(chunk(unbinned)[1], 100, True, True);"
   ]
  },
  {
   "cell_type": "code",
   "execution_count": 139,
   "metadata": {},
   "outputs": [
    {
     "name": "stdout",
     "output_type": "stream",
     "text": [
      "WARNING:tensorflow:Layer max_pooling2d_27 is casting an input tensor from dtype float64 to the layer's dtype of float32, which is new behavior in TensorFlow 2.  The layer has dtype float32 because its dtype defaults to floatx.\n",
      "\n",
      "If you intended to run this layer in float32, you can safely ignore this warning. If in doubt, this warning is likely only an issue if you are porting a TensorFlow 1.X model to TensorFlow 2.\n",
      "\n",
      "To change all layers to have dtype float64 by default, call `tf.keras.backend.set_floatx('float64')`. To change just this layer, pass dtype='float64' to the layer constructor. If you are the author of this layer, you can disable autocasting by passing autocast=False to the base Layer constructor.\n",
      "\n"
     ]
    },
    {
     "data": {
      "text/plain": [
       "<matplotlib.image.AxesImage at 0x7f425b58ab20>"
      ]
     },
     "execution_count": 139,
     "metadata": {},
     "output_type": "execute_result"
    },
    {
     "data": {
      "image/png": "[encoded data removed]",
      "text/plain": [
       "<Figure size 432x288 with 1 Axes>"
      ]
     },
     "metadata": {
      "needs_background": "light"
     },
     "output_type": "display_data"
    }
   ],
   "source": [
    "options = {'cmap': 'Greys', 'origin': 'lower', 'vmin': 0, 'vmax': 1}\n",
    "\n",
    "size = 20\n",
    "h1 = tf.constant(h)\n",
    "h2 = tf.reshape(h1, (1, *h1.shape, 1))\n",
    "maxpool = keras.layers.MaxPool2D(pool_size=(size,size), strides=(1,1), padding='same')\n",
    "pooled = maxpool(h2)\n",
    "plt.imshow(pooled.numpy().reshape(*h1.shape).T > 0, **options)"
   ]
  },
  {
   "cell_type": "code",
   "execution_count": null,
   "metadata": {},
   "outputs": [],
   "source": []
  }
 ],
 "metadata": {
  "kernelspec": {
   "display_name": "Python 3",
   "language": "python",
   "name": "python3"
  },
  "language_info": {
   "codemirror_mode": {
    "name": "ipython",
    "version": 3
   },
   "file_extension": ".py",
   "mimetype": "text/x-python",
   "name": "python",
   "nbconvert_exporter": "python",
   "pygments_lexer": "ipython3",
   "version": "3.7.6"
  }
 },
 "nbformat": 4,
 "nbformat_minor": 4
}
