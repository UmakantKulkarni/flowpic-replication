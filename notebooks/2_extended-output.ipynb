{
 "cells": [
  {
   "cell_type": "code",
   "execution_count": 1,
   "metadata": {},
   "outputs": [],
   "source": [
    "import pandas as pd\n",
    "import numpy as np\n",
    "import glob\n",
    "import matplotlib.pyplot as plt"
   ]
  },
  {
   "cell_type": "code",
   "execution_count": 2,
   "metadata": {},
   "outputs": [
    {
     "data": {
      "text/plain": [
       "['../data/unzipped/pgaddiso-youtube-1x-720p-vpn-linux-clean-20201102-0.csv',\n",
       " '../data/unzipped/pgaddiso-youtube-1x-720p-vpn-linux-clean-20201102-1.csv',\n",
       " '../data/unzipped/pgaddiso-youtube-1x-720p-vpn-linux-clean-20201102b-0.csv',\n",
       " '../data/unzipped/pgaddiso-youtube-1x-720p-vpn-linux-clean-20201102b-1.csv',\n",
       " '../data/unzipped/pgaddiso-youtube-1x-720p-vpn-linux-clean-20201102b-2.csv',\n",
       " '../data/unzipped/pgaddiso-youtube-1x-720p-vpn-linux-clean-20201102b-3.csv',\n",
       " '../data/unzipped/pgaddiso-youtube-1x-720p-vpn-linux-clean-20201102b-4.csv',\n",
       " '../data/unzipped/pgaddiso-youtube-1x-720p-vpn-linux-clean-20201102b-5.csv']"
      ]
     },
     "execution_count": 2,
     "metadata": {},
     "output_type": "execute_result"
    }
   ],
   "source": [
    "glob.glob('../data/unzipped/*youtube*-vpn*')"
   ]
  },
  {
   "cell_type": "code",
   "execution_count": 3,
   "metadata": {},
   "outputs": [],
   "source": [
    "df = pd.read_csv('../data/unzipped/pgaddiso-youtube-1x-720p-vpn-linux-clean-20201102-0.csv')"
   ]
  },
  {
   "cell_type": "code",
   "execution_count": null,
   "metadata": {},
   "outputs": [],
   "source": [
    "# Basically, recreate 'flows' for given IP pair and protocol"
   ]
  },
  {
   "cell_type": "code",
   "execution_count": null,
   "metadata": {},
   "outputs": [],
   "source": []
  },
  {
   "cell_type": "code",
   "execution_count": null,
   "metadata": {},
   "outputs": [],
   "source": []
  },
  {
   "cell_type": "code",
   "execution_count": null,
   "metadata": {},
   "outputs": [],
   "source": []
  },
  {
   "cell_type": "code",
   "execution_count": null,
   "metadata": {},
   "outputs": [],
   "source": []
  },
  {
   "cell_type": "code",
   "execution_count": 32,
   "metadata": {},
   "outputs": [
    {
     "data": {
      "text/plain": [
       "3078936"
      ]
     },
     "execution_count": 32,
     "metadata": {},
     "output_type": "execute_result"
    }
   ],
   "source": [
    "df.groupby(['IP1', 'IP2'])"
   ]
  },
  {
   "cell_type": "code",
   "execution_count": null,
   "metadata": {},
   "outputs": [],
   "source": [
    "# Simple aggregation -- don't care about IPs"
   ]
  },
  {
   "cell_type": "code",
   "execution_count": 19,
   "metadata": {},
   "outputs": [
    {
     "data": {
      "text/plain": [
       "packet_times    [1604366490254, 1604366490255, 1604366490664, ...\n",
       "packet_sizes    [72, 126, 118, 118, 83, 202, 72, 126, 907, 118...\n",
       "packet_dirs     [2, 1, 1, 2, 2, 1, 2, 1, 2, 1, 1, 2, 2, 1, 1, ...\n",
       "dtype: object"
      ]
     },
     "execution_count": 19,
     "metadata": {},
     "output_type": "execute_result"
    }
   ],
   "source": [
    "strags = df.filter(like='packet').apply(lambda ser: ser.str.split(';').str[:-1]).sum()\n",
    "strags"
   ]
  },
  {
   "cell_type": "code",
   "execution_count": 33,
   "metadata": {},
   "outputs": [
    {
     "data": {
      "text/html": [
       "<div>\n",
       "<style scoped>\n",
       "    .dataframe tbody tr th:only-of-type {\n",
       "        vertical-align: middle;\n",
       "    }\n",
       "\n",
       "    .dataframe tbody tr th {\n",
       "        vertical-align: top;\n",
       "    }\n",
       "\n",
       "    .dataframe thead th {\n",
       "        text-align: right;\n",
       "    }\n",
       "</style>\n",
       "<table border=\"1\" class=\"dataframe\">\n",
       "  <thead>\n",
       "    <tr style=\"text-align: right;\">\n",
       "      <th></th>\n",
       "      <th>time</th>\n",
       "      <th>size</th>\n",
       "      <th>dir</th>\n",
       "    </tr>\n",
       "  </thead>\n",
       "  <tbody>\n",
       "    <tr>\n",
       "      <th>0</th>\n",
       "      <td>1604366490254</td>\n",
       "      <td>72</td>\n",
       "      <td>2</td>\n",
       "    </tr>\n",
       "    <tr>\n",
       "      <th>1</th>\n",
       "      <td>1604366490255</td>\n",
       "      <td>126</td>\n",
       "      <td>1</td>\n",
       "    </tr>\n",
       "    <tr>\n",
       "      <th>2</th>\n",
       "      <td>1604366490664</td>\n",
       "      <td>118</td>\n",
       "      <td>1</td>\n",
       "    </tr>\n",
       "    <tr>\n",
       "      <th>3</th>\n",
       "      <td>1604366490688</td>\n",
       "      <td>118</td>\n",
       "      <td>2</td>\n",
       "    </tr>\n",
       "    <tr>\n",
       "      <th>4</th>\n",
       "      <td>1604366490622</td>\n",
       "      <td>83</td>\n",
       "      <td>2</td>\n",
       "    </tr>\n",
       "    <tr>\n",
       "      <th>...</th>\n",
       "      <td>...</td>\n",
       "      <td>...</td>\n",
       "      <td>...</td>\n",
       "    </tr>\n",
       "    <tr>\n",
       "      <th>31408</th>\n",
       "      <td>1604366790975</td>\n",
       "      <td>189</td>\n",
       "      <td>1</td>\n",
       "    </tr>\n",
       "    <tr>\n",
       "      <th>31409</th>\n",
       "      <td>1604366790975</td>\n",
       "      <td>216</td>\n",
       "      <td>1</td>\n",
       "    </tr>\n",
       "    <tr>\n",
       "      <th>31410</th>\n",
       "      <td>1604366790975</td>\n",
       "      <td>189</td>\n",
       "      <td>1</td>\n",
       "    </tr>\n",
       "    <tr>\n",
       "      <th>31411</th>\n",
       "      <td>1604366790975</td>\n",
       "      <td>216</td>\n",
       "      <td>1</td>\n",
       "    </tr>\n",
       "    <tr>\n",
       "      <th>31412</th>\n",
       "      <td>1604366790985</td>\n",
       "      <td>669</td>\n",
       "      <td>1</td>\n",
       "    </tr>\n",
       "  </tbody>\n",
       "</table>\n",
       "<p>31413 rows × 3 columns</p>\n",
       "</div>"
      ],
      "text/plain": [
       "                time size dir\n",
       "0      1604366490254   72   2\n",
       "1      1604366490255  126   1\n",
       "2      1604366490664  118   1\n",
       "3      1604366490688  118   2\n",
       "4      1604366490622   83   2\n",
       "...              ...  ...  ..\n",
       "31408  1604366790975  189   1\n",
       "31409  1604366790975  216   1\n",
       "31410  1604366790975  189   1\n",
       "31411  1604366790975  216   1\n",
       "31412  1604366790985  669   1\n",
       "\n",
       "[31413 rows x 3 columns]"
      ]
     },
     "execution_count": 33,
     "metadata": {},
     "output_type": "execute_result"
    }
   ],
   "source": [
    "dd = pd.DataFrame({\n",
    "    'time': strags.packet_times,\n",
    "    'size': strags.packet_sizes,\n",
    "    'dir' : strags.packet_dirs\n",
    "})\n",
    "dd"
   ]
  },
  {
   "cell_type": "code",
   "execution_count": 39,
   "metadata": {},
   "outputs": [
    {
     "data": {
      "text/plain": [
       "time    int64\n",
       "size    int64\n",
       "dir     int64\n",
       "dtype: object"
      ]
     },
     "execution_count": 39,
     "metadata": {},
     "output_type": "execute_result"
    }
   ],
   "source": [
    "dd.astype(int).dtypes"
   ]
  },
  {
   "cell_type": "code",
   "execution_count": 4,
   "metadata": {},
   "outputs": [],
   "source": [
    "def agg_extended(df):\n",
    "    lists = df.filter(like='packet').apply(lambda ser: ser.str.split(';').str[:-1]).sum()\n",
    "    return pd.DataFrame({\n",
    "        'ptime': lists.packet_times,\n",
    "        'psize': lists.packet_sizes,\n",
    "        'pdir' : lists.packet_dirs\n",
    "    }).astype(int)"
   ]
  },
  {
   "cell_type": "markdown",
   "metadata": {},
   "source": [
    "## Time to compare all video packets to browsing packets"
   ]
  },
  {
   "cell_type": "code",
   "execution_count": 5,
   "metadata": {},
   "outputs": [],
   "source": [
    "video = pd.read_csv('../data/unzipped/pgaddiso-youtube-1x-720p-vpn-linux-clean-20201102b-2.csv')\n",
    "browse = pd.read_csv('../data/unzipped/pgaddiso-novideo-novpn-linux-20201102-0.csv')"
   ]
  },
  {
   "cell_type": "code",
   "execution_count": 21,
   "metadata": {},
   "outputs": [
    {
     "data": {
      "text/plain": [
       "['../data/unzipped/pgaddiso-youtube-1x-720p-vpn-linux-clean-20201102b-0.csv',\n",
       " '../data/unzipped/pgaddiso-youtube-1x-720p-vpn-linux-clean-20201102b-1.csv',\n",
       " '../data/unzipped/pgaddiso-youtube-1x-720p-vpn-linux-clean-20201102b-2.csv',\n",
       " '../data/unzipped/pgaddiso-youtube-1x-720p-vpn-linux-clean-20201102b-3.csv',\n",
       " '../data/unzipped/pgaddiso-youtube-1x-720p-vpn-linux-clean-20201102b-4.csv',\n",
       " '../data/unzipped/pgaddiso-youtube-1x-720p-vpn-linux-clean-20201102b-5.csv']"
      ]
     },
     "execution_count": 21,
     "metadata": {},
     "output_type": "execute_result"
    }
   ],
   "source": [
    "allvidnames = glob.glob('../data/unzipped/*-youtube-*-vpn-*b-*.csv')\n",
    "allvidnames"
   ]
  },
  {
   "cell_type": "code",
   "execution_count": 22,
   "metadata": {},
   "outputs": [
    {
     "data": {
      "text/plain": [
       "['../data/unzipped/pgaddiso-novideo-novpn-linux-20201102-0.csv',\n",
       " '../data/unzipped/pgaddiso-novideo-novpn-linux-20201102-1.csv',\n",
       " '../data/unzipped/pgaddiso-novideo-novpn-linux-20201102-2.csv',\n",
       " '../data/unzipped/pgaddiso-novideo-novpn-linux-20201102-3.csv',\n",
       " '../data/unzipped/pgaddiso-novideo-novpn-linux-20201102-4.csv',\n",
       " '../data/unzipped/pgaddiso-novideo-novpn-linux-20201102-5.csv']"
      ]
     },
     "execution_count": 22,
     "metadata": {},
     "output_type": "execute_result"
    }
   ],
   "source": [
    "allbrowsenames = glob.glob('../data/unzipped/*-novideo*.csv')\n",
    "allbrowsenames"
   ]
  },
  {
   "cell_type": "code",
   "execution_count": 23,
   "metadata": {},
   "outputs": [],
   "source": [
    "allvideo = [\n",
    "    pd.read_csv(vidname) for vidname in allvidnames\n",
    "]\n",
    "allbrowse = [\n",
    "    pd.read_csv(browsename) for browsename in allbrowsenames\n",
    "]"
   ]
  },
  {
   "cell_type": "code",
   "execution_count": 24,
   "metadata": {},
   "outputs": [],
   "source": [
    "vfs = [agg_extended(v) for v in allvideo]\n",
    "bfs = [agg_extended(b) for b in allbrowse]"
   ]
  },
  {
   "cell_type": "code",
   "execution_count": 10,
   "metadata": {},
   "outputs": [
    {
     "data": {
      "text/html": [
       "<div>\n",
       "<style scoped>\n",
       "    .dataframe tbody tr th:only-of-type {\n",
       "        vertical-align: middle;\n",
       "    }\n",
       "\n",
       "    .dataframe tbody tr th {\n",
       "        vertical-align: top;\n",
       "    }\n",
       "\n",
       "    .dataframe thead th {\n",
       "        text-align: right;\n",
       "    }\n",
       "</style>\n",
       "<table border=\"1\" class=\"dataframe\">\n",
       "  <thead>\n",
       "    <tr style=\"text-align: right;\">\n",
       "      <th></th>\n",
       "      <th>Time</th>\n",
       "      <th>IP1</th>\n",
       "      <th>Port1</th>\n",
       "      <th>IP2</th>\n",
       "      <th>Port2</th>\n",
       "      <th>Proto</th>\n",
       "      <th>1-&gt;2Bytes</th>\n",
       "      <th>2-&gt;1Bytes</th>\n",
       "      <th>1-&gt;2Pkts</th>\n",
       "      <th>2-&gt;1Pkts</th>\n",
       "      <th>packet_times</th>\n",
       "      <th>packet_sizes</th>\n",
       "      <th>packet_dirs</th>\n",
       "    </tr>\n",
       "  </thead>\n",
       "  <tbody>\n",
       "    <tr>\n",
       "      <th>0</th>\n",
       "      <td>1604384160</td>\n",
       "      <td>10.0.0.233</td>\n",
       "      <td>54940</td>\n",
       "      <td>255.255.255.255</td>\n",
       "      <td>10001</td>\n",
       "      <td>17</td>\n",
       "      <td>154</td>\n",
       "      <td>0</td>\n",
       "      <td>1</td>\n",
       "      <td>0</td>\n",
       "      <td>1604384160920;</td>\n",
       "      <td>154;</td>\n",
       "      <td>1;</td>\n",
       "    </tr>\n",
       "    <tr>\n",
       "      <th>1</th>\n",
       "      <td>1604384161</td>\n",
       "      <td>FE80::56A6:5CFF:FE92:A02F</td>\n",
       "      <td>0</td>\n",
       "      <td>FF02::1</td>\n",
       "      <td>0</td>\n",
       "      <td>58</td>\n",
       "      <td>160</td>\n",
       "      <td>0</td>\n",
       "      <td>1</td>\n",
       "      <td>0</td>\n",
       "      <td>1604384161576;</td>\n",
       "      <td>160;</td>\n",
       "      <td>1;</td>\n",
       "    </tr>\n",
       "    <tr>\n",
       "      <th>2</th>\n",
       "      <td>1604384161</td>\n",
       "      <td>10.0.0.236</td>\n",
       "      <td>34988</td>\n",
       "      <td>137.110.0.69</td>\n",
       "      <td>443</td>\n",
       "      <td>17</td>\n",
       "      <td>733</td>\n",
       "      <td>532</td>\n",
       "      <td>5</td>\n",
       "      <td>4</td>\n",
       "      <td>1604384161591;1604384161591;1604384161591;1604...</td>\n",
       "      <td>177;162;138;138;138;138;138;118;118;</td>\n",
       "      <td>1;1;1;2;2;1;2;2;1;</td>\n",
       "    </tr>\n",
       "  </tbody>\n",
       "</table>\n",
       "</div>"
      ],
      "text/plain": [
       "         Time                        IP1  Port1              IP2  Port2  \\\n",
       "0  1604384160                 10.0.0.233  54940  255.255.255.255  10001   \n",
       "1  1604384161  FE80::56A6:5CFF:FE92:A02F      0          FF02::1      0   \n",
       "2  1604384161                 10.0.0.236  34988     137.110.0.69    443   \n",
       "\n",
       "   Proto  1->2Bytes  2->1Bytes  1->2Pkts  2->1Pkts  \\\n",
       "0     17        154          0         1         0   \n",
       "1     58        160          0         1         0   \n",
       "2     17        733        532         5         4   \n",
       "\n",
       "                                        packet_times  \\\n",
       "0                                     1604384160920;   \n",
       "1                                     1604384161576;   \n",
       "2  1604384161591;1604384161591;1604384161591;1604...   \n",
       "\n",
       "                           packet_sizes         packet_dirs  \n",
       "0                                  154;                  1;  \n",
       "1                                  160;                  1;  \n",
       "2  177;162;138;138;138;138;138;118;118;  1;1;1;2;2;1;2;2;1;  "
      ]
     },
     "execution_count": 10,
     "metadata": {},
     "output_type": "execute_result"
    }
   ],
   "source": [
    "video.head(3)"
   ]
  },
  {
   "cell_type": "code",
   "execution_count": 11,
   "metadata": {},
   "outputs": [
    {
     "data": {
      "text/html": [
       "<div>\n",
       "<style scoped>\n",
       "    .dataframe tbody tr th:only-of-type {\n",
       "        vertical-align: middle;\n",
       "    }\n",
       "\n",
       "    .dataframe tbody tr th {\n",
       "        vertical-align: top;\n",
       "    }\n",
       "\n",
       "    .dataframe thead th {\n",
       "        text-align: right;\n",
       "    }\n",
       "</style>\n",
       "<table border=\"1\" class=\"dataframe\">\n",
       "  <thead>\n",
       "    <tr style=\"text-align: right;\">\n",
       "      <th></th>\n",
       "      <th>ptime</th>\n",
       "      <th>psize</th>\n",
       "      <th>pdir</th>\n",
       "    </tr>\n",
       "  </thead>\n",
       "  <tbody>\n",
       "    <tr>\n",
       "      <th>0</th>\n",
       "      <td>1604384160920</td>\n",
       "      <td>154</td>\n",
       "      <td>1</td>\n",
       "    </tr>\n",
       "    <tr>\n",
       "      <th>1</th>\n",
       "      <td>1604384161576</td>\n",
       "      <td>160</td>\n",
       "      <td>1</td>\n",
       "    </tr>\n",
       "    <tr>\n",
       "      <th>2</th>\n",
       "      <td>1604384161591</td>\n",
       "      <td>177</td>\n",
       "      <td>1</td>\n",
       "    </tr>\n",
       "    <tr>\n",
       "      <th>3</th>\n",
       "      <td>1604384161591</td>\n",
       "      <td>162</td>\n",
       "      <td>1</td>\n",
       "    </tr>\n",
       "    <tr>\n",
       "      <th>4</th>\n",
       "      <td>1604384161591</td>\n",
       "      <td>138</td>\n",
       "      <td>1</td>\n",
       "    </tr>\n",
       "    <tr>\n",
       "      <th>5</th>\n",
       "      <td>1604384161675</td>\n",
       "      <td>138</td>\n",
       "      <td>2</td>\n",
       "    </tr>\n",
       "    <tr>\n",
       "      <th>6</th>\n",
       "      <td>1604384161675</td>\n",
       "      <td>138</td>\n",
       "      <td>2</td>\n",
       "    </tr>\n",
       "    <tr>\n",
       "      <th>7</th>\n",
       "      <td>1604384161676</td>\n",
       "      <td>138</td>\n",
       "      <td>1</td>\n",
       "    </tr>\n",
       "    <tr>\n",
       "      <th>8</th>\n",
       "      <td>1604384161680</td>\n",
       "      <td>138</td>\n",
       "      <td>2</td>\n",
       "    </tr>\n",
       "    <tr>\n",
       "      <th>9</th>\n",
       "      <td>1604384161958</td>\n",
       "      <td>118</td>\n",
       "      <td>2</td>\n",
       "    </tr>\n",
       "    <tr>\n",
       "      <th>10</th>\n",
       "      <td>1604384161958</td>\n",
       "      <td>118</td>\n",
       "      <td>1</td>\n",
       "    </tr>\n",
       "    <tr>\n",
       "      <th>11</th>\n",
       "      <td>1604384161591</td>\n",
       "      <td>136</td>\n",
       "      <td>1</td>\n",
       "    </tr>\n",
       "    <tr>\n",
       "      <th>12</th>\n",
       "      <td>1604384162191</td>\n",
       "      <td>136</td>\n",
       "      <td>1</td>\n",
       "    </tr>\n",
       "    <tr>\n",
       "      <th>13</th>\n",
       "      <td>1604384162429</td>\n",
       "      <td>172</td>\n",
       "      <td>1</td>\n",
       "    </tr>\n",
       "    <tr>\n",
       "      <th>14</th>\n",
       "      <td>1604384162511</td>\n",
       "      <td>172</td>\n",
       "      <td>2</td>\n",
       "    </tr>\n",
       "    <tr>\n",
       "      <th>15</th>\n",
       "      <td>1604384162512</td>\n",
       "      <td>126</td>\n",
       "      <td>1</td>\n",
       "    </tr>\n",
       "    <tr>\n",
       "      <th>16</th>\n",
       "      <td>1604384162896</td>\n",
       "      <td>118</td>\n",
       "      <td>1</td>\n",
       "    </tr>\n",
       "    <tr>\n",
       "      <th>17</th>\n",
       "      <td>1604384162896</td>\n",
       "      <td>118</td>\n",
       "      <td>1</td>\n",
       "    </tr>\n",
       "    <tr>\n",
       "      <th>18</th>\n",
       "      <td>1604384162896</td>\n",
       "      <td>118</td>\n",
       "      <td>1</td>\n",
       "    </tr>\n",
       "    <tr>\n",
       "      <th>19</th>\n",
       "      <td>1604384162896</td>\n",
       "      <td>118</td>\n",
       "      <td>1</td>\n",
       "    </tr>\n",
       "  </tbody>\n",
       "</table>\n",
       "</div>"
      ],
      "text/plain": [
       "            ptime  psize  pdir\n",
       "0   1604384160920    154     1\n",
       "1   1604384161576    160     1\n",
       "2   1604384161591    177     1\n",
       "3   1604384161591    162     1\n",
       "4   1604384161591    138     1\n",
       "5   1604384161675    138     2\n",
       "6   1604384161675    138     2\n",
       "7   1604384161676    138     1\n",
       "8   1604384161680    138     2\n",
       "9   1604384161958    118     2\n",
       "10  1604384161958    118     1\n",
       "11  1604384161591    136     1\n",
       "12  1604384162191    136     1\n",
       "13  1604384162429    172     1\n",
       "14  1604384162511    172     2\n",
       "15  1604384162512    126     1\n",
       "16  1604384162896    118     1\n",
       "17  1604384162896    118     1\n",
       "18  1604384162896    118     1\n",
       "19  1604384162896    118     1"
      ]
     },
     "execution_count": 11,
     "metadata": {},
     "output_type": "execute_result"
    }
   ],
   "source": [
    "vf.head(20)"
   ]
  },
  {
   "cell_type": "code",
   "execution_count": 25,
   "metadata": {},
   "outputs": [],
   "source": [
    "dfs = pd.concat([\n",
    "    *[v.assign(activity='video') for v in vfs],\n",
    "    *[b.assign(activity='browsing') for b in bfs]\n",
    "])"
   ]
  },
  {
   "cell_type": "code",
   "execution_count": 27,
   "metadata": {},
   "outputs": [
    {
     "data": {
      "text/html": [
       "<div>\n",
       "<style scoped>\n",
       "    .dataframe tbody tr th:only-of-type {\n",
       "        vertical-align: middle;\n",
       "    }\n",
       "\n",
       "    .dataframe tbody tr th {\n",
       "        vertical-align: top;\n",
       "    }\n",
       "\n",
       "    .dataframe thead th {\n",
       "        text-align: right;\n",
       "    }\n",
       "</style>\n",
       "<table border=\"1\" class=\"dataframe\">\n",
       "  <thead>\n",
       "    <tr style=\"text-align: right;\">\n",
       "      <th></th>\n",
       "      <th>activity</th>\n",
       "      <th>browsing</th>\n",
       "      <th>video</th>\n",
       "    </tr>\n",
       "  </thead>\n",
       "  <tbody>\n",
       "    <tr>\n",
       "      <th rowspan=\"8\" valign=\"top\">psize</th>\n",
       "      <th>count</th>\n",
       "      <td>126032.00</td>\n",
       "      <td>335392.00</td>\n",
       "    </tr>\n",
       "    <tr>\n",
       "      <th>mean</th>\n",
       "      <td>547.18</td>\n",
       "      <td>964.46</td>\n",
       "    </tr>\n",
       "    <tr>\n",
       "      <th>std</th>\n",
       "      <td>629.77</td>\n",
       "      <td>555.72</td>\n",
       "    </tr>\n",
       "    <tr>\n",
       "      <th>min</th>\n",
       "      <td>28.00</td>\n",
       "      <td>28.00</td>\n",
       "    </tr>\n",
       "    <tr>\n",
       "      <th>25%</th>\n",
       "      <td>60.00</td>\n",
       "      <td>166.00</td>\n",
       "    </tr>\n",
       "    <tr>\n",
       "      <th>50%</th>\n",
       "      <td>111.00</td>\n",
       "      <td>1346.00</td>\n",
       "    </tr>\n",
       "    <tr>\n",
       "      <th>75%</th>\n",
       "      <td>1436.00</td>\n",
       "      <td>1346.00</td>\n",
       "    </tr>\n",
       "    <tr>\n",
       "      <th>max</th>\n",
       "      <td>1500.00</td>\n",
       "      <td>1366.00</td>\n",
       "    </tr>\n",
       "    <tr>\n",
       "      <th rowspan=\"8\" valign=\"top\">pdir</th>\n",
       "      <th>count</th>\n",
       "      <td>126032.00</td>\n",
       "      <td>335392.00</td>\n",
       "    </tr>\n",
       "    <tr>\n",
       "      <th>mean</th>\n",
       "      <td>1.56</td>\n",
       "      <td>1.71</td>\n",
       "    </tr>\n",
       "    <tr>\n",
       "      <th>std</th>\n",
       "      <td>0.50</td>\n",
       "      <td>0.45</td>\n",
       "    </tr>\n",
       "    <tr>\n",
       "      <th>min</th>\n",
       "      <td>1.00</td>\n",
       "      <td>1.00</td>\n",
       "    </tr>\n",
       "    <tr>\n",
       "      <th>25%</th>\n",
       "      <td>1.00</td>\n",
       "      <td>1.00</td>\n",
       "    </tr>\n",
       "    <tr>\n",
       "      <th>50%</th>\n",
       "      <td>2.00</td>\n",
       "      <td>2.00</td>\n",
       "    </tr>\n",
       "    <tr>\n",
       "      <th>75%</th>\n",
       "      <td>2.00</td>\n",
       "      <td>2.00</td>\n",
       "    </tr>\n",
       "    <tr>\n",
       "      <th>max</th>\n",
       "      <td>2.00</td>\n",
       "      <td>2.00</td>\n",
       "    </tr>\n",
       "  </tbody>\n",
       "</table>\n",
       "</div>"
      ],
      "text/plain": [
       "activity      browsing      video\n",
       "psize count  126032.00  335392.00\n",
       "      mean      547.18     964.46\n",
       "      std       629.77     555.72\n",
       "      min        28.00      28.00\n",
       "      25%        60.00     166.00\n",
       "      50%       111.00    1346.00\n",
       "      75%      1436.00    1346.00\n",
       "      max      1500.00    1366.00\n",
       "pdir  count  126032.00  335392.00\n",
       "      mean        1.56       1.71\n",
       "      std         0.50       0.45\n",
       "      min         1.00       1.00\n",
       "      25%         1.00       1.00\n",
       "      50%         2.00       2.00\n",
       "      75%         2.00       2.00\n",
       "      max         2.00       2.00"
      ]
     },
     "execution_count": 27,
     "metadata": {},
     "output_type": "execute_result"
    }
   ],
   "source": [
    "dfs.groupby('activity').describe()[['psize', 'pdir']].round(2).T"
   ]
  },
  {
   "cell_type": "code",
   "execution_count": 46,
   "metadata": {},
   "outputs": [
    {
     "data": {
      "text/plain": [
       "[Text(0, 0, 'browsing'), Text(0, 0, 'streaming')]"
      ]
     },
     "execution_count": 46,
     "metadata": {},
     "output_type": "execute_result"
    },
    {
     "data": {
      "image/png": "[encoded data removed]",
      "text/plain": [
       "<Figure size 432x288 with 1 Axes>"
      ]
     },
     "metadata": {
      "needs_background": "light"
     },
     "output_type": "display_data"
    }
   ],
   "source": [
    "fix, ax = plt.subplots()\n",
    "plt.boxplot(dfs.loc[dfs.activity == 'browsing', 'psize'], positions=[1])\n",
    "plt.boxplot(dfs.loc[dfs.activity == 'video', 'psize'], positions=[2])\n",
    "plt.title('Packet size distribution for browsing versus streaming')\n",
    "ax.set_xticklabels(['browsing', 'streaming'])\n"
   ]
  },
  {
   "cell_type": "code",
   "execution_count": 60,
   "metadata": {},
   "outputs": [
    {
     "data": {
      "text/plain": [
       "Text(0, 0.5, 'Density')"
      ]
     },
     "execution_count": 60,
     "metadata": {},
     "output_type": "execute_result"
    },
    {
     "data": {
      "image/png": "[encoded data removed]",
      "text/plain": [
       "<Figure size 432x288 with 1 Axes>"
      ]
     },
     "metadata": {
      "needs_background": "light"
     },
     "output_type": "display_data"
    }
   ],
   "source": [
    "fix, ax = plt.subplots()\n",
    "config = {\n",
    "    'alpha': 0.7,\n",
    "    'bins': np.arange(0, 1500+100, 100),\n",
    "    'density': True\n",
    "}\n",
    "\n",
    "plt.hist(dfs.loc[dfs.activity == 'browsing', 'psize'], **{**config, 'alpha':1})\n",
    "plt.hist(dfs.loc[dfs.activity == 'video', 'psize'], **config)\n",
    "plt.title('Packet size distribution for browsing versus streaming')\n",
    "plt.legend(labels=['browsing', 'streaming'])\n",
    "plt.xlabel('Packet size (MTU=1500)')\n",
    "plt.ylabel('Density')"
   ]
  },
  {
   "cell_type": "code",
   "execution_count": 68,
   "metadata": {},
   "outputs": [
    {
     "data": {
      "text/plain": [
       "2    70866\n",
       "1    55166\n",
       "Name: pdir, dtype: int64"
      ]
     },
     "execution_count": 68,
     "metadata": {},
     "output_type": "execute_result"
    }
   ],
   "source": [
    "dfs.loc[dfs.activity == 'browsing', 'pdir'].value_counts()"
   ]
  },
  {
   "cell_type": "code",
   "execution_count": 92,
   "metadata": {},
   "outputs": [
    {
     "data": {
      "text/plain": [
       "<matplotlib.lines.Line2D at 0x7f4705aa5f70>"
      ]
     },
     "execution_count": 92,
     "metadata": {},
     "output_type": "execute_result"
    },
    {
     "data": {
      "image/png": "[encoded data removed]",
      "text/plain": [
       "<Figure size 432x288 with 1 Axes>"
      ]
     },
     "metadata": {
      "needs_background": "light"
     },
     "output_type": "display_data"
    }
   ],
   "source": [
    "fix, ax = plt.subplots()\n",
    "config = {\n",
    "#     'alpha': 0.7,\n",
    "#     'bins': np.arange(0, 1500+100, 100),\n",
    "#     'density': True\n",
    "}\n",
    "width = 0.35\n",
    "\n",
    "bdirs = dfs.loc[dfs.activity == 'browsing', 'pdir'].value_counts(True)\n",
    "vdirs = dfs.loc[dfs.activity == 'video', 'pdir'].value_counts(True)\n",
    "\n",
    "ax.bar(bdirs.index-width/2, bdirs, width, label='Browsing')\n",
    "ax.bar(vdirs.index+width/2, vdirs, width, label='Streaming')\n",
    "# plt.hist(dfs.loc[dfs.activity == 'video', 'pdir'], **config)\n",
    "plt.title('Packet directions for browsing versus streaming')\n",
    "ax.legend()\n",
    "ax.set_xticks([1,2])\n",
    "ax.set_xticklabels(['Sending', 'Receiving'])\n",
    "plt.ylabel('Percent')\n",
    "ax.axhline(0.5, c='k', linestyle='dashed', linewidth=1)"
   ]
  },
  {
   "cell_type": "code",
   "execution_count": 121,
   "metadata": {},
   "outputs": [
    {
     "data": {
      "text/plain": [
       "Timestamp('2020-11-03 05:26:16.087000')"
      ]
     },
     "execution_count": 121,
     "metadata": {},
     "output_type": "execute_result"
    }
   ],
   "source": [
    "btimes.min()"
   ]
  },
  {
   "cell_type": "code",
   "execution_count": 126,
   "metadata": {},
   "outputs": [
    {
     "data": {
      "text/plain": [
       "1604385363.563"
      ]
     },
     "execution_count": 126,
     "metadata": {},
     "output_type": "execute_result"
    }
   ],
   "source": [
    "vtimes.max().timestamp()"
   ]
  },
  {
   "cell_type": "code",
   "execution_count": 110,
   "metadata": {},
   "outputs": [
    {
     "data": {
      "text/plain": [
       "1604381176.087"
      ]
     },
     "execution_count": 110,
     "metadata": {},
     "output_type": "execute_result"
    }
   ],
   "source": [
    "_.timestamp(unit=s)"
   ]
  },
  {
   "cell_type": "code",
   "execution_count": 133,
   "metadata": {},
   "outputs": [
    {
     "data": {
      "image/png": "[encoded data removed]",
      "text/plain": [
       "<Figure size 432x288 with 1 Axes>"
      ]
     },
     "metadata": {
      "needs_background": "light"
     },
     "output_type": "display_data"
    }
   ],
   "source": [
    "fix, ax = plt.subplots()\n",
    "config = {\n",
    "#     'alpha': 0.7,\n",
    "    'bins': 60,\n",
    "    'density': True\n",
    "}\n",
    "\n",
    "btimes = pd.to_datetime(dfs.loc[dfs.activity == 'browsing', 'ptime'], unit='ms')\n",
    "vtimes = pd.to_datetime(dfs.loc[dfs.activity == 'video', 'ptime'], unit='ms')\n",
    "\n",
    "plt.hist(btimes, **config)\n",
    "plt.hist(vtimes, **config)\n",
    "plt.title('Packet activity over time (similar to line plot of total packets)')\n",
    "plt.legend(labels=['browsing', 'streaming'])\n",
    "plt.xlabel('Time (per half-minute)')\n",
    "plt.ylabel('Density')\n",
    "# ax.set_xticks([\n",
    "#     d.timestamp() for d in\n",
    "#     [btimes.min(), btimes.max(), vtimes.min(), vtimes.max()]\n",
    "# ])\n",
    "plt.tight_layout()"
   ]
  },
  {
   "cell_type": "code",
   "execution_count": 159,
   "metadata": {},
   "outputs": [
    {
     "data": {
      "image/png": "[encoded data removed]",
      "text/plain": [
       "<Figure size 432x288 with 1 Axes>"
      ]
     },
     "metadata": {
      "needs_background": "light"
     },
     "output_type": "display_data"
    }
   ],
   "source": [
    "fix, ax = plt.subplots()\n",
    "config = {\n",
    "    'alpha': 0.7,\n",
    "    'bins': np.arange(0, 100, 1),\n",
    "    'density': True\n",
    "}\n",
    "\n",
    "bdiffs = dfs.loc[dfs.activity == 'browsing', 'ptime'].sort_values().diff()\n",
    "vdiffs = dfs.loc[dfs.activity == 'video', 'ptime'].sort_values().diff()\n",
    "\n",
    "plt.hist(bdiffs, **{**config, 'alpha':1})\n",
    "plt.hist(vdiffs, **config)\n",
    "plt.title('log(Inter-packet delay) distribution for browsing vs streaming')\n",
    "plt.legend(labels=['browsing', 'streaming'])\n",
    "plt.xlabel('Delay (ms)')\n",
    "plt.ylabel('Density')\n",
    "plt.xscale('log')\n",
    "# ax.set_xticklabels([10, 100])\n",
    "plt.tight_layout()"
   ]
  },
  {
   "cell_type": "code",
   "execution_count": 150,
   "metadata": {},
   "outputs": [
    {
     "data": {
      "text/html": [
       "<div>\n",
       "<style scoped>\n",
       "    .dataframe tbody tr th:only-of-type {\n",
       "        vertical-align: middle;\n",
       "    }\n",
       "\n",
       "    .dataframe tbody tr th {\n",
       "        vertical-align: top;\n",
       "    }\n",
       "\n",
       "    .dataframe thead th {\n",
       "        text-align: right;\n",
       "    }\n",
       "</style>\n",
       "<table border=\"1\" class=\"dataframe\">\n",
       "  <thead>\n",
       "    <tr style=\"text-align: right;\">\n",
       "      <th></th>\n",
       "      <th>Time</th>\n",
       "      <th>IP1</th>\n",
       "      <th>Port1</th>\n",
       "      <th>IP2</th>\n",
       "      <th>Port2</th>\n",
       "      <th>Proto</th>\n",
       "      <th>1-&gt;2Bytes</th>\n",
       "      <th>2-&gt;1Bytes</th>\n",
       "      <th>1-&gt;2Pkts</th>\n",
       "      <th>2-&gt;1Pkts</th>\n",
       "      <th>packet_times</th>\n",
       "      <th>packet_sizes</th>\n",
       "      <th>packet_dirs</th>\n",
       "    </tr>\n",
       "  </thead>\n",
       "  <tbody>\n",
       "    <tr>\n",
       "      <th>0</th>\n",
       "      <td>1604384160</td>\n",
       "      <td>10.0.0.233</td>\n",
       "      <td>54940</td>\n",
       "      <td>255.255.255.255</td>\n",
       "      <td>10001</td>\n",
       "      <td>17</td>\n",
       "      <td>154</td>\n",
       "      <td>0</td>\n",
       "      <td>1</td>\n",
       "      <td>0</td>\n",
       "      <td>1604384160920;</td>\n",
       "      <td>154;</td>\n",
       "      <td>1;</td>\n",
       "    </tr>\n",
       "    <tr>\n",
       "      <th>1</th>\n",
       "      <td>1604384161</td>\n",
       "      <td>FE80::56A6:5CFF:FE92:A02F</td>\n",
       "      <td>0</td>\n",
       "      <td>FF02::1</td>\n",
       "      <td>0</td>\n",
       "      <td>58</td>\n",
       "      <td>160</td>\n",
       "      <td>0</td>\n",
       "      <td>1</td>\n",
       "      <td>0</td>\n",
       "      <td>1604384161576;</td>\n",
       "      <td>160;</td>\n",
       "      <td>1;</td>\n",
       "    </tr>\n",
       "    <tr>\n",
       "      <th>2</th>\n",
       "      <td>1604384161</td>\n",
       "      <td>10.0.0.236</td>\n",
       "      <td>34988</td>\n",
       "      <td>137.110.0.69</td>\n",
       "      <td>443</td>\n",
       "      <td>17</td>\n",
       "      <td>733</td>\n",
       "      <td>532</td>\n",
       "      <td>5</td>\n",
       "      <td>4</td>\n",
       "      <td>1604384161591;1604384161591;1604384161591;1604...</td>\n",
       "      <td>177;162;138;138;138;138;138;118;118;</td>\n",
       "      <td>1;1;1;2;2;1;2;2;1;</td>\n",
       "    </tr>\n",
       "    <tr>\n",
       "      <th>3</th>\n",
       "      <td>1604384161</td>\n",
       "      <td>FE80::E89D:3F75:7882:65A6</td>\n",
       "      <td>0</td>\n",
       "      <td>FF02::16</td>\n",
       "      <td>0</td>\n",
       "      <td>0</td>\n",
       "      <td>136</td>\n",
       "      <td>0</td>\n",
       "      <td>1</td>\n",
       "      <td>0</td>\n",
       "      <td>1604384161591;</td>\n",
       "      <td>136;</td>\n",
       "      <td>1;</td>\n",
       "    </tr>\n",
       "    <tr>\n",
       "      <th>4</th>\n",
       "      <td>1604384162</td>\n",
       "      <td>FE80::E89D:3F75:7882:65A6</td>\n",
       "      <td>0</td>\n",
       "      <td>FF02::16</td>\n",
       "      <td>0</td>\n",
       "      <td>0</td>\n",
       "      <td>136</td>\n",
       "      <td>0</td>\n",
       "      <td>1</td>\n",
       "      <td>0</td>\n",
       "      <td>1604384162191;</td>\n",
       "      <td>136;</td>\n",
       "      <td>1;</td>\n",
       "    </tr>\n",
       "  </tbody>\n",
       "</table>\n",
       "</div>"
      ],
      "text/plain": [
       "         Time                        IP1  Port1              IP2  Port2  \\\n",
       "0  1604384160                 10.0.0.233  54940  255.255.255.255  10001   \n",
       "1  1604384161  FE80::56A6:5CFF:FE92:A02F      0          FF02::1      0   \n",
       "2  1604384161                 10.0.0.236  34988     137.110.0.69    443   \n",
       "3  1604384161  FE80::E89D:3F75:7882:65A6      0         FF02::16      0   \n",
       "4  1604384162  FE80::E89D:3F75:7882:65A6      0         FF02::16      0   \n",
       "\n",
       "   Proto  1->2Bytes  2->1Bytes  1->2Pkts  2->1Pkts  \\\n",
       "0     17        154          0         1         0   \n",
       "1     58        160          0         1         0   \n",
       "2     17        733        532         5         4   \n",
       "3      0        136          0         1         0   \n",
       "4      0        136          0         1         0   \n",
       "\n",
       "                                        packet_times  \\\n",
       "0                                     1604384160920;   \n",
       "1                                     1604384161576;   \n",
       "2  1604384161591;1604384161591;1604384161591;1604...   \n",
       "3                                     1604384161591;   \n",
       "4                                     1604384162191;   \n",
       "\n",
       "                           packet_sizes         packet_dirs  \n",
       "0                                  154;                  1;  \n",
       "1                                  160;                  1;  \n",
       "2  177;162;138;138;138;138;138;118;118;  1;1;1;2;2;1;2;2;1;  \n",
       "3                                  136;                  1;  \n",
       "4                                  136;                  1;  "
      ]
     },
     "execution_count": 150,
     "metadata": {},
     "output_type": "execute_result"
    }
   ],
   "source": [
    "video.head()"
   ]
  },
  {
   "cell_type": "code",
   "execution_count": 151,
   "metadata": {},
   "outputs": [
    {
     "data": {
      "text/html": [
       "<div>\n",
       "<style scoped>\n",
       "    .dataframe tbody tr th:only-of-type {\n",
       "        vertical-align: middle;\n",
       "    }\n",
       "\n",
       "    .dataframe tbody tr th {\n",
       "        vertical-align: top;\n",
       "    }\n",
       "\n",
       "    .dataframe thead th {\n",
       "        text-align: right;\n",
       "    }\n",
       "</style>\n",
       "<table border=\"1\" class=\"dataframe\">\n",
       "  <thead>\n",
       "    <tr style=\"text-align: right;\">\n",
       "      <th></th>\n",
       "      <th>ptime</th>\n",
       "      <th>psize</th>\n",
       "      <th>pdir</th>\n",
       "    </tr>\n",
       "  </thead>\n",
       "  <tbody>\n",
       "    <tr>\n",
       "      <th>0</th>\n",
       "      <td>1604384161591</td>\n",
       "      <td>177</td>\n",
       "      <td>1</td>\n",
       "    </tr>\n",
       "    <tr>\n",
       "      <th>1</th>\n",
       "      <td>1604384161591</td>\n",
       "      <td>162</td>\n",
       "      <td>1</td>\n",
       "    </tr>\n",
       "    <tr>\n",
       "      <th>2</th>\n",
       "      <td>1604384161591</td>\n",
       "      <td>138</td>\n",
       "      <td>1</td>\n",
       "    </tr>\n",
       "    <tr>\n",
       "      <th>3</th>\n",
       "      <td>1604384161675</td>\n",
       "      <td>138</td>\n",
       "      <td>2</td>\n",
       "    </tr>\n",
       "    <tr>\n",
       "      <th>4</th>\n",
       "      <td>1604384161675</td>\n",
       "      <td>138</td>\n",
       "      <td>2</td>\n",
       "    </tr>\n",
       "    <tr>\n",
       "      <th>...</th>\n",
       "      <td>...</td>\n",
       "      <td>...</td>\n",
       "      <td>...</td>\n",
       "    </tr>\n",
       "    <tr>\n",
       "      <th>48532</th>\n",
       "      <td>1604384458064</td>\n",
       "      <td>118</td>\n",
       "      <td>1</td>\n",
       "    </tr>\n",
       "    <tr>\n",
       "      <th>48533</th>\n",
       "      <td>1604384458092</td>\n",
       "      <td>118</td>\n",
       "      <td>2</td>\n",
       "    </tr>\n",
       "    <tr>\n",
       "      <th>48534</th>\n",
       "      <td>1604384458154</td>\n",
       "      <td>118</td>\n",
       "      <td>2</td>\n",
       "    </tr>\n",
       "    <tr>\n",
       "      <th>48535</th>\n",
       "      <td>1604384460182</td>\n",
       "      <td>170</td>\n",
       "      <td>2</td>\n",
       "    </tr>\n",
       "    <tr>\n",
       "      <th>48536</th>\n",
       "      <td>1604384460183</td>\n",
       "      <td>118</td>\n",
       "      <td>1</td>\n",
       "    </tr>\n",
       "  </tbody>\n",
       "</table>\n",
       "<p>48537 rows × 3 columns</p>\n",
       "</div>"
      ],
      "text/plain": [
       "               ptime  psize  pdir\n",
       "0      1604384161591    177     1\n",
       "1      1604384161591    162     1\n",
       "2      1604384161591    138     1\n",
       "3      1604384161675    138     2\n",
       "4      1604384161675    138     2\n",
       "...              ...    ...   ...\n",
       "48532  1604384458064    118     1\n",
       "48533  1604384458092    118     2\n",
       "48534  1604384458154    118     2\n",
       "48535  1604384460182    170     2\n",
       "48536  1604384460183    118     1\n",
       "\n",
       "[48537 rows x 3 columns]"
      ]
     },
     "execution_count": 151,
     "metadata": {},
     "output_type": "execute_result"
    }
   ],
   "source": [
    "vflow = agg_extended(video[video.IP2 == '137.110.0.69'])\n",
    "vflow"
   ]
  },
  {
   "cell_type": "code",
   "execution_count": 171,
   "metadata": {},
   "outputs": [
    {
     "data": {
      "image/png": "[encoded data removed]",
      "text/plain": [
       "<Figure size 432x288 with 1 Axes>"
      ]
     },
     "metadata": {
      "needs_background": "light"
     },
     "output_type": "display_data"
    }
   ],
   "source": [
    "vflow[vflow.pdir == 2].ptime.diff().plot.hist(bins=np.arange(0,100,1), density=True)\n",
    "plt.title('log(Inter-packet delay) distribution for VPN --> Local traffic flow')\n",
    "plt.legend(labels=['streaming'])\n",
    "plt.xlabel('Delay (ms)')\n",
    "plt.ylabel('Density')\n",
    "plt.xscale('log')\n",
    "plt.tight_layout()"
   ]
  },
  {
   "cell_type": "code",
   "execution_count": null,
   "metadata": {},
   "outputs": [],
   "source": []
  },
  {
   "cell_type": "code",
   "execution_count": null,
   "metadata": {},
   "outputs": [],
   "source": []
  },
  {
   "cell_type": "code",
   "execution_count": 148,
   "metadata": {},
   "outputs": [
    {
     "data": {
      "image/png": "[encoded data removed]",
      "text/plain": [
       "<Figure size 432x288 with 1 Axes>"
      ]
     },
     "metadata": {
      "needs_background": "light"
     },
     "output_type": "display_data"
    }
   ],
   "source": [
    "fix, ax = plt.subplots()\n",
    "config = {\n",
    "    'alpha': 0.7,\n",
    "    'bins': np.arange(0, 100, 10),\n",
    "    'density': True\n",
    "}\n",
    "\n",
    "bdiffs = dfs.loc[dfs.activity == 'browsing', 'ptime'].sort_values().diff()\n",
    "vdiffs = dfs.loc[dfs.activity == 'video', 'ptime'].sort_values().diff()\n",
    "\n",
    "plt.hist(bdiffs, **config)\n",
    "plt.hist(vdiffs, **config)\n",
    "plt.title('log(Inter-packet delay) distribution for browsing vs streaming')\n",
    "plt.legend(labels=['browsing', 'streaming'])\n",
    "plt.xlabel('Delay (ms)')\n",
    "plt.ylabel('Density')\n",
    "plt.xscale('log')\n",
    "# ax.set_xticklabels([10, 100])\n",
    "plt.tight_layout()"
   ]
  },
  {
   "cell_type": "code",
   "execution_count": null,
   "metadata": {},
   "outputs": [],
   "source": []
  },
  {
   "cell_type": "code",
   "execution_count": null,
   "metadata": {},
   "outputs": [],
   "source": []
  },
  {
   "cell_type": "code",
   "execution_count": null,
   "metadata": {},
   "outputs": [],
   "source": []
  },
  {
   "cell_type": "code",
   "execution_count": null,
   "metadata": {},
   "outputs": [],
   "source": []
  },
  {
   "cell_type": "code",
   "execution_count": null,
   "metadata": {},
   "outputs": [],
   "source": []
  },
  {
   "cell_type": "code",
   "execution_count": null,
   "metadata": {},
   "outputs": [],
   "source": []
  },
  {
   "cell_type": "code",
   "execution_count": null,
   "metadata": {},
   "outputs": [],
   "source": []
  },
  {
   "cell_type": "code",
   "execution_count": null,
   "metadata": {},
   "outputs": [],
   "source": []
  },
  {
   "cell_type": "code",
   "execution_count": 86,
   "metadata": {},
   "outputs": [],
   "source": [
    "# Obviously not perfect -- but goes to show that even just looking at the\n",
    "# average packet size can be indication of whether or not streaming is occurring\n",
    "#\n",
    "# Additionally, while direction 2 doesn't *always* mean receiving data, this\n",
    "# does seem to suggest that we can see we're receiving more than we're sending.\n",
    "#\n",
    "# This can work in our favor since we noticed that *our* VPN uses almost all UDP"
   ]
  },
  {
   "cell_type": "code",
   "execution_count": 85,
   "metadata": {},
   "outputs": [
    {
     "data": {
      "text/plain": [
       "17    239\n",
       "6      12\n",
       "Name: Proto, dtype: int64"
      ]
     },
     "execution_count": 85,
     "metadata": {},
     "output_type": "execute_result"
    }
   ],
   "source": [
    "video[video.IP2.str.startswith('137')].Proto.value_counts()"
   ]
  },
  {
   "cell_type": "code",
   "execution_count": 138,
   "metadata": {},
   "outputs": [],
   "source": [
    "def packetdiffs(df):\n",
    "    return np.hstack(\n",
    "        df['packet_times']\n",
    "        .apply(lambda pstring: np.diff(\n",
    "            [int(t) for t in pstring.split(';')[:-1]]\n",
    "        ))\n",
    "    )"
   ]
  },
  {
   "cell_type": "code",
   "execution_count": 139,
   "metadata": {},
   "outputs": [],
   "source": [
    "vdiffs = packetdiffs(video)\n",
    "bdiffs = packetdiffs(browse)"
   ]
  },
  {
   "cell_type": "code",
   "execution_count": 152,
   "metadata": {},
   "outputs": [
    {
     "data": {
      "text/plain": [
       "(array([0.90559299, 0.0572186 , 0.00924187, 0.00555985, 0.00537575,\n",
       "        0.00544939, 0.0041975 , 0.00235649, 0.00500755]),\n",
       " array([0, 1, 2, 3, 4, 5, 6, 7, 8, 9]),\n",
       " <a list of 9 Patch objects>)"
      ]
     },
     "execution_count": 152,
     "metadata": {},
     "output_type": "execute_result"
    },
    {
     "data": {
      "image/png": "[encoded data removed]",
      "text/plain": [
       "<Figure size 432x288 with 1 Axes>"
      ]
     },
     "metadata": {
      "needs_background": "light"
     },
     "output_type": "display_data"
    }
   ],
   "source": [
    "bins = np.arange(0, 10, 1)\n",
    "\n",
    "ax = plt.hist(vdiffs, density=True, alpha=0.5, bins=bins)\n",
    "plt.hist(bdiffs, density=True, alpha=0.5, bins=bins)"
   ]
  },
  {
   "cell_type": "code",
   "execution_count": 155,
   "metadata": {},
   "outputs": [
    {
     "data": {
      "text/plain": [
       "2.1958057851239667"
      ]
     },
     "execution_count": 155,
     "metadata": {},
     "output_type": "execute_result"
    }
   ],
   "source": [
    "vdiffs.mean()"
   ]
  },
  {
   "cell_type": "code",
   "execution_count": 157,
   "metadata": {},
   "outputs": [
    {
     "data": {
      "text/plain": [
       "25.410816069493954"
      ]
     },
     "execution_count": 157,
     "metadata": {},
     "output_type": "execute_result"
    }
   ],
   "source": [
    "vdiffs.std()"
   ]
  },
  {
   "cell_type": "code",
   "execution_count": 156,
   "metadata": {},
   "outputs": [
    {
     "data": {
      "text/plain": [
       "5.328427291798475"
      ]
     },
     "execution_count": 156,
     "metadata": {},
     "output_type": "execute_result"
    }
   ],
   "source": [
    "bdiffs.mean()"
   ]
  },
  {
   "cell_type": "code",
   "execution_count": 158,
   "metadata": {},
   "outputs": [
    {
     "data": {
      "text/plain": [
       "34.29519342054446"
      ]
     },
     "execution_count": 158,
     "metadata": {},
     "output_type": "execute_result"
    }
   ],
   "source": [
    "bdiffs.std()"
   ]
  },
  {
   "cell_type": "code",
   "execution_count": null,
   "metadata": {},
   "outputs": [],
   "source": []
  },
  {
   "cell_type": "code",
   "execution_count": null,
   "metadata": {},
   "outputs": [],
   "source": []
  },
  {
   "cell_type": "code",
   "execution_count": null,
   "metadata": {},
   "outputs": [],
   "source": []
  },
  {
   "cell_type": "code",
   "execution_count": null,
   "metadata": {},
   "outputs": [],
   "source": []
  }
 ],
 "metadata": {
  "kernelspec": {
   "display_name": "Python 3",
   "language": "python",
   "name": "python3"
  },
  "language_info": {
   "codemirror_mode": {
    "name": "ipython",
    "version": 3
   },
   "file_extension": ".py",
   "mimetype": "text/x-python",
   "name": "python",
   "nbconvert_exporter": "python",
   "pygments_lexer": "ipython3",
   "version": "3.8.3"
  }
 },
 "nbformat": 4,
 "nbformat_minor": 4
}
